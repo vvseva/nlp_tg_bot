{
 "cells": [
  {
   "cell_type": "markdown",
   "source": [
    "\n",
    "Задание для личного проекта, который нужно будет сдавать для оценки:\n",
    "# Написать чат бота, который будет говорить погоду в двух городах - Москва и СПб\n",
    "# Бот должен уметь здороваться, прощаться.\n",
    "# Бот должен понимать такие даты, как: сейчас, сегодня, завтра.\n",
    "# Попрощаться - значит закончить беседу (после прощания, он не должен писать никаких сообщений пока вы не напишите)\n",
    "# Бот должен как-то реагировать на непонятные высказывания\n",
    "# Базу погоды можно составить самим - на два дня, на два города или использовать API (например, OpenWeatherMap (https://openweathermap.org/)).\n",
    "# Бот должен работать и продолжать вас что-то спрашивать пока вы не закончите беседу.\n",
    "# Бот должен запрашивать всю необходимую информацию для прогноза (если не хватает какого-то слота (город или дата), он должен его уточнить)\n",
    "\n",
    "Один из сценариев скрипта:\n",
    "1. Написать функцию распознания интенции (Например, Natasha)\n",
    "2. Функция для того, чтобы здороваться.\n",
    "3. Функция для погоды\n",
    "4. Функция, чтобы прощаться.\n",
    "5. Функция для ошибок.\n",
    "\n",
    "То есть, из фич только погода.\n",
    "\n",
    "Мануал как делать бота на питоне\n",
    "\n",
    "(https://thecode.media/python-bot/)Если что-то не получается, все падает с ошибкой и т.д. - смело пишите сюда или в личку.\n",
    "\n",
    "Deadline по проекту: сессионная неделя.\n",
    "ДЗ можно просто отправить, я посмотрю, и если что-то не так, то доработать.\n",
    "Проект нужно будет показывать. Можно показать, и если что-то не так, то доделать.\n",
    "\n",
    "P.S. Каждый член команды должен будет ответить на вопросы по боту и рассказать как это работает.\n",
    "\n",
    "P.P.S Не забывайте про домашнее задание - это почти половина оценки"
   ],
   "metadata": {
    "collapsed": false,
    "pycharm": {
     "name": "#%% md\n"
    }
   }
  },
  {
   "cell_type": "code",
   "execution_count": 26,
   "metadata": {
    "collapsed": true
   },
   "outputs": [],
   "source": [
    "import json\n",
    "import urllib3\n",
    "import spacy\n",
    "from secret import *\n",
    "import csv\n",
    "import os\n",
    "\n",
    "from datetime import date\n",
    "from datetime import datetime\n",
    "import time\n",
    "nlp = spacy.load('ru_core_news_md')"
   ]
  },
  {
   "cell_type": "code",
   "execution_count": 27,
   "outputs": [],
   "source": [
    "http = urllib3.PoolManager()"
   ],
   "metadata": {
    "collapsed": false,
    "pycharm": {
     "name": "#%%\n"
    }
   }
  },
  {
   "cell_type": "markdown",
   "source": [
    "### geo"
   ],
   "metadata": {
    "collapsed": false,
    "pycharm": {
     "name": "#%% md\n"
    }
   }
  },
  {
   "cell_type": "code",
   "execution_count": 28,
   "outputs": [],
   "source": [
    "def place_to_geo(place, city, map_key = map_key):\n",
    "    '''\n",
    "\n",
    "    :param place: Name of place to search\n",
    "    :param city: Name of city\n",
    "    :param map_key: API KEY from https://developer.mapquest.com/\n",
    "    :return: dict {'lat': '55.6280353', 'lon': '36.9952076310053'}\n",
    "    '''\n",
    "    geo = {}\n",
    "\n",
    "    url = f'http://open.mapquestapi.com/nominatim/v1/search.php?key={map_key}&format=json&q={place}+{city}&addressdetails=1&limit=3'\n",
    "    response = http.request(\"GET\", url)\n",
    "    data = json.loads(response.data)[0]\n",
    "\n",
    "    geo['lat'] = data['lat']\n",
    "    geo['lon'] = data['lon']\n",
    "    return geo"
   ],
   "metadata": {
    "collapsed": false,
    "pycharm": {
     "name": "#%%\n"
    }
   }
  },
  {
   "cell_type": "code",
   "execution_count": 29,
   "outputs": [
    {
     "data": {
      "text/plain": "{'lat': '59.9316703', 'lon': '30.3588031'}"
     },
     "execution_count": 29,
     "metadata": {},
     "output_type": "execute_result"
    }
   ],
   "source": [
    "geo_ll =  place_to_geo(\"Невский проспект\", \"Москва\")\n",
    "geo_ll"
   ],
   "metadata": {
    "collapsed": false,
    "pycharm": {
     "name": "#%%\n"
    }
   }
  },
  {
   "cell_type": "markdown",
   "source": [
    "### weather"
   ],
   "metadata": {
    "collapsed": false,
    "pycharm": {
     "name": "#%% md\n"
    }
   }
  },
  {
   "cell_type": "code",
   "execution_count": 30,
   "outputs": [],
   "source": [
    "def location_to_weather(geo_ll, weather_key = weather_key):\n",
    "    '''\n",
    "    :param geo_ll: dict from place_to_geo\n",
    "    :param weather_key: api key from https://openweathermap.org/api/one-call-api\n",
    "    :return: dict with temp for 7 days\n",
    "    '''\n",
    "    weather = {}\n",
    "\n",
    "    lat = geo_ll['lat']\n",
    "    lon = geo_ll['lon']\n",
    "\n",
    "    url = f'https://api.openweathermap.org/data/2.5/onecall?lat={lat}&lon={lon}&exclude=current,minutely,hourly,alerts&appid={weather_key}&units=metric'\n",
    "    response = http.request(\"GET\", url)\n",
    "    data = json.loads(response.data)\n",
    "    for day in data['daily']:\n",
    "        weather[day['dt']]=  day['feels_like']\n",
    "    return weather\n"
   ],
   "metadata": {
    "collapsed": false,
    "pycharm": {
     "name": "#%%\n"
    }
   }
  },
  {
   "cell_type": "code",
   "execution_count": 31,
   "outputs": [
    {
     "data": {
      "text/plain": "{1640163600: {'day': -17.54, 'night': -19.82, 'eve': -16.64, 'morn': -17.04},\n 1640250000: {'day': -12.54, 'night': -10.92, 'eve': -10.95, 'morn': -15.44},\n 1640336400: {'day': -13.06, 'night': -23.05, 'eve': -13.61, 'morn': -7.66},\n 1640422800: {'day': -18.75, 'night': -13.59, 'eve': -18.37, 'morn': -22.7},\n 1640509200: {'day': -20.61, 'night': -21.95, 'eve': -19.63, 'morn': -12.22},\n 1640595600: {'day': -11.56, 'night': -18.51, 'eve': -17.28, 'morn': -19.4},\n 1640682000: {'day': -9.35, 'night': -11.9, 'eve': -11.1, 'morn': -14.45},\n 1640772000: {'day': -16.68, 'night': -14.42, 'eve': -15.36, 'morn': -15.27}}"
     },
     "execution_count": 31,
     "metadata": {},
     "output_type": "execute_result"
    }
   ],
   "source": [
    "weather = location_to_weather(geo_ll)\n",
    "weather"
   ],
   "metadata": {
    "collapsed": false,
    "pycharm": {
     "name": "#%%\n"
    }
   }
  },
  {
   "cell_type": "markdown",
   "source": [
    "### part of speech"
   ],
   "metadata": {
    "collapsed": false,
    "pycharm": {
     "name": "#%% md\n"
    }
   }
  },
  {
   "cell_type": "code",
   "execution_count": 32,
   "outputs": [],
   "source": [
    "def text_to_location(text, nlp = nlp):\n",
    "    '''\n",
    "    :param text: string input\n",
    "    :param nlp: nlp spacy language model\n",
    "    :return: list of locations\n",
    "    '''\n",
    "\n",
    "    text_spacy = nlp(text)\n",
    "\n",
    "    locations = []\n",
    "\n",
    "    if len(text_spacy.ents) == 0:\n",
    "        raise NameError(\"Нет локации\")\n",
    "    else:\n",
    "        for ent in text_spacy.ents:\n",
    "            if ent.label_ == 'LOC':\n",
    "                locations.append(ent.lemma_)\n",
    "\n",
    "    return(locations)"
   ],
   "metadata": {
    "collapsed": false,
    "pycharm": {
     "name": "#%%\n"
    }
   }
  },
  {
   "cell_type": "code",
   "execution_count": 33,
   "outputs": [
    {
     "data": {
      "text/plain": "['саратов', 'томск']"
     },
     "execution_count": 33,
     "metadata": {},
     "output_type": "execute_result"
    }
   ],
   "source": [
    "text_to_location(\"как дела в Саратове и томске\")"
   ],
   "metadata": {
    "collapsed": false,
    "pycharm": {
     "name": "#%%\n"
    }
   }
  },
  {
   "cell_type": "markdown",
   "source": [
    "## date"
   ],
   "metadata": {
    "collapsed": false,
    "pycharm": {
     "name": "#%% md\n"
    }
   }
  },
  {
   "cell_type": "code",
   "execution_count": 34,
   "outputs": [],
   "source": [
    "def text_to_date(text, nlp = nlp):\n",
    "    '''\n",
    "    :param text: string input\n",
    "    :param nlp: nlp spacy language model\n",
    "    :return: relative index of a date\n",
    "    '''\n",
    "\n",
    "    today = time.mktime(date.today().timetuple())\n",
    "    tokens = []\n",
    "    today_unix = time.mktime(date.today().timetuple())\n",
    "\n",
    "    text_spacy = nlp(text)\n",
    "    for token in text_spacy:\n",
    "        tokens.append(token.lemma_)\n",
    "\n",
    "    if 'сегодня' in tokens:\n",
    "        return 0\n",
    "    elif 'завтра' in tokens:\n",
    "        return 1\n",
    "    elif 'сейчас' in tokens:\n",
    "        return 0\n",
    "    elif 'послезавтра' in tokens:\n",
    "        return 2\n",
    "    else:\n",
    "        raise NameError('Плохо расслышал дату. Это сегодня, завтра или послезавтра?')"
   ],
   "metadata": {
    "collapsed": false,
    "pycharm": {
     "name": "#%%\n"
    }
   }
  },
  {
   "cell_type": "code",
   "execution_count": 35,
   "outputs": [
    {
     "data": {
      "text/plain": "0"
     },
     "execution_count": 35,
     "metadata": {},
     "output_type": "execute_result"
    }
   ],
   "source": [
    "text_to_date(\"Скажи погоду в Санкт-Петербурге на сегодня\")"
   ],
   "metadata": {
    "collapsed": false,
    "pycharm": {
     "name": "#%%\n"
    }
   }
  },
  {
   "cell_type": "markdown",
   "source": [
    "## store text"
   ],
   "metadata": {
    "collapsed": false,
    "pycharm": {
     "name": "#%% md\n"
    }
   }
  },
  {
   "cell_type": "code",
   "execution_count": 78,
   "outputs": [],
   "source": [
    "def text_to_csv(text, user, timestamp, storage = \"csv\", file = \"text_logs.csv\"):\n",
    "    with open(file, 'a', newline='', encoding=\"utf-8\") as csvfile:\n",
    "        logwriter = csv.writer(csvfile, delimiter=',',\n",
    "                                quotechar='|', quoting=csv.QUOTE_MINIMAL)\n",
    "        logwriter.writerow([text, user, timestamp])"
   ],
   "metadata": {
    "collapsed": false,
    "pycharm": {
     "name": "#%%\n"
    }
   }
  },
  {
   "cell_type": "code",
   "execution_count": 79,
   "outputs": [],
   "source": [
    "ts = time.mktime(date.today().timetuple())\n",
    "text_to_csv(text = \"Сколько вешать москва\",user =  \"seva\", timestamp = ts)"
   ],
   "metadata": {
    "collapsed": false,
    "pycharm": {
     "name": "#%%\n"
    }
   }
  },
  {
   "cell_type": "markdown",
   "source": [
    "## drop logs"
   ],
   "metadata": {
    "collapsed": false,
    "pycharm": {
     "name": "#%% md\n"
    }
   }
  },
  {
   "cell_type": "code",
   "execution_count": 80,
   "outputs": [],
   "source": [
    "os.remove(\"text_logs.csv\")"
   ],
   "metadata": {
    "collapsed": false,
    "pycharm": {
     "name": "#%%\n"
    }
   }
  },
  {
   "cell_type": "markdown",
   "source": [
    "## text to answer"
   ],
   "metadata": {
    "collapsed": false,
    "pycharm": {
     "name": "#%% md\n"
    }
   }
  },
  {
   "cell_type": "code",
   "execution_count": 39,
   "outputs": [],
   "source": [
    "# text  = \"Скажи погоду Москве на завтра\"\n",
    "text = \"сколько вешать в граммах в Москве\"\n"
   ],
   "metadata": {
    "collapsed": false,
    "pycharm": {
     "name": "#%%\n"
    }
   }
  },
  {
   "cell_type": "code",
   "execution_count": 160,
   "outputs": [],
   "source": [
    "def message_to_reply(text, user = \"test_user\",\n",
    "                     loggs = False):\n",
    "    '''\n",
    "\n",
    "    :param text: string with text\n",
    "    :return: reply\n",
    "    '''\n",
    "\n",
    "    timestamp = time.time()\n",
    "\n",
    "    try:\n",
    "        text_to_csv(text, user, timestamp)\n",
    "        if loggs:\n",
    "            text = \"\"\n",
    "    except NameError:\n",
    "        return (\"Ошибка логов при записи\")\n",
    "    if loggs:\n",
    "        try:\n",
    "            with open('text_logs.csv', newline='', encoding=\"utf-8\") as csvfile:\n",
    "                logreader = csv.reader(csvfile, delimiter=',', quotechar='|')\n",
    "                for row in logreader:\n",
    "                    if row[1] == user and row[2] != timestamp:\n",
    "                        text = text + \" \" + row[0]\n",
    "        except NameError:\n",
    "            return (\"Ошибка чтения\")\n",
    "    print(text)\n",
    "    try:\n",
    "        location = text_to_location(text)\n",
    "    except NameError:\n",
    "        return (\"А для какого места тебе нужна погода?\")\n",
    "    try:\n",
    "        date_index = text_to_date(text)\n",
    "    except NameError:\n",
    "        return (\"Cкажи, а на какой день делать прогноз?\")\n",
    "    try:\n",
    "        geo_ll = place_to_geo(\"\", location)\n",
    "    except NameError:\n",
    "        return (\"Попробуй другую локацию\")\n",
    "    try:\n",
    "        weather = location_to_weather(geo_ll)\n",
    "    except NameError:\n",
    "        return (f'Не смог найти погоду для {location}')\n",
    "    try:\n",
    "        weather_day = weather[list(weather.keys())[date_index]]\n",
    "        day = date.fromtimestamp(list(weather.keys())[date_index])\n",
    "        return f'Погода в городе {location[0].title()} {day} ' \\\n",
    "               f'днём: {weather_day[\"day\"]} ;' \\\n",
    "               f'вечером {weather_day[\"eve\"]}'\n",
    "    except NameError:\n",
    "        return (f' ошибка в последнем действии')\n"
   ],
   "metadata": {
    "collapsed": false,
    "pycharm": {
     "name": "#%%\n"
    }
   }
  },
  {
   "cell_type": "code",
   "execution_count": 161,
   "outputs": [
    {
     "name": "stdout",
     "output_type": "stream",
     "text": [
      "Скажи погоду Москве на завтра\n"
     ]
    },
    {
     "data": {
      "text/plain": "'Погода в городе Москва 2021-12-23 днём: -20.59 ;вечером -20.55'"
     },
     "execution_count": 161,
     "metadata": {},
     "output_type": "execute_result"
    }
   ],
   "source": [
    "text  = \"Скажи погоду Москве на завтра\"\n",
    "# text = \"сколько вешать в граммах \"\n",
    "\n",
    "message_to_reply(text, loggs = False)"
   ],
   "metadata": {
    "collapsed": false,
    "pycharm": {
     "name": "#%%\n"
    }
   }
  },
  {
   "cell_type": "markdown",
   "source": [
    "## end conversation"
   ],
   "metadata": {
    "collapsed": false,
    "pycharm": {
     "name": "#%% md\n"
    }
   }
  },
  {
   "cell_type": "code",
   "execution_count": 162,
   "outputs": [],
   "source": [
    "os.remove(\"text_logs.csv\")"
   ],
   "metadata": {
    "collapsed": false,
    "pycharm": {
     "name": "#%%\n"
    }
   }
  },
  {
   "cell_type": "markdown",
   "source": [
    "## conversation with logs"
   ],
   "metadata": {
    "collapsed": false,
    "pycharm": {
     "name": "#%% md\n"
    }
   }
  },
  {
   "cell_type": "code",
   "execution_count": 163,
   "outputs": [
    {
     "name": "stdout",
     "output_type": "stream",
     "text": [
      "Привет как дела\n"
     ]
    },
    {
     "data": {
      "text/plain": "'А для какого места тебе нужна погода?'"
     },
     "execution_count": 163,
     "metadata": {},
     "output_type": "execute_result"
    }
   ],
   "source": [
    "text  = \"Привет как дела\"\n",
    "\n",
    "message_to_reply(text)"
   ],
   "metadata": {
    "collapsed": false,
    "pycharm": {
     "name": "#%%\n"
    }
   }
  },
  {
   "cell_type": "code",
   "execution_count": 164,
   "outputs": [
    {
     "name": "stdout",
     "output_type": "stream",
     "text": [
      " Привет как дела Погода в Москве\n"
     ]
    },
    {
     "data": {
      "text/plain": "'Cкажи, а на какой день делать прогноз?'"
     },
     "execution_count": 164,
     "metadata": {},
     "output_type": "execute_result"
    }
   ],
   "source": [
    "text  = \"Погода в Москве\"\n",
    "\n",
    "message_to_reply(text, loggs = True)"
   ],
   "metadata": {
    "collapsed": false,
    "pycharm": {
     "name": "#%%\n"
    }
   }
  },
  {
   "cell_type": "code",
   "execution_count": 165,
   "outputs": [
    {
     "name": "stdout",
     "output_type": "stream",
     "text": [
      " Привет как дела Погода в Москве на завтра\n"
     ]
    },
    {
     "data": {
      "text/plain": "'Погода в городе Москва 2021-12-23 днём: -20.59 ;вечером -20.55'"
     },
     "execution_count": 165,
     "metadata": {},
     "output_type": "execute_result"
    }
   ],
   "source": [
    "text = \"на завтра\"\n",
    "message_to_reply(text, loggs = True)"
   ],
   "metadata": {
    "collapsed": false,
    "pycharm": {
     "name": "#%%\n"
    }
   }
  },
  {
   "cell_type": "code",
   "execution_count": 166,
   "outputs": [],
   "source": [
    "os.remove(\"text_logs.csv\")"
   ],
   "metadata": {
    "collapsed": false,
    "pycharm": {
     "name": "#%%\n"
    }
   }
  }
 ],
 "metadata": {
  "kernelspec": {
   "display_name": "Python 3",
   "language": "python",
   "name": "python3"
  },
  "language_info": {
   "codemirror_mode": {
    "name": "ipython",
    "version": 2
   },
   "file_extension": ".py",
   "mimetype": "text/x-python",
   "name": "python",
   "nbconvert_exporter": "python",
   "pygments_lexer": "ipython2",
   "version": "2.7.6"
  }
 },
 "nbformat": 4,
 "nbformat_minor": 0
}