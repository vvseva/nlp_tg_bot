{
 "cells": [
  {
   "cell_type": "markdown",
   "source": [
    "\n",
    "Задание для личного проекта, который нужно будет сдавать для оценки:\n",
    "# Написать чат бота, который будет говорить погоду в двух городах - Москва и СПб\n",
    "# Бот должен уметь здороваться, прощаться.\n",
    "# Бот должен понимать такие даты, как: сейчас, сегодня, завтра.\n",
    "# Попрощаться - значит закончить беседу (после прощания, он не должен писать никаких сообщений пока вы не напишите)\n",
    "# Бот должен как-то реагировать на непонятные высказывания\n",
    "# Базу погоды можно составить самим - на два дня, на два города или использовать API (например, OpenWeatherMap (https://openweathermap.org/)).\n",
    "# Бот должен работать и продолжать вас что-то спрашивать пока вы не закончите беседу.\n",
    "# Бот должен запрашивать всю необходимую информацию для прогноза (если не хватает какого-то слота (город или дата), он должен его уточнить)\n",
    "\n",
    "Один из сценариев скрипта:\n",
    "1. Написать функцию распознания интенции (Например, Natasha)\n",
    "2. Функция для того, чтобы здороваться.\n",
    "3. Функция для погоды\n",
    "4. Функция, чтобы прощаться.\n",
    "5. Функция для ошибок.\n",
    "\n",
    "То есть, из фич только погода.\n",
    "\n",
    "Мануал как делать бота на питоне\n",
    "\n",
    "(https://thecode.media/python-bot/)Если что-то не получается, все падает с ошибкой и т.д. - смело пишите сюда или в личку.\n",
    "\n",
    "Deadline по проекту: сессионная неделя.\n",
    "ДЗ можно просто отправить, я посмотрю, и если что-то не так, то доработать.\n",
    "Проект нужно будет показывать. Можно показать, и если что-то не так, то доделать.\n",
    "\n",
    "P.S. Каждый член команды должен будет ответить на вопросы по боту и рассказать как это работает.\n",
    "\n",
    "P.P.S Не забывайте про домашнее задание - это почти половина оценки"
   ],
   "metadata": {
    "collapsed": false,
    "pycharm": {
     "name": "#%% md\n"
    }
   }
  },
  {
   "cell_type": "code",
   "execution_count": 20,
   "metadata": {
    "collapsed": true
   },
   "outputs": [],
   "source": [
    "import json\n",
    "import urllib3\n",
    "import spacy\n",
    "from secret import *\n",
    "\n",
    "from datetime import date\n",
    "from datetime import datetime\n",
    "import time\n",
    "nlp = spacy.load('ru_core_news_md')"
   ]
  },
  {
   "cell_type": "code",
   "execution_count": 4,
   "outputs": [],
   "source": [
    "http = urllib3.PoolManager()"
   ],
   "metadata": {
    "collapsed": false,
    "pycharm": {
     "name": "#%%\n"
    }
   }
  },
  {
   "cell_type": "markdown",
   "source": [
    "### geo"
   ],
   "metadata": {
    "collapsed": false,
    "pycharm": {
     "name": "#%% md\n"
    }
   }
  },
  {
   "cell_type": "code",
   "execution_count": 5,
   "outputs": [],
   "source": [
    "def place_to_geo(place, city, map_key = map_key):\n",
    "    '''\n",
    "\n",
    "    :param place: Name of place to search\n",
    "    :param city: Name of city\n",
    "    :param map_key: API KEY from https://developer.mapquest.com/\n",
    "    :return: dict {'lat': '55.6280353', 'lon': '36.9952076310053'}\n",
    "    '''\n",
    "    geo = {}\n",
    "\n",
    "    url = f'http://open.mapquestapi.com/nominatim/v1/search.php?key={map_key}&format=json&q={place}+{city}&addressdetails=1&limit=3'\n",
    "    response = http.request(\"GET\", url)\n",
    "    data = json.loads(response.data)[0]\n",
    "\n",
    "    geo['lat'] = data['lat']\n",
    "    geo['lon'] = data['lon']\n",
    "    return geo"
   ],
   "metadata": {
    "collapsed": false,
    "pycharm": {
     "name": "#%%\n"
    }
   }
  },
  {
   "cell_type": "code",
   "execution_count": 6,
   "outputs": [
    {
     "data": {
      "text/plain": "{'lat': '59.9316703', 'lon': '30.3588031'}"
     },
     "execution_count": 6,
     "metadata": {},
     "output_type": "execute_result"
    }
   ],
   "source": [
    "geo_ll =  place_to_geo(\"Невский проспект\", \"Москва\")\n",
    "geo_ll"
   ],
   "metadata": {
    "collapsed": false,
    "pycharm": {
     "name": "#%%\n"
    }
   }
  },
  {
   "cell_type": "markdown",
   "source": [
    "### weather"
   ],
   "metadata": {
    "collapsed": false,
    "pycharm": {
     "name": "#%% md\n"
    }
   }
  },
  {
   "cell_type": "code",
   "execution_count": 17,
   "outputs": [],
   "source": [
    "def location_to_weather(geo_ll, weather_key = weather_key):\n",
    "    '''\n",
    "    :param geo_ll: dict from place_to_geo\n",
    "    :param weather_key: api key from https://openweathermap.org/api/one-call-api\n",
    "    :return: dict with temp for 7 days\n",
    "    '''\n",
    "    weather = {}\n",
    "\n",
    "    lat = geo_ll['lat']\n",
    "    lon = geo_ll['lon']\n",
    "\n",
    "    url = f'https://api.openweathermap.org/data/2.5/onecall?lat={lat}&lon={lon}&exclude=current,minutely,hourly,alerts&appid={weather_key}&units=metric'\n",
    "    response = http.request(\"GET\", url)\n",
    "    data = json.loads(response.data)\n",
    "    for day in data['daily']:\n",
    "        weather[day['dt']]=  day['feels_like']\n",
    "    return weather\n"
   ],
   "metadata": {
    "collapsed": false,
    "pycharm": {
     "name": "#%%\n"
    }
   }
  },
  {
   "cell_type": "code",
   "execution_count": 18,
   "outputs": [
    {
     "data": {
      "text/plain": "{1639558800: {'day': -3.6, 'night': -3.01, 'eve': -2.9, 'morn': -2.98},\n 1639645200: {'day': -1.49, 'night': -5.05, 'eve': -4.11, 'morn': -2.29},\n 1639731600: {'day': -7.48, 'night': -9.68, 'eve': -6.92, 'morn': -7.24},\n 1639818000: {'day': -6.39, 'night': -3.39, 'eve': -3.54, 'morn': -11.84},\n 1639904400: {'day': -7.19, 'night': -14.67, 'eve': -11.01, 'morn': -7.31},\n 1639990800: {'day': -18.36, 'night': -19.72, 'eve': -19.4, 'morn': -18.91},\n 1640077200: {'day': -18.63, 'night': -21.74, 'eve': -20.61, 'morn': -20.97},\n 1640163600: {'day': -20.76, 'night': -16.55, 'eve': -17.87, 'morn': -22.95}}"
     },
     "execution_count": 18,
     "metadata": {},
     "output_type": "execute_result"
    }
   ],
   "source": [
    "weather = location_to_weather(geo_ll)\n",
    "weather"
   ],
   "metadata": {
    "collapsed": false,
    "pycharm": {
     "name": "#%%\n"
    }
   }
  },
  {
   "cell_type": "markdown",
   "source": [
    "### part of speach"
   ],
   "metadata": {
    "collapsed": false,
    "pycharm": {
     "name": "#%% md\n"
    }
   }
  },
  {
   "cell_type": "code",
   "execution_count": 9,
   "outputs": [],
   "source": [
    "def text_to_location(text, nlp = nlp):\n",
    "    '''\n",
    "    :param text:\n",
    "    :param nlp:\n",
    "    :return:\n",
    "    '''\n",
    "\n",
    "    text_spacy = nlp(text)\n",
    "\n",
    "    locations = []\n",
    "\n",
    "    if len(text_spacy.ents) == 0:\n",
    "        raise NameError(\"Нет локации\")\n",
    "    else:\n",
    "        for ent in text_spacy.ents:\n",
    "            if ent.label_ == 'LOC':\n",
    "                locations.append(ent.lemma_)\n",
    "\n",
    "    return(locations)"
   ],
   "metadata": {
    "collapsed": false,
    "pycharm": {
     "name": "#%%\n"
    }
   }
  },
  {
   "cell_type": "code",
   "execution_count": 10,
   "outputs": [
    {
     "data": {
      "text/plain": "['саратов', 'томск']"
     },
     "execution_count": 10,
     "metadata": {},
     "output_type": "execute_result"
    }
   ],
   "source": [
    "text_to_location(\"как дела в Саратове и томске\")"
   ],
   "metadata": {
    "collapsed": false,
    "pycharm": {
     "name": "#%%\n"
    }
   }
  },
  {
   "cell_type": "markdown",
   "source": [
    "## date"
   ],
   "metadata": {
    "collapsed": false,
    "pycharm": {
     "name": "#%% md\n"
    }
   }
  },
  {
   "cell_type": "code",
   "execution_count": 11,
   "outputs": [],
   "source": [
    "def text_to_date(text, nlp = nlp):\n",
    "\n",
    "    today = time.mktime(date.today().timetuple())\n",
    "    tokens = []\n",
    "\n",
    "    today_unix = time.mktime(date.today().timetuple())\n",
    "\n",
    "    text_spacy = nlp(text)\n",
    "\n",
    "    for token in text_spacy:\n",
    "        tokens.append(token.lemma_)\n",
    "    tokens\n",
    "    if 'сегодня' in tokens:\n",
    "        return 0\n",
    "    elif 'завтра' in tokens:\n",
    "        return 1\n",
    "    elif 'сейчас' in tokens:\n",
    "        return 0\n",
    "    elif 'послезавтра' in tokens:\n",
    "        return 1\n",
    "    else:\n",
    "        raise NameError('На какой день сказать погоду?')"
   ],
   "metadata": {
    "collapsed": false,
    "pycharm": {
     "name": "#%%\n"
    }
   }
  },
  {
   "cell_type": "code",
   "execution_count": 12,
   "outputs": [
    {
     "data": {
      "text/plain": "1"
     },
     "execution_count": 12,
     "metadata": {},
     "output_type": "execute_result"
    }
   ],
   "source": [
    "text_to_date(\"Скажи погоду в Санкт-Петербурге на завтра\")"
   ],
   "metadata": {
    "collapsed": false,
    "pycharm": {
     "name": "#%%\n"
    }
   }
  },
  {
   "cell_type": "markdown",
   "source": [
    "## text to answer"
   ],
   "metadata": {
    "collapsed": false,
    "pycharm": {
     "name": "#%% md\n"
    }
   }
  },
  {
   "cell_type": "code",
   "execution_count": 13,
   "outputs": [],
   "source": [
    "# text  = \"Скажи погоду Москве на завтра\"\n",
    "text = \"сколько вешать в граммах в Москве\"\n"
   ],
   "metadata": {
    "collapsed": false,
    "pycharm": {
     "name": "#%%\n"
    }
   }
  },
  {
   "cell_type": "code",
   "execution_count": 42,
   "outputs": [],
   "source": [
    "def message_to_reply(text):\n",
    "    try:\n",
    "        location = text_to_location(text)\n",
    "    except NameError:\n",
    "        return (\"А для какого места тебе нужна погода?\")\n",
    "    try:\n",
    "        date_index = text_to_date(text)\n",
    "    except NameError:\n",
    "        return (\"Cкажи, а на какой день делать прогноз?\")\n",
    "    try:\n",
    "        geo_ll = place_to_geo(\"\", location)\n",
    "    except NameError:\n",
    "        return (\"Попробуй другую локацию\")\n",
    "    try:\n",
    "        weather = location_to_weather(geo_ll)\n",
    "    except NameError:\n",
    "        return (f'Не смог найти погоду для {location}')\n",
    "    try:\n",
    "        weather_day = weather[list(weather.keys())[date_index]]\n",
    "        day = date.fromtimestamp(list(weather.keys())[date_index])\n",
    "        return f'Погода в городе {location[0]} {day} ' \\\n",
    "               f'днём: {weather_day[\"day\"]} ;' \\\n",
    "               f'вечером {weather_day[\"eve\"]}'\n",
    "    except NameError:\n",
    "        return (f' ошибка в последнем действии')\n"
   ],
   "metadata": {
    "collapsed": false,
    "pycharm": {
     "name": "#%%\n"
    }
   }
  },
  {
   "cell_type": "code",
   "execution_count": 43,
   "outputs": [
    {
     "data": {
      "text/plain": "'Погода в городе москва 2021-12-16 днём: -4.18 ;вечером -3.33'"
     },
     "execution_count": 43,
     "metadata": {},
     "output_type": "execute_result"
    }
   ],
   "source": [
    "text  = \"Скажи погоду Москве на завтра\"\n",
    "# text = \"сколько вешать в граммах в Москве\"\n",
    "\n",
    "message_to_reply(text)"
   ],
   "metadata": {
    "collapsed": false,
    "pycharm": {
     "name": "#%%\n"
    }
   }
  }
 ],
 "metadata": {
  "kernelspec": {
   "display_name": "Python 3",
   "language": "python",
   "name": "python3"
  },
  "language_info": {
   "codemirror_mode": {
    "name": "ipython",
    "version": 2
   },
   "file_extension": ".py",
   "mimetype": "text/x-python",
   "name": "python",
   "nbconvert_exporter": "python",
   "pygments_lexer": "ipython2",
   "version": "2.7.6"
  }
 },
 "nbformat": 4,
 "nbformat_minor": 0
}