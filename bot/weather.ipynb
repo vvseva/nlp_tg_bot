{
 "cells": [
  {
   "cell_type": "markdown",
   "source": [
    "\n",
    "Задание для личного проекта, который нужно будет сдавать для оценки:\n",
    "# Написать чат бота, который будет говорить погоду в двух городах - Москва и СПб\n",
    "# Бот должен уметь здороваться, прощаться.\n",
    "# Бот должен понимать такие даты, как: сейчас, сегодня, завтра.\n",
    "# Попрощаться - значит закончить беседу (после прощания, он не должен писать никаких сообщений пока вы не напишите)\n",
    "# Бот должен как-то реагировать на непонятные высказывания\n",
    "# Базу погоды можно составить самим - на два дня, на два города или использовать API (например, OpenWeatherMap (https://openweathermap.org/)).\n",
    "# Бот должен работать и продолжать вас что-то спрашивать пока вы не закончите беседу.\n",
    "# Бот должен запрашивать всю необходимую информацию для прогноза (если не хватает какого-то слота (город или дата), он должен его уточнить)\n",
    "\n",
    "Один из сценариев скрипта:\n",
    "1. Написать функцию распознания интенции (Например, Natasha)\n",
    "2. Функция для того, чтобы здороваться.\n",
    "3. Функция для погоды\n",
    "4. Функция, чтобы прощаться.\n",
    "5. Функция для ошибок.\n",
    "\n",
    "То есть, из фич только погода.\n",
    "\n",
    "Мануал как делать бота на питоне\n",
    "\n",
    "(https://thecode.media/python-bot/)Если что-то не получается, все падает с ошибкой и т.д. - смело пишите сюда или в личку.\n",
    "\n",
    "Deadline по проекту: сессионная неделя.\n",
    "ДЗ можно просто отправить, я посмотрю, и если что-то не так, то доработать.\n",
    "Проект нужно будет показывать. Можно показать, и если что-то не так, то доделать.\n",
    "\n",
    "P.S. Каждый член команды должен будет ответить на вопросы по боту и рассказать как это работает.\n",
    "\n",
    "P.P.S Не забывайте про домашнее задание - это почти половина оценки"
   ],
   "metadata": {
    "collapsed": false,
    "pycharm": {
     "name": "#%% md\n"
    }
   }
  },
  {
   "cell_type": "code",
   "execution_count": 94,
   "metadata": {
    "collapsed": true
   },
   "outputs": [],
   "source": [
    "import json\n",
    "import urllib3\n",
    "import spacy\n",
    "import numpy as np\n",
    "import pandas as pd\n",
    "\n",
    "from datetime import date\n",
    "import time\n",
    "nlp = spacy.load('ru_core_news_md')"
   ]
  },
  {
   "cell_type": "code",
   "execution_count": 12,
   "outputs": [],
   "source": [
    "map_key = 'ze0sA2AronedAPmRSoMVsPfEs7giUS1f'\n",
    "weather_key = '6083094dbeb8645db38c5f19206b50d0'\n",
    "http = urllib3.PoolManager()"
   ],
   "metadata": {
    "collapsed": false,
    "pycharm": {
     "name": "#%%\n"
    }
   }
  },
  {
   "cell_type": "markdown",
   "source": [
    "### geo"
   ],
   "metadata": {
    "collapsed": false,
    "pycharm": {
     "name": "#%% md\n"
    }
   }
  },
  {
   "cell_type": "code",
   "execution_count": 100,
   "outputs": [],
   "source": [
    "def place_to_geo(place, city, map_key = map_key):\n",
    "    '''\n",
    "\n",
    "    :param place: Name of place to search\n",
    "    :param city: Name of city\n",
    "    :param map_key: API KEY from https://developer.mapquest.com/\n",
    "    :return: dict {'lat': '55.6280353', 'lon': '36.9952076310053'}\n",
    "    '''\n",
    "    geo = {}\n",
    "\n",
    "    url = f'http://open.mapquestapi.com/nominatim/v1/search.php?key={map_key}&format=json&q={place}+{city}&addressdetails=1&limit=3'\n",
    "    response = http.request(\"GET\", url)\n",
    "    data = json.loads(response.data)[0]\n",
    "\n",
    "    geo['lat'] = data['lat']\n",
    "    geo['lon'] = data['lon']\n",
    "    return geo"
   ],
   "metadata": {
    "collapsed": false,
    "pycharm": {
     "name": "#%%\n"
    }
   }
  },
  {
   "cell_type": "code",
   "execution_count": 102,
   "outputs": [
    {
     "data": {
      "text/plain": "{'lat': '59.9316703', 'lon': '30.3588031'}"
     },
     "execution_count": 102,
     "metadata": {},
     "output_type": "execute_result"
    }
   ],
   "source": [
    "geo_ll =  place_to_geo(\"Невский проспект\", \"Москва\")\n",
    "geo_ll"
   ],
   "metadata": {
    "collapsed": false,
    "pycharm": {
     "name": "#%%\n"
    }
   }
  },
  {
   "cell_type": "markdown",
   "source": [
    "### weather"
   ],
   "metadata": {
    "collapsed": false,
    "pycharm": {
     "name": "#%% md\n"
    }
   }
  },
  {
   "cell_type": "code",
   "execution_count": 169,
   "outputs": [],
   "source": [
    "def location_to_weather(geo_ll, weather_key = weather_key):\n",
    "    '''\n",
    "    :param geo_ll: dict from place_to_geo\n",
    "    :param weather_key: api key from https://openweathermap.org/api/one-call-api\n",
    "    :return: dict with temp for 7 days\n",
    "    '''\n",
    "    weather = {}\n",
    "\n",
    "    lat = geo_ll['lat']\n",
    "    lon = geo_ll['lon']\n",
    "\n",
    "    url = f'https://api.openweathermap.org/data/2.5/onecall?lat={lat}&lon={lon}&exclude=current,minutely,hourly,alerts&appid={weather_key}'\n",
    "    response = http.request(\"GET\", url)\n",
    "    data = json.loads(response.data)\n",
    "    for day in data['daily']:\n",
    "        weather[day['dt']]=  day['feels_like']\n",
    "    return weather\n"
   ],
   "metadata": {
    "collapsed": false,
    "pycharm": {
     "name": "#%%\n"
    }
   }
  },
  {
   "cell_type": "code",
   "execution_count": 175,
   "outputs": [
    {
     "data": {
      "text/plain": "{1639558800: {'day': 269.55, 'night': 269.95, 'eve': 270.79, 'morn': 270.17},\n 1639645200: {'day': 271.66, 'night': 268.1, 'eve': 269.04, 'morn': 270.86},\n 1639731600: {'day': 265.67, 'night': 263.47, 'eve': 266.23, 'morn': 265.91},\n 1639818000: {'day': 266.76, 'night': 269.76, 'eve': 269.61, 'morn': 261.31},\n 1639904400: {'day': 265.96, 'night': 258.48, 'eve': 262.14, 'morn': 265.84},\n 1639990800: {'day': 254.79, 'night': 253.43, 'eve': 253.75, 'morn': 254.24},\n 1640077200: {'day': 254.52, 'night': 251.41, 'eve': 252.54, 'morn': 252.18},\n 1640163600: {'day': 252.39, 'night': 256.6, 'eve': 255.28, 'morn': 250.2}}"
     },
     "execution_count": 175,
     "metadata": {},
     "output_type": "execute_result"
    }
   ],
   "source": [
    "weather = location_to_weather(geo_ll)\n",
    "weather"
   ],
   "metadata": {
    "collapsed": false,
    "pycharm": {
     "name": "#%%\n"
    }
   }
  },
  {
   "cell_type": "code",
   "execution_count": 178,
   "outputs": [
    {
     "data": {
      "text/plain": "1639645200"
     },
     "execution_count": 178,
     "metadata": {},
     "output_type": "execute_result"
    }
   ],
   "source": [
    "list(weather)[1]"
   ],
   "metadata": {
    "collapsed": false,
    "pycharm": {
     "name": "#%%\n"
    }
   }
  },
  {
   "cell_type": "code",
   "execution_count": 113,
   "outputs": [
    {
     "data": {
      "text/plain": "-86400"
     },
     "execution_count": 113,
     "metadata": {},
     "output_type": "execute_result"
    }
   ],
   "source": [
    "1639818000-1639904400"
   ],
   "metadata": {
    "collapsed": false,
    "pycharm": {
     "name": "#%%\n"
    }
   }
  },
  {
   "cell_type": "markdown",
   "source": [
    "### part of speach"
   ],
   "metadata": {
    "collapsed": false,
    "pycharm": {
     "name": "#%% md\n"
    }
   }
  },
  {
   "cell_type": "code",
   "execution_count": 47,
   "outputs": [],
   "source": [
    "text = \"Скажи погоду в Санкт-Петербурге на завтра\""
   ],
   "metadata": {
    "collapsed": false,
    "pycharm": {
     "name": "#%%\n"
    }
   }
  },
  {
   "cell_type": "code",
   "execution_count": 48,
   "outputs": [
    {
     "data": {
      "text/plain": "Скажи погоду в Санкт-Петербурге на завтра"
     },
     "execution_count": 48,
     "metadata": {},
     "output_type": "execute_result"
    }
   ],
   "source": [
    "text_spacy = nlp(text)\n",
    "text_spacy"
   ],
   "metadata": {
    "collapsed": false,
    "pycharm": {
     "name": "#%%\n"
    }
   }
  },
  {
   "cell_type": "code",
   "execution_count": 50,
   "outputs": [
    {
     "data": {
      "text/plain": "1"
     },
     "execution_count": 50,
     "metadata": {},
     "output_type": "execute_result"
    }
   ],
   "source": [
    "len(text_spacy.ents)"
   ],
   "metadata": {
    "collapsed": false,
    "pycharm": {
     "name": "#%%\n"
    }
   }
  },
  {
   "cell_type": "code",
   "execution_count": 70,
   "outputs": [],
   "source": [
    "def text_to_location(text, nlp = nlp):\n",
    "    '''\n",
    "    :param text:\n",
    "    :param nlp:\n",
    "    :return:\n",
    "    '''\n",
    "\n",
    "    text_spacy = nlp(text)\n",
    "\n",
    "    locations = []\n",
    "\n",
    "    if len(text_spacy.ents) == 0:\n",
    "        raise NameError(\"Нет локации\")\n",
    "    else:\n",
    "        for ent in text_spacy.ents:\n",
    "            if ent.label_ == 'LOC':\n",
    "                locations.append(ent.lemma_)\n",
    "\n",
    "    return(locations)"
   ],
   "metadata": {
    "collapsed": false,
    "pycharm": {
     "name": "#%%\n"
    }
   }
  },
  {
   "cell_type": "code",
   "execution_count": 72,
   "outputs": [
    {
     "data": {
      "text/plain": "['саратов', 'томск']"
     },
     "execution_count": 72,
     "metadata": {},
     "output_type": "execute_result"
    }
   ],
   "source": [
    "text_to_location(\"как дела в Саратове и томске\")"
   ],
   "metadata": {
    "collapsed": false,
    "pycharm": {
     "name": "#%%\n"
    }
   }
  },
  {
   "cell_type": "markdown",
   "source": [
    "## date"
   ],
   "metadata": {
    "collapsed": false,
    "pycharm": {
     "name": "#%% md\n"
    }
   }
  },
  {
   "cell_type": "code",
   "execution_count": 111,
   "outputs": [
    {
     "ename": "TypeError",
     "evalue": "unsupported operand type(s) for +: 'datetime.date' and 'int'",
     "output_type": "error",
     "traceback": [
      "\u001B[1;31m---------------------------------------------------------------------------\u001B[0m",
      "\u001B[1;31mTypeError\u001B[0m                                 Traceback (most recent call last)",
      "\u001B[1;32m~\\AppData\\Local\\Temp/ipykernel_23964/3422401287.py\u001B[0m in \u001B[0;36m<module>\u001B[1;34m\u001B[0m\n\u001B[1;32m----> 1\u001B[1;33m \u001B[0mdate\u001B[0m\u001B[1;33m.\u001B[0m\u001B[0mtoday\u001B[0m\u001B[1;33m(\u001B[0m\u001B[1;33m)\u001B[0m \u001B[1;33m+\u001B[0m \u001B[1;36m1\u001B[0m\u001B[1;33m\u001B[0m\u001B[1;33m\u001B[0m\u001B[0m\n\u001B[0m",
      "\u001B[1;31mTypeError\u001B[0m: unsupported operand type(s) for +: 'datetime.date' and 'int'"
     ]
    }
   ],
   "source": [],
   "metadata": {
    "collapsed": false,
    "pycharm": {
     "name": "#%%\n"
    }
   }
  },
  {
   "cell_type": "code",
   "execution_count": 109,
   "outputs": [
    {
     "data": {
      "text/plain": "1639515600.0"
     },
     "execution_count": 109,
     "metadata": {},
     "output_type": "execute_result"
    }
   ],
   "source": [
    "# date.today()\n",
    "d = date.today()\n",
    "time.mktime(d.timetuple())"
   ],
   "metadata": {
    "collapsed": false,
    "pycharm": {
     "name": "#%%\n"
    }
   }
  },
  {
   "cell_type": "code",
   "execution_count": 107,
   "outputs": [
    {
     "data": {
      "text/plain": "1639645200"
     },
     "execution_count": 107,
     "metadata": {},
     "output_type": "execute_result"
    }
   ],
   "source": [
    "1639645200"
   ],
   "metadata": {
    "collapsed": false,
    "pycharm": {
     "name": "#%%\n"
    }
   }
  },
  {
   "cell_type": "code",
   "execution_count": 151,
   "outputs": [],
   "source": [
    "def text_to_date(text, nlp = nlp):\n",
    "\n",
    "    today = time.mktime(date.today().timetuple())\n",
    "    tokens = []\n",
    "\n",
    "    today_unix = time.mktime(date.today().timetuple())\n",
    "\n",
    "    text_spacy = nlp(text)\n",
    "\n",
    "    for token in text_spacy:\n",
    "        tokens.append(token.lemma_)\n",
    "    tokens\n",
    "    if 'сегодня' in tokens:\n",
    "        return 0\n",
    "    elif 'завтра' in tokens:\n",
    "        return 1\n",
    "    elif 'сейчас' in tokens:\n",
    "        return 0\n",
    "    elif 'послезавтра' in tokens:\n",
    "        return 1\n",
    "    else:\n",
    "        raise NameError('На какой день сказать погоду?')"
   ],
   "metadata": {
    "collapsed": false,
    "pycharm": {
     "name": "#%%\n"
    }
   }
  },
  {
   "cell_type": "code",
   "execution_count": 152,
   "outputs": [
    {
     "data": {
      "text/plain": "1"
     },
     "execution_count": 152,
     "metadata": {},
     "output_type": "execute_result"
    }
   ],
   "source": [
    "text_to_date(\"Скажи погоду в Санкт-Петербурге на завтра\")"
   ],
   "metadata": {
    "collapsed": false,
    "pycharm": {
     "name": "#%%\n"
    }
   }
  },
  {
   "cell_type": "markdown",
   "source": [
    "## text to answer"
   ],
   "metadata": {
    "collapsed": false,
    "pycharm": {
     "name": "#%% md\n"
    }
   }
  },
  {
   "cell_type": "code",
   "execution_count": 181,
   "outputs": [],
   "source": [
    "# text  = \"Скажи погоду Москве на завтра\"\n",
    "text = \"сколько вешать в граммах в Москве\"\n"
   ],
   "metadata": {
    "collapsed": false,
    "pycharm": {
     "name": "#%%\n"
    }
   }
  },
  {
   "cell_type": "code",
   "execution_count": 179,
   "outputs": [],
   "source": [
    "def message_to_reply(text):\n",
    "    try:\n",
    "        location = text_to_location(text)\n",
    "    except NameError:\n",
    "        return (\"А для какого места тебе нужна погода?\")\n",
    "    try:\n",
    "        date_index = text_to_date(text)\n",
    "    except NameError:\n",
    "        return (\"Cкажи, а на какой день делать прогноз?\")\n",
    "    try:\n",
    "        geo_ll = place_to_geo(\"\", location)\n",
    "    except NameError:\n",
    "        return (\"Попробуй другую локацию\")\n",
    "    try:\n",
    "        weather = location_to_weather(geo_ll)\n",
    "    except NameError:\n",
    "        return (f'Не смог найти погоду для {location}')\n",
    "    try:\n",
    "        return weather[list(weather.keys())[date_index]]\n",
    "    except NameError:\n",
    "        return (f' ошибка в последнем действии')\n"
   ],
   "metadata": {
    "collapsed": false,
    "pycharm": {
     "name": "#%%\n"
    }
   }
  },
  {
   "cell_type": "code",
   "execution_count": 183,
   "outputs": [
    {
     "data": {
      "text/plain": "'Cкажи, а на какой день делать прогноз?'"
     },
     "execution_count": 183,
     "metadata": {},
     "output_type": "execute_result"
    }
   ],
   "source": [
    "# text  = \"Скажи погоду Москве на завтра\"\n",
    "text = \"сколько вешать в граммах в Москве\"\n",
    "\n",
    "message_to_reply(text)"
   ],
   "metadata": {
    "collapsed": false,
    "pycharm": {
     "name": "#%%\n"
    }
   }
  }
 ],
 "metadata": {
  "kernelspec": {
   "display_name": "Python 3",
   "language": "python",
   "name": "python3"
  },
  "language_info": {
   "codemirror_mode": {
    "name": "ipython",
    "version": 2
   },
   "file_extension": ".py",
   "mimetype": "text/x-python",
   "name": "python",
   "nbconvert_exporter": "python",
   "pygments_lexer": "ipython2",
   "version": "2.7.6"
  }
 },
 "nbformat": 4,
 "nbformat_minor": 0
}