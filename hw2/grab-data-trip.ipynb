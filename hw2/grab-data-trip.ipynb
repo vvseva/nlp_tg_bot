{
 "cells": [
  {
   "cell_type": "code",
   "execution_count": 18,
   "metadata": {
    "collapsed": true
   },
   "outputs": [],
   "source": [
    "import requests\n",
    "from bs4 import BeautifulSoup\n",
    "import re\n",
    "from selenium import webdriver\n",
    "from selenium.webdriver.common.keys import Keys\n",
    "from selenium.webdriver.support.ui import WebDriverWait\n",
    "from selenium.webdriver.support import expected_conditions as EC\n",
    "from selenium.webdriver.common.by import By\n",
    "from selenium.common.exceptions import TimeoutException\n",
    "\n",
    "import pandas as pd\n",
    "import time"
   ]
  },
  {
   "cell_type": "code",
   "execution_count": 81,
   "outputs": [],
   "source": [
    "city_name = \"Paris\"\n",
    "delay = 5 # seconds\n",
    "\n",
    "links = {}"
   ],
   "metadata": {
    "collapsed": false,
    "pycharm": {
     "name": "#%%\n"
    }
   }
  },
  {
   "cell_type": "code",
   "execution_count": 82,
   "outputs": [
    {
     "name": "stderr",
     "output_type": "stream",
     "text": [
      "C:\\Users\\wirze\\AppData\\Local\\Temp/ipykernel_17200/463546191.py:1: DeprecationWarning: executable_path has been deprecated, please pass in a Service object\n",
      "  driver = webdriver.Chrome(\"C:\\\\Users\\\\wirze\\\\DataspellProjects\\\\chromedriver_win32\\\\chromedriver.exe\")\n",
      "C:\\Users\\wirze\\AppData\\Local\\Temp/ipykernel_17200/463546191.py:5: DeprecationWarning: find_element_by_* commands are deprecated. Please use find_element() instead\n",
      "  inputElement = driver.find_element_by_id(\"GEO_SCOPED_SEARCH_INPUT\")\n",
      "C:\\Users\\wirze\\AppData\\Local\\Temp/ipykernel_17200/463546191.py:8: DeprecationWarning: find_element_by_* commands are deprecated. Please use find_element() instead\n",
      "  clearElement = driver.find_element_by_id(\"CLEAR_WHERE\")\n",
      "C:\\Users\\wirze\\AppData\\Local\\Temp/ipykernel_17200/463546191.py:11: DeprecationWarning: find_element_by_* commands are deprecated. Please use find_element() instead\n",
      "  inputElement = driver.find_element_by_id(\"GEO_SCOPED_SEARCH_INPUT\")\n",
      "C:\\Users\\wirze\\AppData\\Local\\Temp/ipykernel_17200/463546191.py:16: DeprecationWarning: find_elements_by_* commands are deprecated. Please use find_elements() instead\n",
      "  parksElement = driver.find_elements_by_xpath(\"//*[contains(text(), 'Parks in')]\")\n"
     ]
    }
   ],
   "source": [
    "driver = webdriver.Chrome(\"C:\\\\Users\\\\wirze\\\\DataspellProjects\\\\chromedriver_win32\\\\chromedriver.exe\")\n",
    "driver.get(\"https://www.tripadvisor.com/Search?q=parks&searchSessionId=CF4A26D0C451E0783853C96C46AC8B131637532036921ssid&sid=72ED914F7F2B4263B4C7FB9FF61A5A671637532046511&geo=186338&blockRedirect=true&ssrc=a\")\n",
    "javaScript = \"PagerNextClick();\"\n",
    "\n",
    "inputElement = driver.find_element_by_id(\"GEO_SCOPED_SEARCH_INPUT\")\n",
    "inputElement.send_keys('Moscow')\n",
    "time.sleep(2)\n",
    "clearElement = driver.find_element_by_id(\"CLEAR_WHERE\")\n",
    "clearElement.click()\n",
    "time.sleep(2)\n",
    "inputElement = driver.find_element_by_id(\"GEO_SCOPED_SEARCH_INPUT\")\n",
    "inputElement.send_keys(city_name)\n",
    "time.sleep(2)\n",
    "inputElement.send_keys(Keys.ENTER)\n",
    "time.sleep(3)\n",
    "parksElement = driver.find_elements_by_xpath(\"//*[contains(text(), 'Parks in')]\")\n",
    "parksElement[1].click()"
   ],
   "metadata": {
    "collapsed": false,
    "pycharm": {
     "name": "#%%\n"
    }
   }
  },
  {
   "cell_type": "code",
   "execution_count": 83,
   "outputs": [
    {
     "name": "stderr",
     "output_type": "stream",
     "text": [
      "C:\\Users\\wirze\\AppData\\Local\\Temp/ipykernel_17200/2944505539.py:14: DeprecationWarning: find_elements_by_* commands are deprecated. Please use find_elements() instead\n",
      "  NextPageElement = driver.find_elements_by_css_selector('[aria-label=\"Next page\"]')\n"
     ]
    },
    {
     "name": "stdout",
     "output_type": "stream",
     "text": [
      "Page is ready!\n",
      "Page is ready!\n",
      "Page is ready!\n",
      "Page is ready!\n",
      "Page is ready!\n",
      "Page is ready!\n"
     ]
    }
   ],
   "source": [
    "for i in range(42):\n",
    "    html = driver.page_source\n",
    "    soup = BeautifulSoup(html)\n",
    "\n",
    "    results_names = soup.find_all(\"div\", class_=\"csemS\")\n",
    "    results_links = soup.find_all(\"div\", class_=\"fVbwn cdAAV cagLQ eZTON dofsx\")\n",
    "    del results_links[1::2]  # delete every second element (counting from the first)\n",
    "\n",
    "    for result_link, result_name in zip(results_links, results_names):\n",
    "        if result_link.find(\"a\") is not None:\n",
    "            links[result_name.text] = result_link.find(\"a\")['href']\n",
    "    try:\n",
    "        myElem = WebDriverWait(driver, delay).until(EC.presence_of_element_located((By.CLASS_NAME, 'csemS')))\n",
    "        NextPageElement = driver.find_elements_by_css_selector('[aria-label=\"Next page\"]')\n",
    "        print (\"Page is ready!\")\n",
    "    except TimeoutException:\n",
    "        print (\"Loading took too much time!\")\n",
    "        time.sleep(5)\n",
    "\n",
    "    if len(NextPageElement) == 0:\n",
    "        break\n",
    "    NextPageElement[0].click()\n",
    "    time.sleep(5)"
   ],
   "metadata": {
    "collapsed": false,
    "pycharm": {
     "name": "#%%\n"
    }
   }
  },
  {
   "cell_type": "code",
   "execution_count": 84,
   "outputs": [
    {
     "data": {
      "text/plain": "'171. Jardin de la place Louise Losserand'"
     },
     "execution_count": 84,
     "metadata": {},
     "output_type": "execute_result"
    }
   ],
   "source": [
    "list(links)[-1]"
   ],
   "metadata": {
    "collapsed": false,
    "pycharm": {
     "name": "#%%\n"
    }
   }
  },
  {
   "cell_type": "code",
   "execution_count": 85,
   "outputs": [],
   "source": [
    "df_links_all =  pd.read_csv('all_parks_links.csv')\n",
    "\n",
    "df_links = pd.DataFrame.from_dict(links,  orient='index', columns=[\"link\"]).reset_index()\n",
    "df_links['city'] = city_name\n",
    "df_links = df_links[['city', 'index', 'link']]\n",
    "\n",
    "df_links_all2 = pd.concat([df_links_all, df_links], ignore_index=True)\n",
    "df_links_all2 = df_links_all2[['city', 'index', 'link']]\n",
    "df_links_all2.to_csv(\"all_parks_links.csv\", index=False)"
   ],
   "metadata": {
    "collapsed": false,
    "pycharm": {
     "name": "#%%\n"
    }
   }
  },
  {
   "cell_type": "code",
   "execution_count": 86,
   "outputs": [
    {
     "data": {
      "text/plain": "                 city                                     index  \\\n0           test_city                                 test_park   \n1    Saint-Petersburg              1. Catherine Palace and Park   \n2    Saint-Petersburg                       31. Inchkhona Skver   \n3    Saint-Petersburg             32. Udelny Park of Recreation   \n4    Saint-Petersburg           33. Ekateringof Recreation Park   \n..                ...                                       ...   \n520             Paris                167. Square Cyprian Norwid   \n521             Paris                  168. Square Jules Durand   \n522             Paris                 169. Square Alésia Ridder   \n523             Paris              170. Square Frédéric Bazille   \n524             Paris  171. Jardin de la place Louise Losserand   \n\n                                                  link  \n0                                            test_link  \n1    /Attraction_Review-g811323-d301025-Reviews-Cat...  \n2    /Attraction_Review-g2394587-d18344144-Reviews-...  \n3    /Attraction_Review-g298507-d6502804-Reviews-Ud...  \n4    /Attraction_Review-g298507-d6502916-Reviews-Ek...  \n..                                                 ...  \n520  /Attraction_Review-g187147-d23007212-Reviews-S...  \n521  /Attraction_Review-g187147-d23035203-Reviews-S...  \n522  /Attraction_Review-g187147-d23035214-Reviews-S...  \n523  /Attraction_Review-g187147-d21025430-Reviews-S...  \n524  /Attraction_Review-g187147-d23035218-Reviews-J...  \n\n[525 rows x 3 columns]",
      "text/html": "<div>\n<style scoped>\n    .dataframe tbody tr th:only-of-type {\n        vertical-align: middle;\n    }\n\n    .dataframe tbody tr th {\n        vertical-align: top;\n    }\n\n    .dataframe thead th {\n        text-align: right;\n    }\n</style>\n<table border=\"1\" class=\"dataframe\">\n  <thead>\n    <tr style=\"text-align: right;\">\n      <th></th>\n      <th>city</th>\n      <th>index</th>\n      <th>link</th>\n    </tr>\n  </thead>\n  <tbody>\n    <tr>\n      <th>0</th>\n      <td>test_city</td>\n      <td>test_park</td>\n      <td>test_link</td>\n    </tr>\n    <tr>\n      <th>1</th>\n      <td>Saint-Petersburg</td>\n      <td>1. Catherine Palace and Park</td>\n      <td>/Attraction_Review-g811323-d301025-Reviews-Cat...</td>\n    </tr>\n    <tr>\n      <th>2</th>\n      <td>Saint-Petersburg</td>\n      <td>31. Inchkhona Skver</td>\n      <td>/Attraction_Review-g2394587-d18344144-Reviews-...</td>\n    </tr>\n    <tr>\n      <th>3</th>\n      <td>Saint-Petersburg</td>\n      <td>32. Udelny Park of Recreation</td>\n      <td>/Attraction_Review-g298507-d6502804-Reviews-Ud...</td>\n    </tr>\n    <tr>\n      <th>4</th>\n      <td>Saint-Petersburg</td>\n      <td>33. Ekateringof Recreation Park</td>\n      <td>/Attraction_Review-g298507-d6502916-Reviews-Ek...</td>\n    </tr>\n    <tr>\n      <th>...</th>\n      <td>...</td>\n      <td>...</td>\n      <td>...</td>\n    </tr>\n    <tr>\n      <th>520</th>\n      <td>Paris</td>\n      <td>167. Square Cyprian Norwid</td>\n      <td>/Attraction_Review-g187147-d23007212-Reviews-S...</td>\n    </tr>\n    <tr>\n      <th>521</th>\n      <td>Paris</td>\n      <td>168. Square Jules Durand</td>\n      <td>/Attraction_Review-g187147-d23035203-Reviews-S...</td>\n    </tr>\n    <tr>\n      <th>522</th>\n      <td>Paris</td>\n      <td>169. Square Alésia Ridder</td>\n      <td>/Attraction_Review-g187147-d23035214-Reviews-S...</td>\n    </tr>\n    <tr>\n      <th>523</th>\n      <td>Paris</td>\n      <td>170. Square Frédéric Bazille</td>\n      <td>/Attraction_Review-g187147-d21025430-Reviews-S...</td>\n    </tr>\n    <tr>\n      <th>524</th>\n      <td>Paris</td>\n      <td>171. Jardin de la place Louise Losserand</td>\n      <td>/Attraction_Review-g187147-d23035218-Reviews-J...</td>\n    </tr>\n  </tbody>\n</table>\n<p>525 rows × 3 columns</p>\n</div>"
     },
     "execution_count": 86,
     "metadata": {},
     "output_type": "execute_result"
    }
   ],
   "source": [
    "df_links_all2"
   ],
   "metadata": {
    "collapsed": false,
    "pycharm": {
     "name": "#%%\n"
    }
   }
  },
  {
   "cell_type": "code",
   "execution_count": 87,
   "outputs": [
    {
     "data": {
      "text/plain": "                 city                                     index  \\\n0           test_city                                 test_park   \n1    Saint-Petersburg              1. Catherine Palace and Park   \n2    Saint-Petersburg                       31. Inchkhona Skver   \n3    Saint-Petersburg             32. Udelny Park of Recreation   \n4    Saint-Petersburg           33. Ekateringof Recreation Park   \n..                ...                                       ...   \n520             Paris                167. Square Cyprian Norwid   \n521             Paris                  168. Square Jules Durand   \n522             Paris                 169. Square Alésia Ridder   \n523             Paris              170. Square Frédéric Bazille   \n524             Paris  171. Jardin de la place Louise Losserand   \n\n                                                  link  \n0                                            test_link  \n1    /Attraction_Review-g811323-d301025-Reviews-Cat...  \n2    /Attraction_Review-g2394587-d18344144-Reviews-...  \n3    /Attraction_Review-g298507-d6502804-Reviews-Ud...  \n4    /Attraction_Review-g298507-d6502916-Reviews-Ek...  \n..                                                 ...  \n520  /Attraction_Review-g187147-d23007212-Reviews-S...  \n521  /Attraction_Review-g187147-d23035203-Reviews-S...  \n522  /Attraction_Review-g187147-d23035214-Reviews-S...  \n523  /Attraction_Review-g187147-d21025430-Reviews-S...  \n524  /Attraction_Review-g187147-d23035218-Reviews-J...  \n\n[525 rows x 3 columns]",
      "text/html": "<div>\n<style scoped>\n    .dataframe tbody tr th:only-of-type {\n        vertical-align: middle;\n    }\n\n    .dataframe tbody tr th {\n        vertical-align: top;\n    }\n\n    .dataframe thead th {\n        text-align: right;\n    }\n</style>\n<table border=\"1\" class=\"dataframe\">\n  <thead>\n    <tr style=\"text-align: right;\">\n      <th></th>\n      <th>city</th>\n      <th>index</th>\n      <th>link</th>\n    </tr>\n  </thead>\n  <tbody>\n    <tr>\n      <th>0</th>\n      <td>test_city</td>\n      <td>test_park</td>\n      <td>test_link</td>\n    </tr>\n    <tr>\n      <th>1</th>\n      <td>Saint-Petersburg</td>\n      <td>1. Catherine Palace and Park</td>\n      <td>/Attraction_Review-g811323-d301025-Reviews-Cat...</td>\n    </tr>\n    <tr>\n      <th>2</th>\n      <td>Saint-Petersburg</td>\n      <td>31. Inchkhona Skver</td>\n      <td>/Attraction_Review-g2394587-d18344144-Reviews-...</td>\n    </tr>\n    <tr>\n      <th>3</th>\n      <td>Saint-Petersburg</td>\n      <td>32. Udelny Park of Recreation</td>\n      <td>/Attraction_Review-g298507-d6502804-Reviews-Ud...</td>\n    </tr>\n    <tr>\n      <th>4</th>\n      <td>Saint-Petersburg</td>\n      <td>33. Ekateringof Recreation Park</td>\n      <td>/Attraction_Review-g298507-d6502916-Reviews-Ek...</td>\n    </tr>\n    <tr>\n      <th>...</th>\n      <td>...</td>\n      <td>...</td>\n      <td>...</td>\n    </tr>\n    <tr>\n      <th>520</th>\n      <td>Paris</td>\n      <td>167. Square Cyprian Norwid</td>\n      <td>/Attraction_Review-g187147-d23007212-Reviews-S...</td>\n    </tr>\n    <tr>\n      <th>521</th>\n      <td>Paris</td>\n      <td>168. Square Jules Durand</td>\n      <td>/Attraction_Review-g187147-d23035203-Reviews-S...</td>\n    </tr>\n    <tr>\n      <th>522</th>\n      <td>Paris</td>\n      <td>169. Square Alésia Ridder</td>\n      <td>/Attraction_Review-g187147-d23035214-Reviews-S...</td>\n    </tr>\n    <tr>\n      <th>523</th>\n      <td>Paris</td>\n      <td>170. Square Frédéric Bazille</td>\n      <td>/Attraction_Review-g187147-d21025430-Reviews-S...</td>\n    </tr>\n    <tr>\n      <th>524</th>\n      <td>Paris</td>\n      <td>171. Jardin de la place Louise Losserand</td>\n      <td>/Attraction_Review-g187147-d23035218-Reviews-J...</td>\n    </tr>\n  </tbody>\n</table>\n<p>525 rows × 3 columns</p>\n</div>"
     },
     "execution_count": 87,
     "metadata": {},
     "output_type": "execute_result"
    }
   ],
   "source": [
    "df_links_all =  pd.read_csv('all_parks_links.csv')\n",
    "df_links_all"
   ],
   "metadata": {
    "collapsed": false,
    "pycharm": {
     "name": "#%%\n"
    }
   }
  },
  {
   "cell_type": "code",
   "execution_count": 61,
   "outputs": [],
   "source": [
    "driver.quit()"
   ],
   "metadata": {
    "collapsed": false,
    "pycharm": {
     "name": "#%%\n"
    }
   }
  },
  {
   "cell_type": "code",
   "execution_count": null,
   "outputs": [],
   "source": [
    "n_pages = 1500\n",
    "for i in range(n_pages):\n",
    "    try:\n",
    "        driver.execute_script(javaScript)\n",
    "        # driver.implicitly_wait(3) # seconds\n",
    "\n",
    "        html = driver.page_source\n",
    "        soup = BeautifulSoup(html, \"html.parser\")\n",
    "        results = soup.find_all(\"a\", class_=\"appeal-title-link\")\n",
    "        for result in results:\n",
    "            links[re.findall(r'\\d+', result['href'])[0]] = result['href']\n",
    "\n",
    "    finally:\n",
    "        print(i/n_pages)\n",
    "\n",
    "driver.quit()"
   ],
   "metadata": {
    "collapsed": false,
    "pycharm": {
     "name": "#%%\n",
     "is_executing": true
    }
   }
  },
  {
   "cell_type": "code",
   "execution_count": 130,
   "outputs": [],
   "source": [
    "links_messages = {}\n",
    "links_headings = {}"
   ],
   "metadata": {
    "collapsed": false,
    "pycharm": {
     "name": "#%%\n"
    }
   }
  },
  {
   "cell_type": "code",
   "execution_count": 131,
   "outputs": [],
   "source": [
    "for link in links:\n",
    "    URL = \"http://zpp.rospotrebnadzor.ru\"+links[link]\n",
    "    page = requests.get(URL)\n",
    "    soup = BeautifulSoup(page.content, \"html.parser\")\n",
    "\n",
    "    page_message = soup.find(\"p\", class_=\"appeal-details-message\")\n",
    "    page_heading = soup.find(\"h2\")\n",
    "\n",
    "    links_messages[link] = page_message.text\n",
    "    links_headings[link] = page_heading.text"
   ],
   "metadata": {
    "collapsed": false,
    "pycharm": {
     "name": "#%%\n"
    }
   }
  },
  {
   "cell_type": "code",
   "execution_count": 132,
   "outputs": [
    {
     "data": {
      "text/plain": "2150"
     },
     "execution_count": 132,
     "metadata": {},
     "output_type": "execute_result"
    }
   ],
   "source": [
    "len(links_messages)"
   ],
   "metadata": {
    "collapsed": false,
    "pycharm": {
     "name": "#%%\n"
    }
   }
  },
  {
   "cell_type": "code",
   "execution_count": 133,
   "outputs": [
    {
     "data": {
      "text/plain": "      index                          link\n0     30056  /Forum/Appeals/Details/30056\n1     30047  /Forum/Appeals/Details/30047\n2     30043  /Forum/Appeals/Details/30043\n3     30037  /Forum/Appeals/Details/30037\n4     30016  /Forum/Appeals/Details/30016\n...     ...                           ...\n2145  26658  /Forum/Appeals/Details/26658\n2146  26654  /Forum/Appeals/Details/26654\n2147  26652  /Forum/Appeals/Details/26652\n2148  26651  /Forum/Appeals/Details/26651\n2149  26649  /Forum/Appeals/Details/26649\n\n[2150 rows x 2 columns]",
      "text/html": "<div>\n<style scoped>\n    .dataframe tbody tr th:only-of-type {\n        vertical-align: middle;\n    }\n\n    .dataframe tbody tr th {\n        vertical-align: top;\n    }\n\n    .dataframe thead th {\n        text-align: right;\n    }\n</style>\n<table border=\"1\" class=\"dataframe\">\n  <thead>\n    <tr style=\"text-align: right;\">\n      <th></th>\n      <th>index</th>\n      <th>link</th>\n    </tr>\n  </thead>\n  <tbody>\n    <tr>\n      <th>0</th>\n      <td>30056</td>\n      <td>/Forum/Appeals/Details/30056</td>\n    </tr>\n    <tr>\n      <th>1</th>\n      <td>30047</td>\n      <td>/Forum/Appeals/Details/30047</td>\n    </tr>\n    <tr>\n      <th>2</th>\n      <td>30043</td>\n      <td>/Forum/Appeals/Details/30043</td>\n    </tr>\n    <tr>\n      <th>3</th>\n      <td>30037</td>\n      <td>/Forum/Appeals/Details/30037</td>\n    </tr>\n    <tr>\n      <th>4</th>\n      <td>30016</td>\n      <td>/Forum/Appeals/Details/30016</td>\n    </tr>\n    <tr>\n      <th>...</th>\n      <td>...</td>\n      <td>...</td>\n    </tr>\n    <tr>\n      <th>2145</th>\n      <td>26658</td>\n      <td>/Forum/Appeals/Details/26658</td>\n    </tr>\n    <tr>\n      <th>2146</th>\n      <td>26654</td>\n      <td>/Forum/Appeals/Details/26654</td>\n    </tr>\n    <tr>\n      <th>2147</th>\n      <td>26652</td>\n      <td>/Forum/Appeals/Details/26652</td>\n    </tr>\n    <tr>\n      <th>2148</th>\n      <td>26651</td>\n      <td>/Forum/Appeals/Details/26651</td>\n    </tr>\n    <tr>\n      <th>2149</th>\n      <td>26649</td>\n      <td>/Forum/Appeals/Details/26649</td>\n    </tr>\n  </tbody>\n</table>\n<p>2150 rows × 2 columns</p>\n</div>"
     },
     "execution_count": 133,
     "metadata": {},
     "output_type": "execute_result"
    }
   ],
   "source": [
    "df_links = pd.DataFrame.from_dict(links,  orient='index', columns=[\"link\"]).reset_index()\n",
    "df_links"
   ],
   "metadata": {
    "collapsed": false,
    "pycharm": {
     "name": "#%%\n"
    }
   }
  },
  {
   "cell_type": "code",
   "execution_count": 134,
   "outputs": [
    {
     "data": {
      "text/plain": "      index                                            message\n0     30056  Прошу предоставить правовую информацию, на осн...\n1     30047  Здравствуйте!  По договору розничной купли-про...\n2     30043  здравствуйте, я Шагеева Ольга Владимировна, пр...\n3     30037  Здравствуйте! В сети интернет увидела введение...\n4     30016  Здравствуйте! Пожалуйста, примите меры ! https...\n...     ...                                                ...\n2145  26658  Как и куда отправить ответ ПЦР-теста, если нет...\n2146  26654  Здравствуйте! Сайт Zengram списали с моей карт...\n2147  26652  Прошу помочь урегулировать вопрос по страховым...\n2148  26651  Добрый день! Сегодня обнаружила, что вчера веч...\n2149  26649  5 июня 2021 г. на сайте Питомника растений  \"Э...\n\n[2150 rows x 2 columns]",
      "text/html": "<div>\n<style scoped>\n    .dataframe tbody tr th:only-of-type {\n        vertical-align: middle;\n    }\n\n    .dataframe tbody tr th {\n        vertical-align: top;\n    }\n\n    .dataframe thead th {\n        text-align: right;\n    }\n</style>\n<table border=\"1\" class=\"dataframe\">\n  <thead>\n    <tr style=\"text-align: right;\">\n      <th></th>\n      <th>index</th>\n      <th>message</th>\n    </tr>\n  </thead>\n  <tbody>\n    <tr>\n      <th>0</th>\n      <td>30056</td>\n      <td>Прошу предоставить правовую информацию, на осн...</td>\n    </tr>\n    <tr>\n      <th>1</th>\n      <td>30047</td>\n      <td>Здравствуйте!  По договору розничной купли-про...</td>\n    </tr>\n    <tr>\n      <th>2</th>\n      <td>30043</td>\n      <td>здравствуйте, я Шагеева Ольга Владимировна, пр...</td>\n    </tr>\n    <tr>\n      <th>3</th>\n      <td>30037</td>\n      <td>Здравствуйте! В сети интернет увидела введение...</td>\n    </tr>\n    <tr>\n      <th>4</th>\n      <td>30016</td>\n      <td>Здравствуйте! Пожалуйста, примите меры ! https...</td>\n    </tr>\n    <tr>\n      <th>...</th>\n      <td>...</td>\n      <td>...</td>\n    </tr>\n    <tr>\n      <th>2145</th>\n      <td>26658</td>\n      <td>Как и куда отправить ответ ПЦР-теста, если нет...</td>\n    </tr>\n    <tr>\n      <th>2146</th>\n      <td>26654</td>\n      <td>Здравствуйте! Сайт Zengram списали с моей карт...</td>\n    </tr>\n    <tr>\n      <th>2147</th>\n      <td>26652</td>\n      <td>Прошу помочь урегулировать вопрос по страховым...</td>\n    </tr>\n    <tr>\n      <th>2148</th>\n      <td>26651</td>\n      <td>Добрый день! Сегодня обнаружила, что вчера веч...</td>\n    </tr>\n    <tr>\n      <th>2149</th>\n      <td>26649</td>\n      <td>5 июня 2021 г. на сайте Питомника растений  \"Э...</td>\n    </tr>\n  </tbody>\n</table>\n<p>2150 rows × 2 columns</p>\n</div>"
     },
     "execution_count": 134,
     "metadata": {},
     "output_type": "execute_result"
    }
   ],
   "source": [
    "df_messages = pd.DataFrame.from_dict(links_messages,  orient='index', columns=[\"message\"]).reset_index()\n",
    "df_messages"
   ],
   "metadata": {
    "collapsed": false,
    "pycharm": {
     "name": "#%%\n"
    }
   }
  },
  {
   "cell_type": "code",
   "execution_count": 135,
   "outputs": [
    {
     "data": {
      "text/plain": "      index                                            heading\n0     30056                              Заявление-разьяснение\n1     30047                   Уклонение от исполнения договора\n2     30043                    торговля подделкой красной икры\n3     30037                      Вопрос о втором законопроекте\n4     30016                                          Мошенники\n...     ...                                                ...\n2145  26658                            Как отправить ПЦР тест?\n2146  26654  Отказали в возврате денежных средств за неиспо...\n2147  26652                 Мошеннические схемы ГАЗЭНЕРГОБАНКа\n2148  26651  Сайт отказал в возврате средств за неиспользов...\n2149  26649                 Питомник Экоплант - обман с ценами\n\n[2150 rows x 2 columns]",
      "text/html": "<div>\n<style scoped>\n    .dataframe tbody tr th:only-of-type {\n        vertical-align: middle;\n    }\n\n    .dataframe tbody tr th {\n        vertical-align: top;\n    }\n\n    .dataframe thead th {\n        text-align: right;\n    }\n</style>\n<table border=\"1\" class=\"dataframe\">\n  <thead>\n    <tr style=\"text-align: right;\">\n      <th></th>\n      <th>index</th>\n      <th>heading</th>\n    </tr>\n  </thead>\n  <tbody>\n    <tr>\n      <th>0</th>\n      <td>30056</td>\n      <td>Заявление-разьяснение</td>\n    </tr>\n    <tr>\n      <th>1</th>\n      <td>30047</td>\n      <td>Уклонение от исполнения договора</td>\n    </tr>\n    <tr>\n      <th>2</th>\n      <td>30043</td>\n      <td>торговля подделкой красной икры</td>\n    </tr>\n    <tr>\n      <th>3</th>\n      <td>30037</td>\n      <td>Вопрос о втором законопроекте</td>\n    </tr>\n    <tr>\n      <th>4</th>\n      <td>30016</td>\n      <td>Мошенники</td>\n    </tr>\n    <tr>\n      <th>...</th>\n      <td>...</td>\n      <td>...</td>\n    </tr>\n    <tr>\n      <th>2145</th>\n      <td>26658</td>\n      <td>Как отправить ПЦР тест?</td>\n    </tr>\n    <tr>\n      <th>2146</th>\n      <td>26654</td>\n      <td>Отказали в возврате денежных средств за неиспо...</td>\n    </tr>\n    <tr>\n      <th>2147</th>\n      <td>26652</td>\n      <td>Мошеннические схемы ГАЗЭНЕРГОБАНКа</td>\n    </tr>\n    <tr>\n      <th>2148</th>\n      <td>26651</td>\n      <td>Сайт отказал в возврате средств за неиспользов...</td>\n    </tr>\n    <tr>\n      <th>2149</th>\n      <td>26649</td>\n      <td>Питомник Экоплант - обман с ценами</td>\n    </tr>\n  </tbody>\n</table>\n<p>2150 rows × 2 columns</p>\n</div>"
     },
     "execution_count": 135,
     "metadata": {},
     "output_type": "execute_result"
    }
   ],
   "source": [
    "df_headings = pd.DataFrame.from_dict(links_headings,  orient='index', columns=[\"heading\"]).reset_index()\n",
    "df_headings"
   ],
   "metadata": {
    "collapsed": false,
    "pycharm": {
     "name": "#%%\n"
    }
   }
  },
  {
   "cell_type": "code",
   "execution_count": 136,
   "outputs": [
    {
     "data": {
      "text/plain": "      index                          link  \\\n0     30056  /Forum/Appeals/Details/30056   \n1     30047  /Forum/Appeals/Details/30047   \n2     30043  /Forum/Appeals/Details/30043   \n3     30037  /Forum/Appeals/Details/30037   \n4     30016  /Forum/Appeals/Details/30016   \n...     ...                           ...   \n2145  26658  /Forum/Appeals/Details/26658   \n2146  26654  /Forum/Appeals/Details/26654   \n2147  26652  /Forum/Appeals/Details/26652   \n2148  26651  /Forum/Appeals/Details/26651   \n2149  26649  /Forum/Appeals/Details/26649   \n\n                                                heading  \\\n0                                 Заявление-разьяснение   \n1                      Уклонение от исполнения договора   \n2                       торговля подделкой красной икры   \n3                         Вопрос о втором законопроекте   \n4                                             Мошенники   \n...                                                 ...   \n2145                            Как отправить ПЦР тест?   \n2146  Отказали в возврате денежных средств за неиспо...   \n2147                 Мошеннические схемы ГАЗЭНЕРГОБАНКа   \n2148  Сайт отказал в возврате средств за неиспользов...   \n2149                 Питомник Экоплант - обман с ценами   \n\n                                                message  \n0     Прошу предоставить правовую информацию, на осн...  \n1     Здравствуйте!  По договору розничной купли-про...  \n2     здравствуйте, я Шагеева Ольга Владимировна, пр...  \n3     Здравствуйте! В сети интернет увидела введение...  \n4     Здравствуйте! Пожалуйста, примите меры ! https...  \n...                                                 ...  \n2145  Как и куда отправить ответ ПЦР-теста, если нет...  \n2146  Здравствуйте! Сайт Zengram списали с моей карт...  \n2147  Прошу помочь урегулировать вопрос по страховым...  \n2148  Добрый день! Сегодня обнаружила, что вчера веч...  \n2149  5 июня 2021 г. на сайте Питомника растений  \"Э...  \n\n[2150 rows x 4 columns]",
      "text/html": "<div>\n<style scoped>\n    .dataframe tbody tr th:only-of-type {\n        vertical-align: middle;\n    }\n\n    .dataframe tbody tr th {\n        vertical-align: top;\n    }\n\n    .dataframe thead th {\n        text-align: right;\n    }\n</style>\n<table border=\"1\" class=\"dataframe\">\n  <thead>\n    <tr style=\"text-align: right;\">\n      <th></th>\n      <th>index</th>\n      <th>link</th>\n      <th>heading</th>\n      <th>message</th>\n    </tr>\n  </thead>\n  <tbody>\n    <tr>\n      <th>0</th>\n      <td>30056</td>\n      <td>/Forum/Appeals/Details/30056</td>\n      <td>Заявление-разьяснение</td>\n      <td>Прошу предоставить правовую информацию, на осн...</td>\n    </tr>\n    <tr>\n      <th>1</th>\n      <td>30047</td>\n      <td>/Forum/Appeals/Details/30047</td>\n      <td>Уклонение от исполнения договора</td>\n      <td>Здравствуйте!  По договору розничной купли-про...</td>\n    </tr>\n    <tr>\n      <th>2</th>\n      <td>30043</td>\n      <td>/Forum/Appeals/Details/30043</td>\n      <td>торговля подделкой красной икры</td>\n      <td>здравствуйте, я Шагеева Ольга Владимировна, пр...</td>\n    </tr>\n    <tr>\n      <th>3</th>\n      <td>30037</td>\n      <td>/Forum/Appeals/Details/30037</td>\n      <td>Вопрос о втором законопроекте</td>\n      <td>Здравствуйте! В сети интернет увидела введение...</td>\n    </tr>\n    <tr>\n      <th>4</th>\n      <td>30016</td>\n      <td>/Forum/Appeals/Details/30016</td>\n      <td>Мошенники</td>\n      <td>Здравствуйте! Пожалуйста, примите меры ! https...</td>\n    </tr>\n    <tr>\n      <th>...</th>\n      <td>...</td>\n      <td>...</td>\n      <td>...</td>\n      <td>...</td>\n    </tr>\n    <tr>\n      <th>2145</th>\n      <td>26658</td>\n      <td>/Forum/Appeals/Details/26658</td>\n      <td>Как отправить ПЦР тест?</td>\n      <td>Как и куда отправить ответ ПЦР-теста, если нет...</td>\n    </tr>\n    <tr>\n      <th>2146</th>\n      <td>26654</td>\n      <td>/Forum/Appeals/Details/26654</td>\n      <td>Отказали в возврате денежных средств за неиспо...</td>\n      <td>Здравствуйте! Сайт Zengram списали с моей карт...</td>\n    </tr>\n    <tr>\n      <th>2147</th>\n      <td>26652</td>\n      <td>/Forum/Appeals/Details/26652</td>\n      <td>Мошеннические схемы ГАЗЭНЕРГОБАНКа</td>\n      <td>Прошу помочь урегулировать вопрос по страховым...</td>\n    </tr>\n    <tr>\n      <th>2148</th>\n      <td>26651</td>\n      <td>/Forum/Appeals/Details/26651</td>\n      <td>Сайт отказал в возврате средств за неиспользов...</td>\n      <td>Добрый день! Сегодня обнаружила, что вчера веч...</td>\n    </tr>\n    <tr>\n      <th>2149</th>\n      <td>26649</td>\n      <td>/Forum/Appeals/Details/26649</td>\n      <td>Питомник Экоплант - обман с ценами</td>\n      <td>5 июня 2021 г. на сайте Питомника растений  \"Э...</td>\n    </tr>\n  </tbody>\n</table>\n<p>2150 rows × 4 columns</p>\n</div>"
     },
     "execution_count": 136,
     "metadata": {},
     "output_type": "execute_result"
    }
   ],
   "source": [
    "df = df_links.merge(df_headings).merge(df_messages)\n",
    "df.to_csv(\"small_data.csv\")\n",
    "df"
   ],
   "metadata": {
    "collapsed": false,
    "pycharm": {
     "name": "#%%\n"
    }
   }
  }
 ],
 "metadata": {
  "kernelspec": {
   "display_name": "Python 3",
   "language": "python",
   "name": "python3"
  },
  "language_info": {
   "codemirror_mode": {
    "name": "ipython",
    "version": 2
   },
   "file_extension": ".py",
   "mimetype": "text/x-python",
   "name": "python",
   "nbconvert_exporter": "python",
   "pygments_lexer": "ipython2",
   "version": "2.7.6"
  }
 },
 "nbformat": 4,
 "nbformat_minor": 0
}