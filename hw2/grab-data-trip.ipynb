{
 "cells": [
  {
   "cell_type": "code",
   "execution_count": 2,
   "metadata": {
    "collapsed": true
   },
   "outputs": [],
   "source": [
    "import requests\n",
    "from bs4 import BeautifulSoup\n",
    "import re\n",
    "from selenium import webdriver\n",
    "from selenium.webdriver.common.keys import Keys\n",
    "\n",
    "import pandas as pd\n",
    "import time"
   ]
  },
  {
   "cell_type": "code",
   "execution_count": 3,
   "outputs": [
    {
     "name": "stderr",
     "output_type": "stream",
     "text": [
      "C:\\Users\\wirze\\AppData\\Local\\Temp/ipykernel_26152/1593989845.py:2: DeprecationWarning: executable_path has been deprecated, please pass in a Service object\n",
      "  driver = webdriver.Chrome(\"C:\\\\Users\\\\wirze\\\\DataspellProjects\\\\chromedriver_win32\\\\chromedriver.exe\")\n"
     ]
    }
   ],
   "source": [
    "links = {}\n",
    "driver = webdriver.Chrome(\"C:\\\\Users\\\\wirze\\\\DataspellProjects\\\\chromedriver_win32\\\\chromedriver.exe\")\n",
    "driver.get(\"https://www.tripadvisor.com/Search?q=parks&searchSessionId=CF4A26D0C451E0783853C96C46AC8B131637532036921ssid&sid=72ED914F7F2B4263B4C7FB9FF61A5A671637532046511&geo=186338&blockRedirect=true&ssrc=a\")\n",
    "javaScript = \"PagerNextClick();\""
   ],
   "metadata": {
    "collapsed": false,
    "pycharm": {
     "name": "#%%\n"
    }
   }
  },
  {
   "cell_type": "code",
   "execution_count": 4,
   "outputs": [
    {
     "name": "stderr",
     "output_type": "stream",
     "text": [
      "C:\\Users\\wirze\\AppData\\Local\\Temp/ipykernel_26152/1130507203.py:1: DeprecationWarning: find_element_by_* commands are deprecated. Please use find_element() instead\n",
      "  inputElement = driver.find_element_by_id(\"GEO_SCOPED_SEARCH_INPUT\")\n"
     ]
    }
   ],
   "source": [
    "inputElement = driver.find_element_by_id(\"GEO_SCOPED_SEARCH_INPUT\")\n",
    "inputElement.send_keys('Moscow')"
   ],
   "metadata": {
    "collapsed": false,
    "pycharm": {
     "name": "#%%\n"
    }
   }
  },
  {
   "cell_type": "code",
   "execution_count": 5,
   "outputs": [
    {
     "name": "stderr",
     "output_type": "stream",
     "text": [
      "C:\\Users\\wirze\\AppData\\Local\\Temp/ipykernel_26152/3341757118.py:1: DeprecationWarning: find_element_by_* commands are deprecated. Please use find_element() instead\n",
      "  clearElement = driver.find_element_by_id(\"CLEAR_WHERE\")\n"
     ]
    }
   ],
   "source": [
    "clearElement = driver.find_element_by_id(\"CLEAR_WHERE\")\n",
    "clearElement.click()"
   ],
   "metadata": {
    "collapsed": false,
    "pycharm": {
     "name": "#%%\n"
    }
   }
  },
  {
   "cell_type": "code",
   "execution_count": 6,
   "outputs": [
    {
     "name": "stderr",
     "output_type": "stream",
     "text": [
      "C:\\Users\\wirze\\AppData\\Local\\Temp/ipykernel_26152/301636850.py:1: DeprecationWarning: find_element_by_* commands are deprecated. Please use find_element() instead\n",
      "  inputElement = driver.find_element_by_id(\"GEO_SCOPED_SEARCH_INPUT\")\n"
     ]
    }
   ],
   "source": [
    "inputElement = driver.find_element_by_id(\"GEO_SCOPED_SEARCH_INPUT\")\n",
    "inputElement.send_keys('London')"
   ],
   "metadata": {
    "collapsed": false,
    "pycharm": {
     "name": "#%%\n"
    }
   }
  },
  {
   "cell_type": "code",
   "execution_count": 7,
   "outputs": [],
   "source": [
    "inputElement.send_keys(Keys.ENTER)"
   ],
   "metadata": {
    "collapsed": false,
    "pycharm": {
     "name": "#%%\n"
    }
   }
  },
  {
   "cell_type": "code",
   "execution_count": 8,
   "outputs": [
    {
     "name": "stderr",
     "output_type": "stream",
     "text": [
      "C:\\Users\\wirze\\AppData\\Local\\Temp/ipykernel_26152/1667884103.py:1: DeprecationWarning: find_elements_by_* commands are deprecated. Please use find_elements() instead\n",
      "  parksElement = driver.find_elements_by_xpath(\"//*[contains(text(), 'Parks in')]\")\n"
     ]
    }
   ],
   "source": [
    "parksElement = driver.find_elements_by_xpath(\"//*[contains(text(), 'Parks in')]\")\n",
    "parksElement[1].click()"
   ],
   "metadata": {
    "collapsed": false,
    "pycharm": {
     "name": "#%%\n"
    }
   }
  },
  {
   "cell_type": "code",
   "execution_count": null,
   "outputs": [],
   "source": [],
   "metadata": {
    "collapsed": false,
    "pycharm": {
     "name": "#%%\n"
    }
   }
  },
  {
   "cell_type": "code",
   "execution_count": 10,
   "outputs": [
    {
     "name": "stderr",
     "output_type": "stream",
     "text": [
      "C:\\Users\\wirze\\AppData\\Local\\Temp/ipykernel_26152/2444517317.py:13: DeprecationWarning: find_elements_by_* commands are deprecated. Please use find_elements() instead\n",
      "  NextPageElement = driver.find_elements_by_css_selector('[aria-label=\"Next page\"]')\n"
     ]
    }
   ],
   "source": [
    "for i in range(42):\n",
    "    html = driver.page_source\n",
    "    soup = BeautifulSoup(html)\n",
    "\n",
    "    results_names = soup.find_all(\"div\", class_=\"csemS\")\n",
    "    results_links = soup.find_all(\"div\", class_=\"fVbwn cdAAV cagLQ eZTON dofsx\")\n",
    "    del results_links[1::2]  # delete every second element (counting from the first)\n",
    "\n",
    "    for result_link, result_name in zip(results_links, results_names):\n",
    "        if result_link.find(\"a\") is not None:\n",
    "            links[result_name.text] = result_link.find(\"a\")['href']\n",
    "\n",
    "    NextPageElement = driver.find_elements_by_css_selector('[aria-label=\"Next page\"]')\n",
    "    if len(NextPageElement) == 0:\n",
    "        break\n",
    "    NextPageElement[0].click()\n",
    "    time.sleep(5)"
   ],
   "metadata": {
    "collapsed": false,
    "pycharm": {
     "name": "#%%\n"
    }
   }
  },
  {
   "cell_type": "code",
   "execution_count": 18,
   "outputs": [
    {
     "data": {
      "text/plain": "'166. Arlington Square Gardens'"
     },
     "execution_count": 18,
     "metadata": {},
     "output_type": "execute_result"
    }
   ],
   "source": [
    "list(links)[-1]"
   ],
   "metadata": {
    "collapsed": false,
    "pycharm": {
     "name": "#%%\n"
    }
   }
  },
  {
   "cell_type": "code",
   "execution_count": 12,
   "outputs": [
    {
     "data": {
      "text/plain": "                                            index  \\\n0                                    1. Hyde Park   \n1                             2. St. James's Park   \n2                                3. Regent's Park   \n3                           4. Kensington Gardens   \n4                              5. Hampstead Heath   \n..                                            ...   \n146  162. Martin Luther King Adventure Playground   \n147            163. Timbuktu Adventure Playground   \n148                           164. Cannizaro Park   \n149                           165. Gladstone Park   \n150                 166. Arlington Square Gardens   \n\n                                                  link  \n0    /Attraction_Review-g186338-d189030-Reviews-Hyd...  \n1    /Attraction_Review-g186338-d188126-Reviews-St_...  \n2    /Attraction_Review-g186338-d187675-Reviews-Reg...  \n3    /Attraction_Review-g186338-d188893-Reviews-Ken...  \n4    /Attraction_Review-g186338-d211768-Reviews-Ham...  \n..                                                 ...  \n146  /Attraction_Review-g186338-d12097677-Reviews-M...  \n147  /Attraction_Review-g186338-d12097680-Reviews-T...  \n148  /Attraction_Review-g186338-d13544032-Reviews-C...  \n149  /Attraction_Review-g186338-d16729335-Reviews-G...  \n150  /Attraction_Review-g186338-d17456738-Reviews-A...  \n\n[151 rows x 2 columns]",
      "text/html": "<div>\n<style scoped>\n    .dataframe tbody tr th:only-of-type {\n        vertical-align: middle;\n    }\n\n    .dataframe tbody tr th {\n        vertical-align: top;\n    }\n\n    .dataframe thead th {\n        text-align: right;\n    }\n</style>\n<table border=\"1\" class=\"dataframe\">\n  <thead>\n    <tr style=\"text-align: right;\">\n      <th></th>\n      <th>index</th>\n      <th>link</th>\n    </tr>\n  </thead>\n  <tbody>\n    <tr>\n      <th>0</th>\n      <td>1. Hyde Park</td>\n      <td>/Attraction_Review-g186338-d189030-Reviews-Hyd...</td>\n    </tr>\n    <tr>\n      <th>1</th>\n      <td>2. St. James's Park</td>\n      <td>/Attraction_Review-g186338-d188126-Reviews-St_...</td>\n    </tr>\n    <tr>\n      <th>2</th>\n      <td>3. Regent's Park</td>\n      <td>/Attraction_Review-g186338-d187675-Reviews-Reg...</td>\n    </tr>\n    <tr>\n      <th>3</th>\n      <td>4. Kensington Gardens</td>\n      <td>/Attraction_Review-g186338-d188893-Reviews-Ken...</td>\n    </tr>\n    <tr>\n      <th>4</th>\n      <td>5. Hampstead Heath</td>\n      <td>/Attraction_Review-g186338-d211768-Reviews-Ham...</td>\n    </tr>\n    <tr>\n      <th>...</th>\n      <td>...</td>\n      <td>...</td>\n    </tr>\n    <tr>\n      <th>146</th>\n      <td>162. Martin Luther King Adventure Playground</td>\n      <td>/Attraction_Review-g186338-d12097677-Reviews-M...</td>\n    </tr>\n    <tr>\n      <th>147</th>\n      <td>163. Timbuktu Adventure Playground</td>\n      <td>/Attraction_Review-g186338-d12097680-Reviews-T...</td>\n    </tr>\n    <tr>\n      <th>148</th>\n      <td>164. Cannizaro Park</td>\n      <td>/Attraction_Review-g186338-d13544032-Reviews-C...</td>\n    </tr>\n    <tr>\n      <th>149</th>\n      <td>165. Gladstone Park</td>\n      <td>/Attraction_Review-g186338-d16729335-Reviews-G...</td>\n    </tr>\n    <tr>\n      <th>150</th>\n      <td>166. Arlington Square Gardens</td>\n      <td>/Attraction_Review-g186338-d17456738-Reviews-A...</td>\n    </tr>\n  </tbody>\n</table>\n<p>151 rows × 2 columns</p>\n</div>"
     },
     "execution_count": 12,
     "metadata": {},
     "output_type": "execute_result"
    }
   ],
   "source": [
    "df_links = pd.DataFrame.from_dict(links,  orient='index', columns=[\"link\"]).reset_index()\n",
    "df_links.to_csv(\"london_parks_links.csv\")\n",
    "df_links"
   ],
   "metadata": {
    "collapsed": false,
    "pycharm": {
     "name": "#%%\n"
    }
   }
  },
  {
   "cell_type": "code",
   "execution_count": 13,
   "outputs": [],
   "source": [
    "driver.quit()"
   ],
   "metadata": {
    "collapsed": false,
    "pycharm": {
     "name": "#%%\n"
    }
   }
  },
  {
   "cell_type": "code",
   "execution_count": null,
   "outputs": [],
   "source": [
    "n_pages = 1500\n",
    "for i in range(n_pages):\n",
    "    try:\n",
    "        driver.execute_script(javaScript)\n",
    "        # driver.implicitly_wait(3) # seconds\n",
    "\n",
    "        html = driver.page_source\n",
    "        soup = BeautifulSoup(html, \"html.parser\")\n",
    "        results = soup.find_all(\"a\", class_=\"appeal-title-link\")\n",
    "        for result in results:\n",
    "            links[re.findall(r'\\d+', result['href'])[0]] = result['href']\n",
    "\n",
    "    finally:\n",
    "        print(i/n_pages)\n",
    "\n",
    "driver.quit()"
   ],
   "metadata": {
    "collapsed": false,
    "pycharm": {
     "name": "#%%\n",
     "is_executing": true
    }
   }
  },
  {
   "cell_type": "code",
   "execution_count": 130,
   "outputs": [],
   "source": [
    "links_messages = {}\n",
    "links_headings = {}"
   ],
   "metadata": {
    "collapsed": false,
    "pycharm": {
     "name": "#%%\n"
    }
   }
  },
  {
   "cell_type": "code",
   "execution_count": 131,
   "outputs": [],
   "source": [
    "for link in links:\n",
    "    URL = \"http://zpp.rospotrebnadzor.ru\"+links[link]\n",
    "    page = requests.get(URL)\n",
    "    soup = BeautifulSoup(page.content, \"html.parser\")\n",
    "\n",
    "    page_message = soup.find(\"p\", class_=\"appeal-details-message\")\n",
    "    page_heading = soup.find(\"h2\")\n",
    "\n",
    "    links_messages[link] = page_message.text\n",
    "    links_headings[link] = page_heading.text"
   ],
   "metadata": {
    "collapsed": false,
    "pycharm": {
     "name": "#%%\n"
    }
   }
  },
  {
   "cell_type": "code",
   "execution_count": 132,
   "outputs": [
    {
     "data": {
      "text/plain": "2150"
     },
     "execution_count": 132,
     "metadata": {},
     "output_type": "execute_result"
    }
   ],
   "source": [
    "len(links_messages)"
   ],
   "metadata": {
    "collapsed": false,
    "pycharm": {
     "name": "#%%\n"
    }
   }
  },
  {
   "cell_type": "code",
   "execution_count": 133,
   "outputs": [
    {
     "data": {
      "text/plain": "      index                          link\n0     30056  /Forum/Appeals/Details/30056\n1     30047  /Forum/Appeals/Details/30047\n2     30043  /Forum/Appeals/Details/30043\n3     30037  /Forum/Appeals/Details/30037\n4     30016  /Forum/Appeals/Details/30016\n...     ...                           ...\n2145  26658  /Forum/Appeals/Details/26658\n2146  26654  /Forum/Appeals/Details/26654\n2147  26652  /Forum/Appeals/Details/26652\n2148  26651  /Forum/Appeals/Details/26651\n2149  26649  /Forum/Appeals/Details/26649\n\n[2150 rows x 2 columns]",
      "text/html": "<div>\n<style scoped>\n    .dataframe tbody tr th:only-of-type {\n        vertical-align: middle;\n    }\n\n    .dataframe tbody tr th {\n        vertical-align: top;\n    }\n\n    .dataframe thead th {\n        text-align: right;\n    }\n</style>\n<table border=\"1\" class=\"dataframe\">\n  <thead>\n    <tr style=\"text-align: right;\">\n      <th></th>\n      <th>index</th>\n      <th>link</th>\n    </tr>\n  </thead>\n  <tbody>\n    <tr>\n      <th>0</th>\n      <td>30056</td>\n      <td>/Forum/Appeals/Details/30056</td>\n    </tr>\n    <tr>\n      <th>1</th>\n      <td>30047</td>\n      <td>/Forum/Appeals/Details/30047</td>\n    </tr>\n    <tr>\n      <th>2</th>\n      <td>30043</td>\n      <td>/Forum/Appeals/Details/30043</td>\n    </tr>\n    <tr>\n      <th>3</th>\n      <td>30037</td>\n      <td>/Forum/Appeals/Details/30037</td>\n    </tr>\n    <tr>\n      <th>4</th>\n      <td>30016</td>\n      <td>/Forum/Appeals/Details/30016</td>\n    </tr>\n    <tr>\n      <th>...</th>\n      <td>...</td>\n      <td>...</td>\n    </tr>\n    <tr>\n      <th>2145</th>\n      <td>26658</td>\n      <td>/Forum/Appeals/Details/26658</td>\n    </tr>\n    <tr>\n      <th>2146</th>\n      <td>26654</td>\n      <td>/Forum/Appeals/Details/26654</td>\n    </tr>\n    <tr>\n      <th>2147</th>\n      <td>26652</td>\n      <td>/Forum/Appeals/Details/26652</td>\n    </tr>\n    <tr>\n      <th>2148</th>\n      <td>26651</td>\n      <td>/Forum/Appeals/Details/26651</td>\n    </tr>\n    <tr>\n      <th>2149</th>\n      <td>26649</td>\n      <td>/Forum/Appeals/Details/26649</td>\n    </tr>\n  </tbody>\n</table>\n<p>2150 rows × 2 columns</p>\n</div>"
     },
     "execution_count": 133,
     "metadata": {},
     "output_type": "execute_result"
    }
   ],
   "source": [
    "df_links = pd.DataFrame.from_dict(links,  orient='index', columns=[\"link\"]).reset_index()\n",
    "df_links"
   ],
   "metadata": {
    "collapsed": false,
    "pycharm": {
     "name": "#%%\n"
    }
   }
  },
  {
   "cell_type": "code",
   "execution_count": 134,
   "outputs": [
    {
     "data": {
      "text/plain": "      index                                            message\n0     30056  Прошу предоставить правовую информацию, на осн...\n1     30047  Здравствуйте!  По договору розничной купли-про...\n2     30043  здравствуйте, я Шагеева Ольга Владимировна, пр...\n3     30037  Здравствуйте! В сети интернет увидела введение...\n4     30016  Здравствуйте! Пожалуйста, примите меры ! https...\n...     ...                                                ...\n2145  26658  Как и куда отправить ответ ПЦР-теста, если нет...\n2146  26654  Здравствуйте! Сайт Zengram списали с моей карт...\n2147  26652  Прошу помочь урегулировать вопрос по страховым...\n2148  26651  Добрый день! Сегодня обнаружила, что вчера веч...\n2149  26649  5 июня 2021 г. на сайте Питомника растений  \"Э...\n\n[2150 rows x 2 columns]",
      "text/html": "<div>\n<style scoped>\n    .dataframe tbody tr th:only-of-type {\n        vertical-align: middle;\n    }\n\n    .dataframe tbody tr th {\n        vertical-align: top;\n    }\n\n    .dataframe thead th {\n        text-align: right;\n    }\n</style>\n<table border=\"1\" class=\"dataframe\">\n  <thead>\n    <tr style=\"text-align: right;\">\n      <th></th>\n      <th>index</th>\n      <th>message</th>\n    </tr>\n  </thead>\n  <tbody>\n    <tr>\n      <th>0</th>\n      <td>30056</td>\n      <td>Прошу предоставить правовую информацию, на осн...</td>\n    </tr>\n    <tr>\n      <th>1</th>\n      <td>30047</td>\n      <td>Здравствуйте!  По договору розничной купли-про...</td>\n    </tr>\n    <tr>\n      <th>2</th>\n      <td>30043</td>\n      <td>здравствуйте, я Шагеева Ольга Владимировна, пр...</td>\n    </tr>\n    <tr>\n      <th>3</th>\n      <td>30037</td>\n      <td>Здравствуйте! В сети интернет увидела введение...</td>\n    </tr>\n    <tr>\n      <th>4</th>\n      <td>30016</td>\n      <td>Здравствуйте! Пожалуйста, примите меры ! https...</td>\n    </tr>\n    <tr>\n      <th>...</th>\n      <td>...</td>\n      <td>...</td>\n    </tr>\n    <tr>\n      <th>2145</th>\n      <td>26658</td>\n      <td>Как и куда отправить ответ ПЦР-теста, если нет...</td>\n    </tr>\n    <tr>\n      <th>2146</th>\n      <td>26654</td>\n      <td>Здравствуйте! Сайт Zengram списали с моей карт...</td>\n    </tr>\n    <tr>\n      <th>2147</th>\n      <td>26652</td>\n      <td>Прошу помочь урегулировать вопрос по страховым...</td>\n    </tr>\n    <tr>\n      <th>2148</th>\n      <td>26651</td>\n      <td>Добрый день! Сегодня обнаружила, что вчера веч...</td>\n    </tr>\n    <tr>\n      <th>2149</th>\n      <td>26649</td>\n      <td>5 июня 2021 г. на сайте Питомника растений  \"Э...</td>\n    </tr>\n  </tbody>\n</table>\n<p>2150 rows × 2 columns</p>\n</div>"
     },
     "execution_count": 134,
     "metadata": {},
     "output_type": "execute_result"
    }
   ],
   "source": [
    "df_messages = pd.DataFrame.from_dict(links_messages,  orient='index', columns=[\"message\"]).reset_index()\n",
    "df_messages"
   ],
   "metadata": {
    "collapsed": false,
    "pycharm": {
     "name": "#%%\n"
    }
   }
  },
  {
   "cell_type": "code",
   "execution_count": 135,
   "outputs": [
    {
     "data": {
      "text/plain": "      index                                            heading\n0     30056                              Заявление-разьяснение\n1     30047                   Уклонение от исполнения договора\n2     30043                    торговля подделкой красной икры\n3     30037                      Вопрос о втором законопроекте\n4     30016                                          Мошенники\n...     ...                                                ...\n2145  26658                            Как отправить ПЦР тест?\n2146  26654  Отказали в возврате денежных средств за неиспо...\n2147  26652                 Мошеннические схемы ГАЗЭНЕРГОБАНКа\n2148  26651  Сайт отказал в возврате средств за неиспользов...\n2149  26649                 Питомник Экоплант - обман с ценами\n\n[2150 rows x 2 columns]",
      "text/html": "<div>\n<style scoped>\n    .dataframe tbody tr th:only-of-type {\n        vertical-align: middle;\n    }\n\n    .dataframe tbody tr th {\n        vertical-align: top;\n    }\n\n    .dataframe thead th {\n        text-align: right;\n    }\n</style>\n<table border=\"1\" class=\"dataframe\">\n  <thead>\n    <tr style=\"text-align: right;\">\n      <th></th>\n      <th>index</th>\n      <th>heading</th>\n    </tr>\n  </thead>\n  <tbody>\n    <tr>\n      <th>0</th>\n      <td>30056</td>\n      <td>Заявление-разьяснение</td>\n    </tr>\n    <tr>\n      <th>1</th>\n      <td>30047</td>\n      <td>Уклонение от исполнения договора</td>\n    </tr>\n    <tr>\n      <th>2</th>\n      <td>30043</td>\n      <td>торговля подделкой красной икры</td>\n    </tr>\n    <tr>\n      <th>3</th>\n      <td>30037</td>\n      <td>Вопрос о втором законопроекте</td>\n    </tr>\n    <tr>\n      <th>4</th>\n      <td>30016</td>\n      <td>Мошенники</td>\n    </tr>\n    <tr>\n      <th>...</th>\n      <td>...</td>\n      <td>...</td>\n    </tr>\n    <tr>\n      <th>2145</th>\n      <td>26658</td>\n      <td>Как отправить ПЦР тест?</td>\n    </tr>\n    <tr>\n      <th>2146</th>\n      <td>26654</td>\n      <td>Отказали в возврате денежных средств за неиспо...</td>\n    </tr>\n    <tr>\n      <th>2147</th>\n      <td>26652</td>\n      <td>Мошеннические схемы ГАЗЭНЕРГОБАНКа</td>\n    </tr>\n    <tr>\n      <th>2148</th>\n      <td>26651</td>\n      <td>Сайт отказал в возврате средств за неиспользов...</td>\n    </tr>\n    <tr>\n      <th>2149</th>\n      <td>26649</td>\n      <td>Питомник Экоплант - обман с ценами</td>\n    </tr>\n  </tbody>\n</table>\n<p>2150 rows × 2 columns</p>\n</div>"
     },
     "execution_count": 135,
     "metadata": {},
     "output_type": "execute_result"
    }
   ],
   "source": [
    "df_headings = pd.DataFrame.from_dict(links_headings,  orient='index', columns=[\"heading\"]).reset_index()\n",
    "df_headings"
   ],
   "metadata": {
    "collapsed": false,
    "pycharm": {
     "name": "#%%\n"
    }
   }
  },
  {
   "cell_type": "code",
   "execution_count": 136,
   "outputs": [
    {
     "data": {
      "text/plain": "      index                          link  \\\n0     30056  /Forum/Appeals/Details/30056   \n1     30047  /Forum/Appeals/Details/30047   \n2     30043  /Forum/Appeals/Details/30043   \n3     30037  /Forum/Appeals/Details/30037   \n4     30016  /Forum/Appeals/Details/30016   \n...     ...                           ...   \n2145  26658  /Forum/Appeals/Details/26658   \n2146  26654  /Forum/Appeals/Details/26654   \n2147  26652  /Forum/Appeals/Details/26652   \n2148  26651  /Forum/Appeals/Details/26651   \n2149  26649  /Forum/Appeals/Details/26649   \n\n                                                heading  \\\n0                                 Заявление-разьяснение   \n1                      Уклонение от исполнения договора   \n2                       торговля подделкой красной икры   \n3                         Вопрос о втором законопроекте   \n4                                             Мошенники   \n...                                                 ...   \n2145                            Как отправить ПЦР тест?   \n2146  Отказали в возврате денежных средств за неиспо...   \n2147                 Мошеннические схемы ГАЗЭНЕРГОБАНКа   \n2148  Сайт отказал в возврате средств за неиспользов...   \n2149                 Питомник Экоплант - обман с ценами   \n\n                                                message  \n0     Прошу предоставить правовую информацию, на осн...  \n1     Здравствуйте!  По договору розничной купли-про...  \n2     здравствуйте, я Шагеева Ольга Владимировна, пр...  \n3     Здравствуйте! В сети интернет увидела введение...  \n4     Здравствуйте! Пожалуйста, примите меры ! https...  \n...                                                 ...  \n2145  Как и куда отправить ответ ПЦР-теста, если нет...  \n2146  Здравствуйте! Сайт Zengram списали с моей карт...  \n2147  Прошу помочь урегулировать вопрос по страховым...  \n2148  Добрый день! Сегодня обнаружила, что вчера веч...  \n2149  5 июня 2021 г. на сайте Питомника растений  \"Э...  \n\n[2150 rows x 4 columns]",
      "text/html": "<div>\n<style scoped>\n    .dataframe tbody tr th:only-of-type {\n        vertical-align: middle;\n    }\n\n    .dataframe tbody tr th {\n        vertical-align: top;\n    }\n\n    .dataframe thead th {\n        text-align: right;\n    }\n</style>\n<table border=\"1\" class=\"dataframe\">\n  <thead>\n    <tr style=\"text-align: right;\">\n      <th></th>\n      <th>index</th>\n      <th>link</th>\n      <th>heading</th>\n      <th>message</th>\n    </tr>\n  </thead>\n  <tbody>\n    <tr>\n      <th>0</th>\n      <td>30056</td>\n      <td>/Forum/Appeals/Details/30056</td>\n      <td>Заявление-разьяснение</td>\n      <td>Прошу предоставить правовую информацию, на осн...</td>\n    </tr>\n    <tr>\n      <th>1</th>\n      <td>30047</td>\n      <td>/Forum/Appeals/Details/30047</td>\n      <td>Уклонение от исполнения договора</td>\n      <td>Здравствуйте!  По договору розничной купли-про...</td>\n    </tr>\n    <tr>\n      <th>2</th>\n      <td>30043</td>\n      <td>/Forum/Appeals/Details/30043</td>\n      <td>торговля подделкой красной икры</td>\n      <td>здравствуйте, я Шагеева Ольга Владимировна, пр...</td>\n    </tr>\n    <tr>\n      <th>3</th>\n      <td>30037</td>\n      <td>/Forum/Appeals/Details/30037</td>\n      <td>Вопрос о втором законопроекте</td>\n      <td>Здравствуйте! В сети интернет увидела введение...</td>\n    </tr>\n    <tr>\n      <th>4</th>\n      <td>30016</td>\n      <td>/Forum/Appeals/Details/30016</td>\n      <td>Мошенники</td>\n      <td>Здравствуйте! Пожалуйста, примите меры ! https...</td>\n    </tr>\n    <tr>\n      <th>...</th>\n      <td>...</td>\n      <td>...</td>\n      <td>...</td>\n      <td>...</td>\n    </tr>\n    <tr>\n      <th>2145</th>\n      <td>26658</td>\n      <td>/Forum/Appeals/Details/26658</td>\n      <td>Как отправить ПЦР тест?</td>\n      <td>Как и куда отправить ответ ПЦР-теста, если нет...</td>\n    </tr>\n    <tr>\n      <th>2146</th>\n      <td>26654</td>\n      <td>/Forum/Appeals/Details/26654</td>\n      <td>Отказали в возврате денежных средств за неиспо...</td>\n      <td>Здравствуйте! Сайт Zengram списали с моей карт...</td>\n    </tr>\n    <tr>\n      <th>2147</th>\n      <td>26652</td>\n      <td>/Forum/Appeals/Details/26652</td>\n      <td>Мошеннические схемы ГАЗЭНЕРГОБАНКа</td>\n      <td>Прошу помочь урегулировать вопрос по страховым...</td>\n    </tr>\n    <tr>\n      <th>2148</th>\n      <td>26651</td>\n      <td>/Forum/Appeals/Details/26651</td>\n      <td>Сайт отказал в возврате средств за неиспользов...</td>\n      <td>Добрый день! Сегодня обнаружила, что вчера веч...</td>\n    </tr>\n    <tr>\n      <th>2149</th>\n      <td>26649</td>\n      <td>/Forum/Appeals/Details/26649</td>\n      <td>Питомник Экоплант - обман с ценами</td>\n      <td>5 июня 2021 г. на сайте Питомника растений  \"Э...</td>\n    </tr>\n  </tbody>\n</table>\n<p>2150 rows × 4 columns</p>\n</div>"
     },
     "execution_count": 136,
     "metadata": {},
     "output_type": "execute_result"
    }
   ],
   "source": [
    "df = df_links.merge(df_headings).merge(df_messages)\n",
    "df.to_csv(\"small_data.csv\")\n",
    "df"
   ],
   "metadata": {
    "collapsed": false,
    "pycharm": {
     "name": "#%%\n"
    }
   }
  }
 ],
 "metadata": {
  "kernelspec": {
   "display_name": "Python 3",
   "language": "python",
   "name": "python3"
  },
  "language_info": {
   "codemirror_mode": {
    "name": "ipython",
    "version": 2
   },
   "file_extension": ".py",
   "mimetype": "text/x-python",
   "name": "python",
   "nbconvert_exporter": "python",
   "pygments_lexer": "ipython2",
   "version": "2.7.6"
  }
 },
 "nbformat": 4,
 "nbformat_minor": 0
}