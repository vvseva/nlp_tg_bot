{
 "cells": [
  {
   "cell_type": "code",
   "execution_count": null,
   "outputs": [],
   "source": [
    "# C:\\Users\\<username>\\.aws\n",
    "# create file credentials без расширения\n",
    "# вставьте туда то, что вы скопировали с AWS CLI:"
   ],
   "metadata": {
    "collapsed": false,
    "pycharm": {
     "name": "#%%\n"
    }
   }
  },
  {
   "cell_type": "code",
   "execution_count": 1,
   "outputs": [],
   "source": [
    "import boto3\n",
    "import json\n",
    "from boto3.dynamodb.conditions import Key, Attr"
   ],
   "metadata": {
    "collapsed": false,
    "pycharm": {
     "name": "#%%\n"
    }
   }
  },
  {
   "cell_type": "code",
   "execution_count": 70,
   "metadata": {
    "collapsed": true
   },
   "outputs": [],
   "source": [
    "# создаём подключение к клиенту базы данных\n",
    "db_client = boto3.client('dynamodb')"
   ]
  },
  {
   "cell_type": "markdown",
   "source": [
    "###  Create table"
   ],
   "metadata": {
    "collapsed": false,
    "pycharm": {
     "name": "#%% md\n"
    }
   }
  },
  {
   "cell_type": "code",
   "execution_count": 6,
   "outputs": [],
   "source": [
    "# табличка\n",
    "# при создании таблицы нужно указать только 2 ключа\n",
    "\n",
    "table = db_client.create_table(\n",
    "    TableName='Options',\n",
    "    KeySchema=[\n",
    "        {\n",
    "            'AttributeName': 'user',\n",
    "            'KeyType': 'HASH'  # Partition key основной ключ\n",
    "        },\n",
    "        {\n",
    "            'AttributeName': 'date',\n",
    "            'KeyType': 'RANGE'  # Sort key улюч сортировки\n",
    "        }\n",
    "    ],\n",
    "    AttributeDefinitions=[\n",
    "        {\n",
    "            'AttributeName': 'user',\n",
    "            'AttributeType': 'S' # S значит стринг\n",
    "        },\n",
    "        {\n",
    "            'AttributeName': 'date',\n",
    "            'AttributeType': 'S'\n",
    "        },\n",
    "    ],\n",
    "    ProvisionedThroughput={\n",
    "        'ReadCapacityUnits': 1,\n",
    "        'WriteCapacityUnits': 1\n",
    "    }\n",
    ")"
   ],
   "metadata": {
    "collapsed": false,
    "pycharm": {
     "name": "#%%\n"
    }
   }
  },
  {
   "cell_type": "code",
   "execution_count": 4,
   "outputs": [],
   "source": [
    "# вторая таблица\n",
    "table = db_client.create_table(\n",
    "    TableName='Choices',\n",
    "    KeySchema=[\n",
    "        {\n",
    "            'AttributeName': 'user',\n",
    "            'KeyType': 'HASH'  # Partition key\n",
    "        },\n",
    "        {\n",
    "            'AttributeName': 'date',\n",
    "            'KeyType': 'RANGE'  # Sort key\n",
    "        }\n",
    "    ],\n",
    "    AttributeDefinitions=[\n",
    "        {\n",
    "            'AttributeName': 'user',\n",
    "            'AttributeType': 'S'\n",
    "        },\n",
    "        {\n",
    "            'AttributeName': 'date',\n",
    "            'AttributeType': 'S'\n",
    "        },\n",
    "    ],\n",
    "    ProvisionedThroughput={\n",
    "        'ReadCapacityUnits': 1,\n",
    "        'WriteCapacityUnits': 1\n",
    "    }\n",
    ")"
   ],
   "metadata": {
    "collapsed": false,
    "pycharm": {
     "name": "#%%\n"
    }
   }
  },
  {
   "cell_type": "code",
   "execution_count": 72,
   "outputs": [
    {
     "data": {
      "text/plain": "{'Items': [{'user': {'S': 'vvseva'},\n   'alternative': {'S': 'blue'},\n   'date': {'S': '05/Dec/2021:12:54:32 +0000'},\n   'selected': {'S': 'red'}},\n  {'user': {'S': 'vvseva'},\n   'alternative': {'S': 'yellow'},\n   'date': {'S': '06/Dec/2021:12:28:44 +0000'},\n   'selected': {'S': 'red'}},\n  {'user': {'S': 'vvseva'},\n   'alternative': {'S': 'yellow'},\n   'date': {'S': '06/Dec/2021:12:29:13 +0000'},\n   'selected': {'S': 'red'}},\n  {'user': {'S': 'vvseva'},\n   'alternative': {'S': 'blue'},\n   'date': {'S': '06/Dec/2021:12:29:16 +0000'},\n   'selected': {'S': 'green'}},\n  {'user': {'S': 'vvseva'},\n   'alternative': {'S': 'red'},\n   'date': {'S': '06/Dec/2021:13:10:37 +0000'},\n   'selected': {'S': 'yellow'}},\n  {'user': {'S': 'vvseva'},\n   'alternative': {'S': 'yellow'},\n   'date': {'S': '06/Dec/2021:13:10:39 +0000'},\n   'selected': {'S': 'red'}},\n  {'user': {'S': 'vvseva'},\n   'alternative': {'S': 'red'},\n   'date': {'S': '06/Dec/2021:13:10:55 +0000'},\n   'selected': {'S': 'yellow'}},\n  {'user': {'S': 'vvseva'},\n   'alternative': {'S': 'blue'},\n   'date': {'S': '06/Dec/2021:13:10:59 +0000'},\n   'selected': {'S': 'red'}},\n  {'user': {'S': 'vvseva'},\n   'alternative': {'S': 'blue'},\n   'date': {'S': '06/Dec/2021:13:15:36 +0000'},\n   'selected': {'S': 'green'}},\n  {'user': {'S': 'vvseva'},\n   'alternative': {'S': 'red'},\n   'date': {'S': '06/Dec/2021:13:32:57 +0000'},\n   'selected': {'S': 'blue'}},\n  {'user': {'S': 'vvseva'},\n   'alternative': {'S': 'blue'},\n   'date': {'S': '06/Dec/2021:14:34:44 +0000'},\n   'selected': {'S': 'red'}},\n  {'user': {'S': 'vvseva'},\n   'alternative': {'S': 'yellow'},\n   'date': {'S': '06/Dec/2021:17:31:14 +0000'},\n   'selected': {'S': 'red'}},\n  {'user': {'S': 'vvseva'},\n   'alternative': {'S': 'red'},\n   'date': {'S': '06/Dec/2021:17:44:09 +0000'},\n   'selected': {'S': 'blue'}},\n  {'user': {'S': 'vvseva'},\n   'alternative': {'S': 'blue'},\n   'date': {'S': '06/Dec/2021:17:44:18 +0000'},\n   'selected': {'S': 'red'}},\n  {'user': {'S': 'vvseva'},\n   'alternative': {'S': 'red'},\n   'date': {'S': '06/Dec/2021:17:56:00 +0000'},\n   'selected': {'S': 'blue'}}],\n 'Count': 15,\n 'ScannedCount': 15,\n 'ResponseMetadata': {'RequestId': 'BP53KSAEDJ4IQPHL2888RTS7IJVV4KQNSO5AEMVJF66Q9ASUAAJG',\n  'HTTPStatusCode': 200,\n  'HTTPHeaders': {'server': 'Server',\n   'date': 'Mon, 06 Dec 2021 17:56:07 GMT',\n   'content-type': 'application/x-amz-json-1.0',\n   'content-length': '1796',\n   'connection': 'keep-alive',\n   'x-amzn-requestid': 'BP53KSAEDJ4IQPHL2888RTS7IJVV4KQNSO5AEMVJF66Q9ASUAAJG',\n   'x-amz-crc32': '2694083166'},\n  'RetryAttempts': 0}}"
     },
     "execution_count": 72,
     "metadata": {},
     "output_type": "execute_result"
    }
   ],
   "source": [
    "# смотрим на все записи, которые есть в таблице\n",
    "db_client.scan(TableName = \"Choices\")"
   ],
   "metadata": {
    "collapsed": false,
    "pycharm": {
     "name": "#%%\n"
    }
   }
  },
  {
   "cell_type": "code",
   "execution_count": 17,
   "outputs": [
    {
     "data": {
      "text/plain": "dynamodb.Table(name='Choices')"
     },
     "execution_count": 17,
     "metadata": {},
     "output_type": "execute_result"
    }
   ],
   "source": [
    "# по другому подключаемся к 1 таблице, чтобы делать запросы к ней\n",
    "dynamodb = boto3.resource('dynamodb')\n",
    "table_Choices = dynamodb.Table('Choices')\n",
    "table_Choices"
   ],
   "metadata": {
    "collapsed": false,
    "pycharm": {
     "name": "#%%\n"
    }
   }
  },
  {
   "cell_type": "markdown",
   "source": [
    "### Read table"
   ],
   "metadata": {
    "collapsed": false,
    "pycharm": {
     "name": "#%% md\n"
    }
   }
  },
  {
   "cell_type": "code",
   "execution_count": 58,
   "outputs": [],
   "source": [
    "# поиск по полю user чтобы оно было равно нашему значению\n",
    "\n",
    "user = 'vvseva'\n",
    "response = table_Choices.query(\n",
    "    KeyConditionExpression=Key('user').eq(user),\n",
    "    ScanIndexForward = False,\n",
    "    Limit = 1\n",
    ")"
   ],
   "metadata": {
    "collapsed": false,
    "pycharm": {
     "name": "#%%\n"
    }
   }
  },
  {
   "cell_type": "code",
   "execution_count": 64,
   "outputs": [
    {
     "data": {
      "text/plain": "'vvseva'"
     },
     "execution_count": 64,
     "metadata": {},
     "output_type": "execute_result"
    }
   ],
   "source": [
    "# парсим джос\n",
    "response['Items'][0]"
   ],
   "metadata": {
    "collapsed": false,
    "pycharm": {
     "name": "#%%\n"
    }
   }
  },
  {
   "cell_type": "code",
   "execution_count": 65,
   "outputs": [],
   "source": [
    "table_Choices = dynamodb.Table('Options')\n",
    "user = 'vvseva'\n",
    "response = table_Choices.query(\n",
    "    KeyConditionExpression=Key('user').eq(user),\n",
    "    ScanIndexForward = False,\n",
    "    Limit = 1\n",
    ")"
   ],
   "metadata": {
    "collapsed": false,
    "pycharm": {
     "name": "#%%\n"
    }
   }
  },
  {
   "cell_type": "code",
   "execution_count": 73,
   "outputs": [
    {
     "data": {
      "text/plain": "{'user': 'vvseva',\n 'date': '06/Dec/2021:13:00:38 +0000',\n 'option1': 'yellow',\n 'option0': 'red'}"
     },
     "execution_count": 73,
     "metadata": {},
     "output_type": "execute_result"
    }
   ],
   "source": [
    "response['Items'][0]"
   ],
   "metadata": {
    "collapsed": false,
    "pycharm": {
     "name": "#%%\n"
    }
   }
  },
  {
   "cell_type": "markdown",
   "source": [
    "## INVOKE labmda\n",
    "используем лямбду без апи\n",
    "такой же алгоритм если хотите использовать лямбду внутри другой лямбды"
   ],
   "metadata": {
    "collapsed": false,
    "pycharm": {
     "name": "#%% md\n"
    }
   }
  },
  {
   "cell_type": "code",
   "execution_count": 73,
   "outputs": [],
   "source": [
    "import typing, json\n",
    "# подключаетесь к клиету лямбд\n",
    "lambda_client = boto3.client('lambda')"
   ],
   "metadata": {
    "collapsed": false,
    "pycharm": {
     "name": "#%%\n"
    }
   }
  },
  {
   "cell_type": "code",
   "execution_count": 74,
   "outputs": [],
   "source": [
    "\n",
    "def invokeLambdaFunction(*, functionName:str=None, payload:typing.Mapping[str, str]=None):\n",
    "    '''\n",
    "\n",
    "    :param functionName: имя функции\n",
    "    :param payload: словарь (джсон) с аргументами\n",
    "    :return: результат из лямбды. скорее всего джсон\n",
    "    '''\n",
    "    if  functionName == None:\n",
    "        raise Exception('ERROR: functionName parameter cannot be NULL')\n",
    "    payloadStr = json.dumps(payload)\n",
    "    payloadBytesArr = bytes(payloadStr, encoding='utf8')\n",
    "    client = boto3.client('lambda')\n",
    "    response = client.invoke(\n",
    "        FunctionName=functionName,\n",
    "        InvocationType=\"RequestResponse\",\n",
    "        Payload=payloadBytesArr\n",
    "    )\n",
    "    return response"
   ],
   "metadata": {
    "collapsed": false,
    "pycharm": {
     "name": "#%%\n"
    }
   }
  },
  {
   "cell_type": "code",
   "execution_count": null,
   "outputs": [],
   "source": [
    "# функция cph из примера в конфле"
   ],
   "metadata": {
    "collapsed": false,
    "pycharm": {
     "name": "#%%\n"
    }
   }
  },
  {
   "cell_type": "code",
   "execution_count": 84,
   "outputs": [],
   "source": [
    "payloadObj = {\"text\" : \"how are you doing LOVE YOU\"}\n",
    "response = invokeLambdaFunction(functionName='cph',  payload=payloadObj)"
   ],
   "metadata": {
    "collapsed": false,
    "pycharm": {
     "name": "#%%\n"
    }
   }
  },
  {
   "cell_type": "code",
   "execution_count": 85,
   "outputs": [
    {
     "data": {
      "text/plain": "{'ResponseMetadata': {'RequestId': 'ec05bb66-ed79-440c-9f5a-a12d7f79872b',\n  'HTTPStatusCode': 200,\n  'HTTPHeaders': {'date': 'Mon, 06 Dec 2021 17:58:42 GMT',\n   'content-type': 'application/json',\n   'content-length': '510',\n   'connection': 'keep-alive',\n   'x-amzn-requestid': 'ec05bb66-ed79-440c-9f5a-a12d7f79872b',\n   'x-amzn-remapped-content-length': '0',\n   'x-amz-executed-version': '$LATEST',\n   'x-amzn-trace-id': 'root=1-61ae4f52-22f7b0081d014f88296be37f;sampled=0'},\n  'RetryAttempts': 0},\n 'StatusCode': 200,\n 'ExecutedVersion': '$LATEST',\n 'Payload': <botocore.response.StreamingBody at 0x21e6b335af0>}"
     },
     "execution_count": 85,
     "metadata": {},
     "output_type": "execute_result"
    }
   ],
   "source": [
    "response"
   ],
   "metadata": {
    "collapsed": false,
    "pycharm": {
     "name": "#%%\n"
    }
   }
  },
  {
   "cell_type": "code",
   "execution_count": 86,
   "outputs": [
    {
     "data": {
      "text/plain": "{'statusCode': 200,\n 'body': {'Sentiment': 'POSITIVE',\n  'SentimentScore': {'Positive': 0.9199503660202026,\n   'Negative': 0.004127929452806711,\n   'Neutral': 0.07217232882976532,\n   'Mixed': 0.003749364987015724},\n  'ResponseMetadata': {'RequestId': 'c414e54c-bae9-488f-8455-c9234587f4ae',\n   'HTTPStatusCode': 200,\n   'HTTPHeaders': {'x-amzn-requestid': 'c414e54c-bae9-488f-8455-c9234587f4ae',\n    'content-type': 'application/x-amz-json-1.1',\n    'content-length': '164',\n    'date': 'Mon, 06 Dec 2021 17:58:42 GMT'},\n   'RetryAttempts': 0}}}"
     },
     "execution_count": 86,
     "metadata": {},
     "output_type": "execute_result"
    }
   ],
   "source": [
    "# парсим ответ\n",
    "response_json = json.loads(response[\"Payload\"].read().decode(\"utf-8\"))\n",
    "response_json"
   ],
   "metadata": {
    "collapsed": false,
    "pycharm": {
     "name": "#%%\n"
    }
   }
  },
  {
   "cell_type": "code",
   "execution_count": 82,
   "outputs": [
    {
     "data": {
      "text/plain": "'NEGATIVE'"
     },
     "execution_count": 82,
     "metadata": {},
     "output_type": "execute_result"
    }
   ],
   "source": [
    "response_json['body']['Sentiment']"
   ],
   "metadata": {
    "collapsed": false,
    "pycharm": {
     "name": "#%%\n"
    }
   }
  },
  {
   "cell_type": "code",
   "execution_count": 83,
   "outputs": [
    {
     "data": {
      "text/plain": "{'Positive': 0.0008534153457731009,\n 'Negative': 0.9878454804420471,\n 'Neutral': 0.010970450937747955,\n 'Mixed': 0.00033070490462705493}"
     },
     "execution_count": 83,
     "metadata": {},
     "output_type": "execute_result"
    }
   ],
   "source": [
    "response_json['body']['SentimentScore']"
   ],
   "metadata": {
    "collapsed": false,
    "pycharm": {
     "name": "#%%\n"
    }
   }
  },
  {
   "cell_type": "markdown",
   "source": [
    "## S3"
   ],
   "metadata": {
    "collapsed": false,
    "pycharm": {
     "name": "#%% md\n"
    }
   }
  },
  {
   "cell_type": "code",
   "execution_count": 2,
   "outputs": [],
   "source": [
    "resource = boto3.resource('s3')"
   ],
   "metadata": {
    "collapsed": false,
    "pycharm": {
     "name": "#%%\n"
    }
   }
  },
  {
   "cell_type": "code",
   "execution_count": null,
   "outputs": [],
   "source": [
    "# https://mybacketaws.s3.amazonaws.com/chicago_parks_reviews.csv"
   ],
   "metadata": {
    "collapsed": false,
    "pycharm": {
     "name": "#%%\n"
    }
   }
  },
  {
   "cell_type": "code",
   "execution_count": 3,
   "outputs": [],
   "source": [
    "my_bucket = resource.Bucket('mybacketaws')\n",
    "key = 'chicago_parks_reviews.csv'\n",
    "local_filename = 'chicago_parks_reviews.csv'"
   ],
   "metadata": {
    "collapsed": false,
    "pycharm": {
     "name": "#%%\n"
    }
   }
  },
  {
   "cell_type": "code",
   "execution_count": 4,
   "outputs": [],
   "source": [
    "my_bucket.download_file(key, local_filename)"
   ],
   "metadata": {
    "collapsed": false,
    "pycharm": {
     "name": "#%%\n"
    }
   }
  },
  {
   "cell_type": "markdown",
   "source": [
    "link be like  s3://mybucket/foo/bar/file.txt\n",
    "\n",
    "Bucket   --> mybucket\n",
    "Key      --> foo/bar/file.txt\n",
    "Filename --> /local/path/file.txt"
   ],
   "metadata": {
    "collapsed": false,
    "pycharm": {
     "name": "#%% md\n"
    }
   }
  },
  {
   "cell_type": "code",
   "execution_count": null,
   "outputs": [],
   "source": [
    "Bucket = 'mybacketaws'\n",
    "\n",
    "my_bucket = resource.Bucket(Bucket)\n",
    "key = 'chicago_parks_reviews.csv'\n",
    "local_filename = 'test_data_m3.csv'"
   ],
   "metadata": {
    "collapsed": false,
    "pycharm": {
     "name": "#%%\n"
    }
   }
  },
  {
   "cell_type": "code",
   "execution_count": null,
   "outputs": [],
   "source": [
    "my_bucket.download_file(key, local_filename)"
   ],
   "metadata": {
    "collapsed": false,
    "pycharm": {
     "name": "#%%\n"
    }
   }
  }
 ],
 "metadata": {
  "kernelspec": {
   "display_name": "Python 3",
   "language": "python",
   "name": "python3"
  },
  "language_info": {
   "codemirror_mode": {
    "name": "ipython",
    "version": 2
   },
   "file_extension": ".py",
   "mimetype": "text/x-python",
   "name": "python",
   "nbconvert_exporter": "python",
   "pygments_lexer": "ipython2",
   "version": "2.7.6"
  }
 },
 "nbformat": 4,
 "nbformat_minor": 0
}