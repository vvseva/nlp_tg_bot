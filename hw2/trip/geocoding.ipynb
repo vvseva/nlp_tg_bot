{
 "cells": [
  {
   "cell_type": "markdown",
   "source": [
    "## geocoding\n",
    "https://developer.mapquest.com/\n",
    "\n",
    "https://developer.mapquest.com/documentation/open/nominatim-search/search/"
   ],
   "metadata": {
    "collapsed": false,
    "pycharm": {
     "name": "#%% md\n"
    }
   }
  },
  {
   "cell_type": "code",
   "execution_count": 1,
   "metadata": {
    "collapsed": true
   },
   "outputs": [],
   "source": [
    "import json\n",
    "import urllib3\n",
    "from random import sample\n",
    "http = urllib3.PoolManager()\n",
    "map_key = 'ze0sA2AronedAPmRSoMVsPfEs7giUS1f'"
   ]
  },
  {
   "cell_type": "code",
   "execution_count": 44,
   "outputs": [],
   "source": [
    "map_place = 'Victory Park'\n",
    "map_city = 'Moscow'"
   ],
   "metadata": {
    "collapsed": false,
    "pycharm": {
     "name": "#%%\n"
    }
   }
  },
  {
   "cell_type": "code",
   "execution_count": 45,
   "outputs": [],
   "source": [
    "url = f'http://open.mapquestapi.com/nominatim/v1/search.php?key={map_key}&format=json&q={map_place}+{map_city}+[park]&addressdetails=1&limit=3&viewbox=-1.99%2C52.02%2C0.78%2C50.94&exclude_place_ids=41697'\n",
    "response = http.request(\"GET\", url)"
   ],
   "metadata": {
    "collapsed": false,
    "pycharm": {
     "name": "#%%\n"
    }
   }
  },
  {
   "cell_type": "code",
   "execution_count": 46,
   "outputs": [
    {
     "data": {
      "text/plain": "<urllib3.response.HTTPResponse at 0x28ed99d6130>"
     },
     "execution_count": 46,
     "metadata": {},
     "output_type": "execute_result"
    }
   ],
   "source": [
    "response"
   ],
   "metadata": {
    "collapsed": false,
    "pycharm": {
     "name": "#%%\n"
    }
   }
  },
  {
   "cell_type": "code",
   "execution_count": 47,
   "outputs": [
    {
     "data": {
      "text/plain": "{'place_id': '187551510',\n 'licence': 'Data © OpenStreetMap contributors, ODbL 1.0. https://www.openstreetmap.org/copyright',\n 'osm_type': 'relation',\n 'osm_id': '2400271',\n 'boundingbox': ['55.7416574', '55.7528613', '37.4707719', '37.4976545'],\n 'lat': '55.74698805',\n 'lon': '37.483228044432',\n 'display_name': 'Филевский парк, Филёвская пойма, район Филёвский Парк, Западный административный округ, Москва, ЦФО, 121309, РФ',\n 'class': 'leisure',\n 'type': 'park',\n 'importance': 0.081025407498537,\n 'address': {'park': 'Филевский парк',\n  'suburb': 'район Филёвский Парк',\n  'state_district': 'Западный административный округ',\n  'state': 'Москва',\n  'postcode': '121309',\n  'country': 'РФ',\n  'country_code': 'ru'}}"
     },
     "execution_count": 47,
     "metadata": {},
     "output_type": "execute_result"
    }
   ],
   "source": [
    "data = json.loads(response.data)\n",
    "data[0]"
   ],
   "metadata": {
    "collapsed": false,
    "pycharm": {
     "name": "#%%\n"
    }
   }
  },
  {
   "cell_type": "code",
   "execution_count": 48,
   "outputs": [
    {
     "data": {
      "text/plain": "'55.74698805'"
     },
     "execution_count": 48,
     "metadata": {},
     "output_type": "execute_result"
    }
   ],
   "source": [
    "data[0]['lat']"
   ],
   "metadata": {
    "collapsed": false,
    "pycharm": {
     "name": "#%%\n"
    }
   }
  },
  {
   "cell_type": "code",
   "execution_count": 49,
   "outputs": [
    {
     "data": {
      "text/plain": "'37.483228044432'"
     },
     "execution_count": 49,
     "metadata": {},
     "output_type": "execute_result"
    }
   ],
   "source": [
    "data[0]['lon']"
   ],
   "metadata": {
    "collapsed": false,
    "pycharm": {
     "name": "#%%\n"
    }
   }
  },
  {
   "cell_type": "code",
   "execution_count": 2,
   "outputs": [],
   "source": [
    "def place_to_geo(place, city, map_key = map_key):\n",
    "    '''\n",
    "\n",
    "    :param place: Name of place to search\n",
    "    :param city: Name of city\n",
    "    :param map_key: API KEY from https://developer.mapquest.com/\n",
    "    :return: dict {'lat': '55.6280353', 'lon': '36.9952076310053'}\n",
    "    '''\n",
    "    geo = {}\n",
    "\n",
    "    url = f'http://open.mapquestapi.com/nominatim/v1/search.php?key={map_key}&format=json&q={place}+{city}+[park]&addressdetails=1&limit=3&viewbox=-1.99%2C52.02%2C0.78%2C50.94&exclude_place_ids=41697'\n",
    "    response = http.request(\"GET\", url)\n",
    "    data = json.loads(response.data)[0]\n",
    "\n",
    "    geo['lat'] = data['lat']\n",
    "    geo['lon'] = data['lon']\n",
    "    return geo"
   ],
   "metadata": {
    "collapsed": false,
    "pycharm": {
     "name": "#%%\n"
    }
   }
  },
  {
   "cell_type": "code",
   "execution_count": 96,
   "outputs": [
    {
     "data": {
      "text/plain": "{'lat': '55.70925415', 'lon': '37.564302230622'}"
     },
     "execution_count": 96,
     "metadata": {},
     "output_type": "execute_result"
    }
   ],
   "source": [
    "ptg = place_to_geo('Sparrow Hills', 'Moscow')\n",
    "ptg"
   ],
   "metadata": {
    "collapsed": false,
    "pycharm": {
     "name": "#%%\n"
    }
   }
  },
  {
   "cell_type": "code",
   "execution_count": 97,
   "outputs": [
    {
     "data": {
      "text/plain": "{'lat': '55.70925415', 'lon': '37.564302230622'}"
     },
     "execution_count": 97,
     "metadata": {},
     "output_type": "execute_result"
    }
   ],
   "source": [
    "ptg = place_to_geo('Vorobyovy Gory', 'Moscow')\n",
    "ptg"
   ],
   "metadata": {
    "collapsed": false,
    "pycharm": {
     "name": "#%%\n"
    }
   }
  },
  {
   "cell_type": "markdown",
   "source": [
    "## Revere geo"
   ],
   "metadata": {
    "collapsed": false,
    "pycharm": {
     "name": "#%% md\n"
    }
   }
  },
  {
   "cell_type": "code",
   "execution_count": 62,
   "outputs": [],
   "source": [
    "lat = 59.9800492\n",
    "lon= 30.3272148\n",
    "url = f'http://open.mapquestapi.com/geocoding/v1/reverse?key={map_key}&location={lat},{lon}&includeRoadMetadata=true&includeNearestIntersection=true'"
   ],
   "metadata": {
    "collapsed": false,
    "pycharm": {
     "name": "#%%\n"
    }
   }
  },
  {
   "cell_type": "code",
   "execution_count": 65,
   "outputs": [
    {
     "data": {
      "text/plain": "{'info': {'statuscode': 0,\n  'copyright': {'text': '© 2021 MapQuest, Inc.',\n   'imageUrl': 'http://api.mqcdn.com/res/mqlogo.gif',\n   'imageAltText': '© 2021 MapQuest, Inc.'},\n  'messages': []},\n 'options': {'maxResults': 1, 'thumbMaps': True, 'ignoreLatLngInput': False},\n 'results': [{'providedLocation': {'latLng': {'lat': 59.9800492,\n     'lng': 30.3272148}},\n   'locations': [{'street': '3 к1 Kantemirovskaya Street',\n     'adminArea6': '',\n     'adminArea6Type': 'Neighborhood',\n     'adminArea5': 'округ Сампсониевское',\n     'adminArea5Type': 'City',\n     'adminArea4': '',\n     'adminArea4Type': 'County',\n     'adminArea3': 'Saint Petersburg',\n     'adminArea3Type': 'State',\n     'adminArea1': 'RU',\n     'adminArea1Type': 'Country',\n     'postalCode': '194100',\n     'geocodeQualityCode': 'P1AAA',\n     'geocodeQuality': 'POINT',\n     'dragPoint': False,\n     'sideOfStreet': 'N',\n     'linkId': '0',\n     'unknownInput': '',\n     'type': 's',\n     'latLng': {'lat': 59.98014, 'lng': 30.32674},\n     'displayLatLng': {'lat': 59.98014, 'lng': 30.32674},\n     'mapUrl': 'http://open.mapquestapi.com/staticmap/v5/map?key=ze0sA2AronedAPmRSoMVsPfEs7giUS1f&type=map&size=225,160&locations=59.9801399,30.326740393901474|marker-sm-50318A-1&scalebar=true&zoom=15&rand=2136761846',\n     'nearestIntersection': None,\n     'roadMetadata': None}]}]}"
     },
     "execution_count": 65,
     "metadata": {},
     "output_type": "execute_result"
    }
   ],
   "source": [
    "response = http.request(\"GET\", url)\n",
    "data = json.loads(response.data)\n",
    "data"
   ],
   "metadata": {
    "collapsed": false,
    "pycharm": {
     "name": "#%%\n"
    }
   }
  },
  {
   "cell_type": "code",
   "execution_count": 80,
   "outputs": [
    {
     "data": {
      "text/plain": "{'street': '3 к1 Kantemirovskaya Street',\n 'adminArea6': '',\n 'adminArea6Type': 'Neighborhood',\n 'adminArea5': 'округ Сампсониевское',\n 'adminArea5Type': 'City',\n 'adminArea4': '',\n 'adminArea4Type': 'County',\n 'adminArea3': 'Saint Petersburg',\n 'adminArea3Type': 'State',\n 'adminArea1': 'RU',\n 'adminArea1Type': 'Country',\n 'postalCode': '194100',\n 'geocodeQualityCode': 'P1AAA',\n 'geocodeQuality': 'POINT',\n 'dragPoint': False,\n 'sideOfStreet': 'N',\n 'linkId': '0',\n 'unknownInput': '',\n 'type': 's',\n 'latLng': {'lat': 59.98014, 'lng': 30.32674},\n 'displayLatLng': {'lat': 59.98014, 'lng': 30.32674},\n 'mapUrl': 'http://open.mapquestapi.com/staticmap/v5/map?key=ze0sA2AronedAPmRSoMVsPfEs7giUS1f&type=map&size=225,160&locations=59.9801399,30.326740393901474|marker-sm-50318A-1&scalebar=true&zoom=15&rand=2136761846',\n 'nearestIntersection': None,\n 'roadMetadata': None}"
     },
     "execution_count": 80,
     "metadata": {},
     "output_type": "execute_result"
    }
   ],
   "source": [
    "level = 4\n",
    "data['results'][0]['locations'][0]#[f'adminArea{level}']"
   ],
   "metadata": {
    "collapsed": false,
    "pycharm": {
     "name": "#%%\n"
    }
   }
  },
  {
   "cell_type": "code",
   "execution_count": 3,
   "outputs": [],
   "source": [
    "def geo_to_palace(lat, lon, level = 3, map_key = map_key):\n",
    "    '''\n",
    "\n",
    "    :param lat: latitude\n",
    "    :param lon: longitude\n",
    "    :param level: 3 city; 1 county (for RUssia)\n",
    "    :param map_key: API KEY from https://developer.mapquest.com/\n",
    "    :return: location area name\n",
    "    '''\n",
    "\n",
    "    url = f'http://open.mapquestapi.com/geocoding/v1/reverse?key={map_key}&location={lat},{lon}&includeRoadMetadata=false&includeNearestIntersection=false'\n",
    "    response = http.request(\"GET\", url)\n",
    "    data = json.loads(response.data)\n",
    "\n",
    "    location = data['results'][0]['locations'][0][f'adminArea{level}']\n",
    "\n",
    "    return location"
   ],
   "metadata": {
    "collapsed": false,
    "pycharm": {
     "name": "#%%\n"
    }
   }
  },
  {
   "cell_type": "code",
   "execution_count": 84,
   "outputs": [
    {
     "data": {
      "text/plain": "'Saint Petersburg'"
     },
     "execution_count": 84,
     "metadata": {},
     "output_type": "execute_result"
    }
   ],
   "source": [
    "geo_to_palace(lat = 60.0800492,\n",
    "lon= 30.3272148)"
   ],
   "metadata": {
    "collapsed": false,
    "pycharm": {
     "name": "#%%\n"
    }
   }
  },
  {
   "cell_type": "code",
   "execution_count": 85,
   "outputs": [],
   "source": [
    "temp ='{\\\"update_id\\\":705524548,\\n\\\"message\\\":{\\\"message_id\\\":205,\\\"from\\\":{\\\"id\\\":286246095,\\\"is_bot\\\":false,\\\"first_name\\\":\\\"Seva\\\",\\\"last_name\\\":\\\"S.\\\",\\\"username\\\":\\\"vvseva\\\",\\\"language_code\\\":\\\"en\\\"},\\\"chat\\\":{\\\"id\\\":286246095,\\\"first_name\\\":\\\"Seva\\\",\\\"last_name\\\":\\\"S.\\\",\\\"username\\\":\\\"vvseva\\\",\\\"type\\\":\\\"private\\\"},\\\"date\\\":1638729506,\\\"location\\\":{\\\"latitude\\\":59.920443,\\\"longitude\\\":30.341387}}}'"
   ],
   "metadata": {
    "collapsed": false,
    "pycharm": {
     "name": "#%%\n"
    }
   }
  },
  {
   "cell_type": "code",
   "execution_count": 90,
   "outputs": [
    {
     "data": {
      "text/plain": "{'latitude': 59.920443, 'longitude': 30.341387}"
     },
     "execution_count": 90,
     "metadata": {},
     "output_type": "execute_result"
    }
   ],
   "source": [
    "json.loads(temp)['message']['location']"
   ],
   "metadata": {
    "collapsed": false,
    "pycharm": {
     "name": "#%%\n"
    }
   }
  },
  {
   "cell_type": "markdown",
   "source": [
    "## distance"
   ],
   "metadata": {
    "collapsed": false,
    "pycharm": {
     "name": "#%% md\n"
    }
   }
  },
  {
   "cell_type": "code",
   "execution_count": 100,
   "outputs": [],
   "source": [
    "from_ll = f'59.920443, 30.341387'\n",
    "to_ll = f'60.920443, 30.341387'"
   ],
   "metadata": {
    "collapsed": false,
    "pycharm": {
     "name": "#%%\n"
    }
   }
  },
  {
   "cell_type": "code",
   "execution_count": 101,
   "outputs": [],
   "source": [
    "url = f'http://open.mapquestapi.com/directions/v2/route?key={map_key}&from={from_ll},VA&to={to_ll}'"
   ],
   "metadata": {
    "collapsed": false,
    "pycharm": {
     "name": "#%%\n"
    }
   }
  },
  {
   "cell_type": "code",
   "execution_count": 102,
   "outputs": [
    {
     "data": {
      "text/plain": "{'route': {'hasTollRoad': False,\n  'hasBridge': False,\n  'boundingBox': {'lr': {'lng': 30.461803, 'lat': 59.941002},\n   'ul': {'lng': 30.179241, 'lat': 61.005394}},\n  'distance': 99.213,\n  'hasTimedRestriction': False,\n  'hasTunnel': False,\n  'hasHighway': True,\n  'computedWaypoints': [],\n  'routeError': {'errorCode': -400, 'message': ''},\n  'formattedTime': '02:06:32',\n  'sessionId': '61ad214e-0201-4ee4-02b4-392f-0a65c1078291',\n  'hasAccessRestriction': False,\n  'realTime': -1,\n  'hasSeasonalClosure': False,\n  'hasCountryCross': False,\n  'fuelUsed': 4.24,\n  'legs': [{'hasTollRoad': False,\n    'hasBridge': False,\n    'destNarrative': 'Proceed to Ларионовское сельское поселение, LENINGRAD OBLAST.',\n    'distance': 99.213,\n    'hasTimedRestriction': False,\n    'hasTunnel': False,\n    'hasHighway': True,\n    'index': 0,\n    'formattedTime': '02:06:32',\n    'origIndex': 6,\n    'hasAccessRestriction': False,\n    'hasSeasonalClosure': False,\n    'hasCountryCross': False,\n    'roadGradeStrategy': [[]],\n    'destIndex': 13,\n    'time': 7592,\n    'hasUnpaved': True,\n    'origNarrative': 'Go north on Свердловская набережная.',\n    'maneuvers': [{'distance': 0.312,\n      'streets': ['Суворовский проспект'],\n      'narrative': 'Start out going northeast on Суворовский проспект toward Кирочная улица/Kirochnaya Street.',\n      'turnType': 0,\n      'startPoint': {'lng': 30.38081, 'lat': 59.941574},\n      'index': 0,\n      'formattedTime': '00:00:44',\n      'directionName': 'Northeast',\n      'maneuverNotes': [],\n      'linkIds': [],\n      'signs': [],\n      'mapUrl': 'http://open.mapquestapi.com/staticmap/v5/map?key=ze0sA2AronedAPmRSoMVsPfEs7giUS1f&size=225,160&locations=59.94157409667969,30.380809783935547|marker-1||59.94477081298828,30.387161254882812|marker-2||&center=59.943172454833984,30.38398551940918&defaultMarker=none&zoom=11&rand=-1342267365&session=61ad214e-0201-4ee4-02b4-392f-0a65c1078291',\n      'transportMode': 'AUTO',\n      'attributes': 0,\n      'time': 44,\n      'iconUrl': 'http://content.mqcdn.com/mqsite/turnsigns/icon-dirs-start_sm.gif',\n      'direction': 3},\n     {'distance': 0.428,\n      'streets': ['Тульская улица'],\n      'narrative': 'Turn right onto Тульская улица/Tulskaya Street. Continue to follow Тульская улица.',\n      'turnType': 2,\n      'startPoint': {'lng': 30.387161, 'lat': 59.944771},\n      'index': 1,\n      'formattedTime': '00:01:00',\n      'directionName': 'East',\n      'maneuverNotes': [],\n      'linkIds': [],\n      'signs': [],\n      'mapUrl': 'http://open.mapquestapi.com/staticmap/v5/map?key=ze0sA2AronedAPmRSoMVsPfEs7giUS1f&size=225,160&locations=59.94477081298828,30.387161254882812|marker-2||59.942691802978516,30.398174285888672|marker-3||&center=59.9437313079834,30.392667770385742&defaultMarker=none&zoom=11&rand=-1344191109&session=61ad214e-0201-4ee4-02b4-392f-0a65c1078291',\n      'transportMode': 'AUTO',\n      'attributes': 0,\n      'time': 60,\n      'iconUrl': 'http://content.mqcdn.com/mqsite/turnsigns/rs_right_sm.gif',\n      'direction': 8},\n     {'distance': 0.231,\n      'streets': ['Большеохтинский мост', 'Bolsheokhtinsky Bridge'],\n      'narrative': 'Тульская улица becomes Большеохтинский мост/Bolsheokhtinsky Bridge.',\n      'turnType': 0,\n      'startPoint': {'lng': 30.398174, 'lat': 59.942692},\n      'index': 2,\n      'formattedTime': '00:00:24',\n      'directionName': 'East',\n      'maneuverNotes': [],\n      'linkIds': [],\n      'signs': [],\n      'mapUrl': 'http://open.mapquestapi.com/staticmap/v5/map?key=ze0sA2AronedAPmRSoMVsPfEs7giUS1f&size=225,160&locations=59.942691802978516,30.398174285888672|marker-3||59.942501068115234,30.404823303222656|marker-4||&center=59.942596435546875,30.401498794555664&defaultMarker=none&zoom=12&rand=-1344191109&session=61ad214e-0201-4ee4-02b4-392f-0a65c1078291',\n      'transportMode': 'AUTO',\n      'attributes': 0,\n      'time': 24,\n      'iconUrl': 'http://content.mqcdn.com/mqsite/turnsigns/rs_straight_sm.gif',\n      'direction': 8},\n     {'distance': 0.11,\n      'streets': [],\n      'narrative': 'Turn slight right onto ramp.',\n      'turnType': 1,\n      'startPoint': {'lng': 30.404823, 'lat': 59.942501},\n      'index': 3,\n      'formattedTime': '00:00:29',\n      'directionName': 'South',\n      'maneuverNotes': [],\n      'linkIds': [],\n      'signs': [],\n      'mapUrl': 'http://open.mapquestapi.com/staticmap/v5/map?key=ze0sA2AronedAPmRSoMVsPfEs7giUS1f&size=225,160&locations=59.942501068115234,30.404823303222656|marker-4||59.941001892089844,30.404857635498047|marker-5||&center=59.94175148010254,30.40484046936035&defaultMarker=none&zoom=13&rand=-1344191109&session=61ad214e-0201-4ee4-02b4-392f-0a65c1078291',\n      'transportMode': 'AUTO',\n      'attributes': 0,\n      'time': 29,\n      'iconUrl': 'http://content.mqcdn.com/mqsite/turnsigns/rs_slight_right_sm.gif',\n      'direction': 4},\n     {'distance': 0.282,\n      'streets': ['Малоохтинская набережная'],\n      'narrative': 'Go onto Малоохтинская набережная.',\n      'turnType': 4,\n      'startPoint': {'lng': 30.404858, 'lat': 59.941002},\n      'index': 4,\n      'formattedTime': '00:00:25',\n      'directionName': 'North',\n      'maneuverNotes': [],\n      'linkIds': [],\n      'signs': [],\n      'mapUrl': 'http://open.mapquestapi.com/staticmap/v5/map?key=ze0sA2AronedAPmRSoMVsPfEs7giUS1f&size=225,160&locations=59.941001892089844,30.404857635498047|marker-5||59.944793701171875,30.40528106689453|marker-6||&center=59.94289779663086,30.40506935119629&defaultMarker=none&zoom=11&rand=-1344191109&session=61ad214e-0201-4ee4-02b4-392f-0a65c1078291',\n      'transportMode': 'AUTO',\n      'attributes': 0,\n      'time': 25,\n      'iconUrl': 'http://content.mqcdn.com/mqsite/turnsigns/rs_uturn_left_sm.gif',\n      'direction': 1},\n     {'distance': 0.212,\n      'streets': ['Малоохтинский мост'],\n      'narrative': 'Малоохтинская набережная becomes Малоохтинский мост.',\n      'turnType': 0,\n      'startPoint': {'lng': 30.405281, 'lat': 59.944794},\n      'index': 5,\n      'formattedTime': '00:00:16',\n      'directionName': 'North',\n      'maneuverNotes': [],\n      'linkIds': [],\n      'signs': [],\n      'mapUrl': 'http://open.mapquestapi.com/staticmap/v5/map?key=ze0sA2AronedAPmRSoMVsPfEs7giUS1f&size=225,160&locations=59.944793701171875,30.40528106689453|marker-6||59.94773483276367,30.407014846801758|marker-7||&center=59.94626426696777,30.406147956848145&defaultMarker=none&zoom=12&rand=-1344191109&session=61ad214e-0201-4ee4-02b4-392f-0a65c1078291',\n      'transportMode': 'AUTO',\n      'attributes': 0,\n      'time': 16,\n      'iconUrl': 'http://content.mqcdn.com/mqsite/turnsigns/rs_straight_sm.gif',\n      'direction': 1},\n     {'distance': 0.679,\n      'streets': ['Свердловская набережная'],\n      'narrative': 'Малоохтинский мост becomes Свердловская набережная.',\n      'turnType': 0,\n      'startPoint': {'lng': 30.407015, 'lat': 59.947735},\n      'index': 6,\n      'formattedTime': '00:00:59',\n      'directionName': 'North',\n      'maneuverNotes': [],\n      'linkIds': [],\n      'signs': [],\n      'mapUrl': 'http://open.mapquestapi.com/staticmap/v5/map?key=ze0sA2AronedAPmRSoMVsPfEs7giUS1f&size=225,160&locations=59.94773483276367,30.407014846801758|marker-7||59.95707321166992,30.404380798339844|marker-8||&center=59.9524040222168,30.4056978225708&defaultMarker=none&zoom=10&rand=-1344191109&session=61ad214e-0201-4ee4-02b4-392f-0a65c1078291',\n      'transportMode': 'AUTO',\n      'attributes': 0,\n      'time': 59,\n      'iconUrl': 'http://content.mqcdn.com/mqsite/turnsigns/rs_straight_sm.gif',\n      'direction': 1},\n     {'distance': 2.226,\n      'streets': ['Пискарёвский проспект'],\n      'narrative': 'Turn right onto Пискарёвский проспект.',\n      'turnType': 2,\n      'startPoint': {'lng': 30.404381, 'lat': 59.957073},\n      'index': 7,\n      'formattedTime': '00:03:49',\n      'directionName': 'Northeast',\n      'maneuverNotes': [],\n      'linkIds': [],\n      'signs': [],\n      'mapUrl': 'http://open.mapquestapi.com/staticmap/v5/map?key=ze0sA2AronedAPmRSoMVsPfEs7giUS1f&size=225,160&locations=59.95707321166992,30.404380798339844|marker-8||59.98650360107422,30.428062438964844|marker-9||&center=59.97178840637207,30.416221618652344&defaultMarker=none&zoom=8&rand=-1344191109&session=61ad214e-0201-4ee4-02b4-392f-0a65c1078291',\n      'transportMode': 'AUTO',\n      'attributes': 0,\n      'time': 229,\n      'iconUrl': 'http://content.mqcdn.com/mqsite/turnsigns/rs_right_sm.gif',\n      'direction': 3},\n     {'distance': 0.156,\n      'streets': ['Пискарёвский путепровод'],\n      'narrative': 'Пискарёвский проспект becomes Пискарёвский путепровод.',\n      'turnType': 0,\n      'startPoint': {'lng': 30.428062, 'lat': 59.986504},\n      'index': 8,\n      'formattedTime': '00:00:12',\n      'directionName': 'Northeast',\n      'maneuverNotes': [],\n      'linkIds': [],\n      'signs': [],\n      'mapUrl': 'http://open.mapquestapi.com/staticmap/v5/map?key=ze0sA2AronedAPmRSoMVsPfEs7giUS1f&size=225,160&locations=59.98650360107422,30.428062438964844|marker-9||59.988502502441406,30.430171966552734|marker-10||&center=59.98750305175781,30.42911720275879&defaultMarker=none&zoom=12&rand=-1344191109&session=61ad214e-0201-4ee4-02b4-392f-0a65c1078291',\n      'transportMode': 'AUTO',\n      'attributes': 0,\n      'time': 12,\n      'iconUrl': 'http://content.mqcdn.com/mqsite/turnsigns/rs_straight_sm.gif',\n      'direction': 3},\n     {'distance': 2.335,\n      'streets': ['Пискарёвский проспект'],\n      'narrative': 'Пискарёвский путепровод becomes Пискарёвский проспект.',\n      'turnType': 0,\n      'startPoint': {'lng': 30.430172, 'lat': 59.988503},\n      'index': 9,\n      'formattedTime': '00:04:01',\n      'directionName': 'Northeast',\n      'maneuverNotes': [],\n      'linkIds': [],\n      'signs': [],\n      'mapUrl': 'http://open.mapquestapi.com/staticmap/v5/map?key=ze0sA2AronedAPmRSoMVsPfEs7giUS1f&size=225,160&locations=59.988502502441406,30.430171966552734|marker-10||60.01831817626953,30.461803436279297|marker-11||&center=60.00341033935547,30.445987701416016&defaultMarker=none&zoom=8&rand=-1344191109&session=61ad214e-0201-4ee4-02b4-392f-0a65c1078291',\n      'transportMode': 'AUTO',\n      'attributes': 0,\n      'time': 241,\n      'iconUrl': 'http://content.mqcdn.com/mqsite/turnsigns/rs_straight_sm.gif',\n      'direction': 3},\n     {'distance': 0.229,\n      'streets': [],\n      'narrative': 'Turn slight right onto ramp.',\n      'turnType': 1,\n      'startPoint': {'lng': 30.461803, 'lat': 60.018318},\n      'index': 10,\n      'formattedTime': '00:00:21',\n      'directionName': 'South',\n      'maneuverNotes': [],\n      'linkIds': [],\n      'signs': [],\n      'mapUrl': 'http://open.mapquestapi.com/staticmap/v5/map?key=ze0sA2AronedAPmRSoMVsPfEs7giUS1f&size=225,160&locations=60.01831817626953,30.461803436279297|marker-11||60.01732635498047,30.46163558959961|marker-12||&center=60.017822265625,30.461719512939453&defaultMarker=none&zoom=13&rand=-1344191109&session=61ad214e-0201-4ee4-02b4-392f-0a65c1078291',\n      'transportMode': 'AUTO',\n      'attributes': 0,\n      'time': 21,\n      'iconUrl': 'http://content.mqcdn.com/mqsite/turnsigns/rs_slight_right_sm.gif',\n      'direction': 4},\n     {'distance': 6.099,\n      'streets': ['А-118', 'КАД', 'Saint Petersburg Ring Road'],\n      'narrative': 'Merge onto А-118/КАД/Saint Petersburg Ring Road.',\n      'turnType': 10,\n      'startPoint': {'lng': 30.461636, 'lat': 60.017326},\n      'index': 11,\n      'formattedTime': '00:05:50',\n      'directionName': 'Northwest',\n      'maneuverNotes': [],\n      'linkIds': [],\n      'signs': [],\n      'mapUrl': 'http://open.mapquestapi.com/staticmap/v5/map?key=ze0sA2AronedAPmRSoMVsPfEs7giUS1f&size=225,160&locations=60.01732635498047,30.46163558959961|marker-12||60.08849334716797,30.374425888061523|marker-13||&center=60.05290985107422,30.418030738830566&defaultMarker=none&zoom=7&rand=-1344191109&session=61ad214e-0201-4ee4-02b4-392f-0a65c1078291',\n      'transportMode': 'AUTO',\n      'attributes': 128,\n      'time': 350,\n      'iconUrl': 'http://content.mqcdn.com/mqsite/turnsigns/rs_merge_right_sm.gif',\n      'direction': 2},\n     {'distance': 0.421,\n      'streets': [],\n      'narrative': 'Take the exit.',\n      'turnType': 14,\n      'startPoint': {'lng': 30.374426, 'lat': 60.088493},\n      'index': 12,\n      'formattedTime': '00:00:37',\n      'directionName': 'North',\n      'maneuverNotes': [],\n      'linkIds': [],\n      'signs': [],\n      'mapUrl': 'http://open.mapquestapi.com/staticmap/v5/map?key=ze0sA2AronedAPmRSoMVsPfEs7giUS1f&size=225,160&locations=60.08849334716797,30.374425888061523|marker-13||60.09416961669922,30.373865127563477|marker-14||&center=60.091331481933594,30.3741455078125&defaultMarker=none&zoom=11&rand=-1344191109&session=61ad214e-0201-4ee4-02b4-392f-0a65c1078291',\n      'transportMode': 'AUTO',\n      'attributes': 0,\n      'time': 37,\n      'iconUrl': 'http://content.mqcdn.com/mqsite/turnsigns/rs_gr_exitright_sm.gif',\n      'direction': 1},\n     {'distance': 76.476,\n      'streets': ['А-121'],\n      'narrative': 'Merge onto А-121.',\n      'turnType': 10,\n      'startPoint': {'lng': 30.373865, 'lat': 60.09417},\n      'index': 13,\n      'formattedTime': '01:28:09',\n      'directionName': 'North',\n      'maneuverNotes': [],\n      'linkIds': [],\n      'signs': [],\n      'mapUrl': 'http://open.mapquestapi.com/staticmap/v5/map?key=ze0sA2AronedAPmRSoMVsPfEs7giUS1f&size=225,160&locations=60.09416961669922,30.373865127563477|marker-14||61.005393981933594,30.179241180419922|marker-15||&center=60.549781799316406,30.2765531539917&defaultMarker=none&zoom=4&rand=-1344191109&session=61ad214e-0201-4ee4-02b4-392f-0a65c1078291',\n      'transportMode': 'AUTO',\n      'attributes': 128,\n      'time': 5289,\n      'iconUrl': 'http://content.mqcdn.com/mqsite/turnsigns/rs_merge_right_sm.gif',\n      'direction': 1},\n     {'distance': 9.017,\n      'streets': ['41К-012'],\n      'narrative': 'Turn sharp right onto 41К-012/Скотное — Запорожское — Соловьёво — Пр. Continue to follow 41К-012 (Portions unpaved).',\n      'turnType': 3,\n      'startPoint': {'lng': 30.179241, 'lat': 61.005394},\n      'index': 14,\n      'formattedTime': '00:19:16',\n      'directionName': 'Southeast',\n      'maneuverNotes': [],\n      'linkIds': [],\n      'signs': [],\n      'mapUrl': 'http://open.mapquestapi.com/staticmap/v5/map?key=ze0sA2AronedAPmRSoMVsPfEs7giUS1f&size=225,160&locations=61.005393981933594,30.179241180419922|marker-15||60.93356704711914,30.363786697387695|marker-16||&center=60.96948051452637,30.27151393890381&defaultMarker=none&zoom=7&rand=-1344191109&session=61ad214e-0201-4ee4-02b4-392f-0a65c1078291',\n      'transportMode': 'AUTO',\n      'attributes': 2,\n      'time': 1156,\n      'iconUrl': 'http://content.mqcdn.com/mqsite/turnsigns/rs_sharp_right_sm.gif',\n      'direction': 5},\n     {'distance': 0,\n      'streets': [],\n      'narrative': 'Welcome to Ларионовское сельское поселение, LENINGRAD OBLAST.',\n      'turnType': -1,\n      'startPoint': {'lng': 30.363787, 'lat': 60.933567},\n      'index': 15,\n      'formattedTime': '00:00:00',\n      'directionName': '',\n      'maneuverNotes': [],\n      'linkIds': [],\n      'signs': [],\n      'transportMode': 'AUTO',\n      'attributes': 0,\n      'time': 0,\n      'iconUrl': 'http://content.mqcdn.com/mqsite/turnsigns/icon-dirs-end_sm.gif',\n      'direction': 0}],\n    'hasFerry': False}],\n  'options': {'arteryWeights': [],\n   'cyclingRoadFactor': 1,\n   'timeType': 0,\n   'useTraffic': False,\n   'returnLinkDirections': False,\n   'countryBoundaryDisplay': True,\n   'enhancedNarrative': False,\n   'locale': 'en_US',\n   'tryAvoidLinkIds': [],\n   'drivingStyle': 2,\n   'doReverseGeocode': True,\n   'generalize': -1,\n   'mustAvoidLinkIds': [],\n   'sideOfStreetDisplay': True,\n   'routeType': 'FASTEST',\n   'avoidTimedConditions': False,\n   'routeNumber': 0,\n   'shapeFormat': 'raw',\n   'maxWalkingDistance': -1,\n   'destinationManeuverDisplay': True,\n   'transferPenalty': -1,\n   'narrativeType': 'text',\n   'walkingSpeed': -1,\n   'urbanAvoidFactor': -1,\n   'stateBoundaryDisplay': True,\n   'unit': 'M',\n   'highwayEfficiency': 22,\n   'maxLinkId': 0,\n   'maneuverPenalty': -1,\n   'avoidTripIds': [],\n   'filterZoneFactor': -1,\n   'manmaps': 'true'},\n  'locations': [{'dragPoint': False,\n    'displayLatLng': {'lng': 30.380699, 'lat': 59.941784},\n    'adminArea4': '',\n    'adminArea5': 'округ Смольнинское',\n    'postalCode': '191123',\n    'adminArea1': 'RU',\n    'adminArea3': 'Saint Petersburg',\n    'type': 's',\n    'sideOfStreet': 'N',\n    'geocodeQualityCode': 'P1XXX',\n    'adminArea4Type': 'County',\n    'linkId': 116682547,\n    'street': 'Suvorovskiy Avenue 44',\n    'adminArea5Type': 'City',\n    'geocodeQuality': 'POINT',\n    'adminArea1Type': 'Country',\n    'adminArea3Type': 'State',\n    'latLng': {'lng': 30.380699, 'lat': 59.941783}},\n   {'dragPoint': False,\n    'displayLatLng': {'lng': 30.341387, 'lat': 60.920443},\n    'adminArea4': '',\n    'adminArea5': 'Ларионовское сельское поселение',\n    'postalCode': '',\n    'adminArea1': 'RU',\n    'adminArea3': 'Leningrad oblast',\n    'type': 's',\n    'sideOfStreet': 'N',\n    'geocodeQualityCode': 'A5XAX',\n    'adminArea4Type': 'County',\n    'linkId': 412097,\n    'street': '',\n    'adminArea5Type': 'City',\n    'geocodeQuality': 'CITY',\n    'adminArea1Type': 'Country',\n    'adminArea3Type': 'State',\n    'latLng': {'lng': 30.341387, 'lat': 60.920443}}],\n  'time': 7592,\n  'hasUnpaved': True,\n  'locationSequence': [0, 1],\n  'hasFerry': False},\n 'info': {'statuscode': 0,\n  'copyright': {'imageAltText': '© 2021 MapQuest, Inc.',\n   'imageUrl': 'http://api.mqcdn.com/res/mqlogo.gif',\n   'text': '© 2021 MapQuest, Inc.'},\n  'messages': []}}"
     },
     "execution_count": 102,
     "metadata": {},
     "output_type": "execute_result"
    }
   ],
   "source": [
    "response = http.request(\"GET\", url)\n",
    "data = json.loads(response.data)\n",
    "data"
   ],
   "metadata": {
    "collapsed": false,
    "pycharm": {
     "name": "#%%\n"
    }
   }
  },
  {
   "cell_type": "code",
   "execution_count": 104,
   "outputs": [
    {
     "data": {
      "text/plain": "'02:06:32'"
     },
     "execution_count": 104,
     "metadata": {},
     "output_type": "execute_result"
    }
   ],
   "source": [
    "data['route']['formattedTime']"
   ],
   "metadata": {
    "collapsed": false,
    "pycharm": {
     "name": "#%%\n"
    }
   }
  },
  {
   "cell_type": "code",
   "execution_count": 110,
   "outputs": [
    {
     "data": {
      "text/plain": "[{'distance': 0.312,\n  'streets': ['Суворовский проспект'],\n  'narrative': 'Start out going northeast on Суворовский проспект toward Кирочная улица/Kirochnaya Street.',\n  'turnType': 0,\n  'startPoint': {'lng': 30.38081, 'lat': 59.941574},\n  'index': 0,\n  'formattedTime': '00:00:44',\n  'directionName': 'Northeast',\n  'maneuverNotes': [],\n  'linkIds': [],\n  'signs': [],\n  'mapUrl': 'http://open.mapquestapi.com/staticmap/v5/map?key=ze0sA2AronedAPmRSoMVsPfEs7giUS1f&size=225,160&locations=59.94157409667969,30.380809783935547|marker-1||59.94477081298828,30.387161254882812|marker-2||&center=59.943172454833984,30.38398551940918&defaultMarker=none&zoom=11&rand=-1342267365&session=61ad214e-0201-4ee4-02b4-392f-0a65c1078291',\n  'transportMode': 'AUTO',\n  'attributes': 0,\n  'time': 44,\n  'iconUrl': 'http://content.mqcdn.com/mqsite/turnsigns/icon-dirs-start_sm.gif',\n  'direction': 3},\n {'distance': 0.428,\n  'streets': ['Тульская улица'],\n  'narrative': 'Turn right onto Тульская улица/Tulskaya Street. Continue to follow Тульская улица.',\n  'turnType': 2,\n  'startPoint': {'lng': 30.387161, 'lat': 59.944771},\n  'index': 1,\n  'formattedTime': '00:01:00',\n  'directionName': 'East',\n  'maneuverNotes': [],\n  'linkIds': [],\n  'signs': [],\n  'mapUrl': 'http://open.mapquestapi.com/staticmap/v5/map?key=ze0sA2AronedAPmRSoMVsPfEs7giUS1f&size=225,160&locations=59.94477081298828,30.387161254882812|marker-2||59.942691802978516,30.398174285888672|marker-3||&center=59.9437313079834,30.392667770385742&defaultMarker=none&zoom=11&rand=-1344191109&session=61ad214e-0201-4ee4-02b4-392f-0a65c1078291',\n  'transportMode': 'AUTO',\n  'attributes': 0,\n  'time': 60,\n  'iconUrl': 'http://content.mqcdn.com/mqsite/turnsigns/rs_right_sm.gif',\n  'direction': 8},\n {'distance': 0.231,\n  'streets': ['Большеохтинский мост', 'Bolsheokhtinsky Bridge'],\n  'narrative': 'Тульская улица becomes Большеохтинский мост/Bolsheokhtinsky Bridge.',\n  'turnType': 0,\n  'startPoint': {'lng': 30.398174, 'lat': 59.942692},\n  'index': 2,\n  'formattedTime': '00:00:24',\n  'directionName': 'East',\n  'maneuverNotes': [],\n  'linkIds': [],\n  'signs': [],\n  'mapUrl': 'http://open.mapquestapi.com/staticmap/v5/map?key=ze0sA2AronedAPmRSoMVsPfEs7giUS1f&size=225,160&locations=59.942691802978516,30.398174285888672|marker-3||59.942501068115234,30.404823303222656|marker-4||&center=59.942596435546875,30.401498794555664&defaultMarker=none&zoom=12&rand=-1344191109&session=61ad214e-0201-4ee4-02b4-392f-0a65c1078291',\n  'transportMode': 'AUTO',\n  'attributes': 0,\n  'time': 24,\n  'iconUrl': 'http://content.mqcdn.com/mqsite/turnsigns/rs_straight_sm.gif',\n  'direction': 8},\n {'distance': 0.11,\n  'streets': [],\n  'narrative': 'Turn slight right onto ramp.',\n  'turnType': 1,\n  'startPoint': {'lng': 30.404823, 'lat': 59.942501},\n  'index': 3,\n  'formattedTime': '00:00:29',\n  'directionName': 'South',\n  'maneuverNotes': [],\n  'linkIds': [],\n  'signs': [],\n  'mapUrl': 'http://open.mapquestapi.com/staticmap/v5/map?key=ze0sA2AronedAPmRSoMVsPfEs7giUS1f&size=225,160&locations=59.942501068115234,30.404823303222656|marker-4||59.941001892089844,30.404857635498047|marker-5||&center=59.94175148010254,30.40484046936035&defaultMarker=none&zoom=13&rand=-1344191109&session=61ad214e-0201-4ee4-02b4-392f-0a65c1078291',\n  'transportMode': 'AUTO',\n  'attributes': 0,\n  'time': 29,\n  'iconUrl': 'http://content.mqcdn.com/mqsite/turnsigns/rs_slight_right_sm.gif',\n  'direction': 4},\n {'distance': 0.282,\n  'streets': ['Малоохтинская набережная'],\n  'narrative': 'Go onto Малоохтинская набережная.',\n  'turnType': 4,\n  'startPoint': {'lng': 30.404858, 'lat': 59.941002},\n  'index': 4,\n  'formattedTime': '00:00:25',\n  'directionName': 'North',\n  'maneuverNotes': [],\n  'linkIds': [],\n  'signs': [],\n  'mapUrl': 'http://open.mapquestapi.com/staticmap/v5/map?key=ze0sA2AronedAPmRSoMVsPfEs7giUS1f&size=225,160&locations=59.941001892089844,30.404857635498047|marker-5||59.944793701171875,30.40528106689453|marker-6||&center=59.94289779663086,30.40506935119629&defaultMarker=none&zoom=11&rand=-1344191109&session=61ad214e-0201-4ee4-02b4-392f-0a65c1078291',\n  'transportMode': 'AUTO',\n  'attributes': 0,\n  'time': 25,\n  'iconUrl': 'http://content.mqcdn.com/mqsite/turnsigns/rs_uturn_left_sm.gif',\n  'direction': 1},\n {'distance': 0.212,\n  'streets': ['Малоохтинский мост'],\n  'narrative': 'Малоохтинская набережная becomes Малоохтинский мост.',\n  'turnType': 0,\n  'startPoint': {'lng': 30.405281, 'lat': 59.944794},\n  'index': 5,\n  'formattedTime': '00:00:16',\n  'directionName': 'North',\n  'maneuverNotes': [],\n  'linkIds': [],\n  'signs': [],\n  'mapUrl': 'http://open.mapquestapi.com/staticmap/v5/map?key=ze0sA2AronedAPmRSoMVsPfEs7giUS1f&size=225,160&locations=59.944793701171875,30.40528106689453|marker-6||59.94773483276367,30.407014846801758|marker-7||&center=59.94626426696777,30.406147956848145&defaultMarker=none&zoom=12&rand=-1344191109&session=61ad214e-0201-4ee4-02b4-392f-0a65c1078291',\n  'transportMode': 'AUTO',\n  'attributes': 0,\n  'time': 16,\n  'iconUrl': 'http://content.mqcdn.com/mqsite/turnsigns/rs_straight_sm.gif',\n  'direction': 1},\n {'distance': 0.679,\n  'streets': ['Свердловская набережная'],\n  'narrative': 'Малоохтинский мост becomes Свердловская набережная.',\n  'turnType': 0,\n  'startPoint': {'lng': 30.407015, 'lat': 59.947735},\n  'index': 6,\n  'formattedTime': '00:00:59',\n  'directionName': 'North',\n  'maneuverNotes': [],\n  'linkIds': [],\n  'signs': [],\n  'mapUrl': 'http://open.mapquestapi.com/staticmap/v5/map?key=ze0sA2AronedAPmRSoMVsPfEs7giUS1f&size=225,160&locations=59.94773483276367,30.407014846801758|marker-7||59.95707321166992,30.404380798339844|marker-8||&center=59.9524040222168,30.4056978225708&defaultMarker=none&zoom=10&rand=-1344191109&session=61ad214e-0201-4ee4-02b4-392f-0a65c1078291',\n  'transportMode': 'AUTO',\n  'attributes': 0,\n  'time': 59,\n  'iconUrl': 'http://content.mqcdn.com/mqsite/turnsigns/rs_straight_sm.gif',\n  'direction': 1},\n {'distance': 2.226,\n  'streets': ['Пискарёвский проспект'],\n  'narrative': 'Turn right onto Пискарёвский проспект.',\n  'turnType': 2,\n  'startPoint': {'lng': 30.404381, 'lat': 59.957073},\n  'index': 7,\n  'formattedTime': '00:03:49',\n  'directionName': 'Northeast',\n  'maneuverNotes': [],\n  'linkIds': [],\n  'signs': [],\n  'mapUrl': 'http://open.mapquestapi.com/staticmap/v5/map?key=ze0sA2AronedAPmRSoMVsPfEs7giUS1f&size=225,160&locations=59.95707321166992,30.404380798339844|marker-8||59.98650360107422,30.428062438964844|marker-9||&center=59.97178840637207,30.416221618652344&defaultMarker=none&zoom=8&rand=-1344191109&session=61ad214e-0201-4ee4-02b4-392f-0a65c1078291',\n  'transportMode': 'AUTO',\n  'attributes': 0,\n  'time': 229,\n  'iconUrl': 'http://content.mqcdn.com/mqsite/turnsigns/rs_right_sm.gif',\n  'direction': 3},\n {'distance': 0.156,\n  'streets': ['Пискарёвский путепровод'],\n  'narrative': 'Пискарёвский проспект becomes Пискарёвский путепровод.',\n  'turnType': 0,\n  'startPoint': {'lng': 30.428062, 'lat': 59.986504},\n  'index': 8,\n  'formattedTime': '00:00:12',\n  'directionName': 'Northeast',\n  'maneuverNotes': [],\n  'linkIds': [],\n  'signs': [],\n  'mapUrl': 'http://open.mapquestapi.com/staticmap/v5/map?key=ze0sA2AronedAPmRSoMVsPfEs7giUS1f&size=225,160&locations=59.98650360107422,30.428062438964844|marker-9||59.988502502441406,30.430171966552734|marker-10||&center=59.98750305175781,30.42911720275879&defaultMarker=none&zoom=12&rand=-1344191109&session=61ad214e-0201-4ee4-02b4-392f-0a65c1078291',\n  'transportMode': 'AUTO',\n  'attributes': 0,\n  'time': 12,\n  'iconUrl': 'http://content.mqcdn.com/mqsite/turnsigns/rs_straight_sm.gif',\n  'direction': 3},\n {'distance': 2.335,\n  'streets': ['Пискарёвский проспект'],\n  'narrative': 'Пискарёвский путепровод becomes Пискарёвский проспект.',\n  'turnType': 0,\n  'startPoint': {'lng': 30.430172, 'lat': 59.988503},\n  'index': 9,\n  'formattedTime': '00:04:01',\n  'directionName': 'Northeast',\n  'maneuverNotes': [],\n  'linkIds': [],\n  'signs': [],\n  'mapUrl': 'http://open.mapquestapi.com/staticmap/v5/map?key=ze0sA2AronedAPmRSoMVsPfEs7giUS1f&size=225,160&locations=59.988502502441406,30.430171966552734|marker-10||60.01831817626953,30.461803436279297|marker-11||&center=60.00341033935547,30.445987701416016&defaultMarker=none&zoom=8&rand=-1344191109&session=61ad214e-0201-4ee4-02b4-392f-0a65c1078291',\n  'transportMode': 'AUTO',\n  'attributes': 0,\n  'time': 241,\n  'iconUrl': 'http://content.mqcdn.com/mqsite/turnsigns/rs_straight_sm.gif',\n  'direction': 3},\n {'distance': 0.229,\n  'streets': [],\n  'narrative': 'Turn slight right onto ramp.',\n  'turnType': 1,\n  'startPoint': {'lng': 30.461803, 'lat': 60.018318},\n  'index': 10,\n  'formattedTime': '00:00:21',\n  'directionName': 'South',\n  'maneuverNotes': [],\n  'linkIds': [],\n  'signs': [],\n  'mapUrl': 'http://open.mapquestapi.com/staticmap/v5/map?key=ze0sA2AronedAPmRSoMVsPfEs7giUS1f&size=225,160&locations=60.01831817626953,30.461803436279297|marker-11||60.01732635498047,30.46163558959961|marker-12||&center=60.017822265625,30.461719512939453&defaultMarker=none&zoom=13&rand=-1344191109&session=61ad214e-0201-4ee4-02b4-392f-0a65c1078291',\n  'transportMode': 'AUTO',\n  'attributes': 0,\n  'time': 21,\n  'iconUrl': 'http://content.mqcdn.com/mqsite/turnsigns/rs_slight_right_sm.gif',\n  'direction': 4},\n {'distance': 6.099,\n  'streets': ['А-118', 'КАД', 'Saint Petersburg Ring Road'],\n  'narrative': 'Merge onto А-118/КАД/Saint Petersburg Ring Road.',\n  'turnType': 10,\n  'startPoint': {'lng': 30.461636, 'lat': 60.017326},\n  'index': 11,\n  'formattedTime': '00:05:50',\n  'directionName': 'Northwest',\n  'maneuverNotes': [],\n  'linkIds': [],\n  'signs': [],\n  'mapUrl': 'http://open.mapquestapi.com/staticmap/v5/map?key=ze0sA2AronedAPmRSoMVsPfEs7giUS1f&size=225,160&locations=60.01732635498047,30.46163558959961|marker-12||60.08849334716797,30.374425888061523|marker-13||&center=60.05290985107422,30.418030738830566&defaultMarker=none&zoom=7&rand=-1344191109&session=61ad214e-0201-4ee4-02b4-392f-0a65c1078291',\n  'transportMode': 'AUTO',\n  'attributes': 128,\n  'time': 350,\n  'iconUrl': 'http://content.mqcdn.com/mqsite/turnsigns/rs_merge_right_sm.gif',\n  'direction': 2},\n {'distance': 0.421,\n  'streets': [],\n  'narrative': 'Take the exit.',\n  'turnType': 14,\n  'startPoint': {'lng': 30.374426, 'lat': 60.088493},\n  'index': 12,\n  'formattedTime': '00:00:37',\n  'directionName': 'North',\n  'maneuverNotes': [],\n  'linkIds': [],\n  'signs': [],\n  'mapUrl': 'http://open.mapquestapi.com/staticmap/v5/map?key=ze0sA2AronedAPmRSoMVsPfEs7giUS1f&size=225,160&locations=60.08849334716797,30.374425888061523|marker-13||60.09416961669922,30.373865127563477|marker-14||&center=60.091331481933594,30.3741455078125&defaultMarker=none&zoom=11&rand=-1344191109&session=61ad214e-0201-4ee4-02b4-392f-0a65c1078291',\n  'transportMode': 'AUTO',\n  'attributes': 0,\n  'time': 37,\n  'iconUrl': 'http://content.mqcdn.com/mqsite/turnsigns/rs_gr_exitright_sm.gif',\n  'direction': 1},\n {'distance': 76.476,\n  'streets': ['А-121'],\n  'narrative': 'Merge onto А-121.',\n  'turnType': 10,\n  'startPoint': {'lng': 30.373865, 'lat': 60.09417},\n  'index': 13,\n  'formattedTime': '01:28:09',\n  'directionName': 'North',\n  'maneuverNotes': [],\n  'linkIds': [],\n  'signs': [],\n  'mapUrl': 'http://open.mapquestapi.com/staticmap/v5/map?key=ze0sA2AronedAPmRSoMVsPfEs7giUS1f&size=225,160&locations=60.09416961669922,30.373865127563477|marker-14||61.005393981933594,30.179241180419922|marker-15||&center=60.549781799316406,30.2765531539917&defaultMarker=none&zoom=4&rand=-1344191109&session=61ad214e-0201-4ee4-02b4-392f-0a65c1078291',\n  'transportMode': 'AUTO',\n  'attributes': 128,\n  'time': 5289,\n  'iconUrl': 'http://content.mqcdn.com/mqsite/turnsigns/rs_merge_right_sm.gif',\n  'direction': 1},\n {'distance': 9.017,\n  'streets': ['41К-012'],\n  'narrative': 'Turn sharp right onto 41К-012/Скотное — Запорожское — Соловьёво — Пр. Continue to follow 41К-012 (Portions unpaved).',\n  'turnType': 3,\n  'startPoint': {'lng': 30.179241, 'lat': 61.005394},\n  'index': 14,\n  'formattedTime': '00:19:16',\n  'directionName': 'Southeast',\n  'maneuverNotes': [],\n  'linkIds': [],\n  'signs': [],\n  'mapUrl': 'http://open.mapquestapi.com/staticmap/v5/map?key=ze0sA2AronedAPmRSoMVsPfEs7giUS1f&size=225,160&locations=61.005393981933594,30.179241180419922|marker-15||60.93356704711914,30.363786697387695|marker-16||&center=60.96948051452637,30.27151393890381&defaultMarker=none&zoom=7&rand=-1344191109&session=61ad214e-0201-4ee4-02b4-392f-0a65c1078291',\n  'transportMode': 'AUTO',\n  'attributes': 2,\n  'time': 1156,\n  'iconUrl': 'http://content.mqcdn.com/mqsite/turnsigns/rs_sharp_right_sm.gif',\n  'direction': 5},\n {'distance': 0,\n  'streets': [],\n  'narrative': 'Welcome to Ларионовское сельское поселение, LENINGRAD OBLAST.',\n  'turnType': -1,\n  'startPoint': {'lng': 30.363787, 'lat': 60.933567},\n  'index': 15,\n  'formattedTime': '00:00:00',\n  'directionName': '',\n  'maneuverNotes': [],\n  'linkIds': [],\n  'signs': [],\n  'transportMode': 'AUTO',\n  'attributes': 0,\n  'time': 0,\n  'iconUrl': 'http://content.mqcdn.com/mqsite/turnsigns/icon-dirs-end_sm.gif',\n  'direction': 0}]"
     },
     "execution_count": 110,
     "metadata": {},
     "output_type": "execute_result"
    }
   ],
   "source": [
    "data['route']['legs'][0]['maneuvers']"
   ],
   "metadata": {
    "collapsed": false,
    "pycharm": {
     "name": "#%%\n"
    }
   }
  },
  {
   "cell_type": "code",
   "execution_count": 4,
   "outputs": [],
   "source": [
    "def from_A_to_B(from_coord, to_coord, what = \"formattedTime\", map_key = map_key):\n",
    "    '''\n",
    "\n",
    "    :param from_coord: {'lat': '55.70925415', 'lon': '37.564302230622'} dict with lat lon\n",
    "    :param to_coord: same\n",
    "    :param what: 'formattedTime' for time string or 'maneuverNotes' for json with narratives\n",
    "    :param map_key: API key\n",
    "    :return: depends on what you want pal\n",
    "    '''\n",
    "\n",
    "    from_ll = from_coord[\"lat\"]+\", \"+from_coord['lon']\n",
    "    to_ll = to_coord[\"lat\"]+\", \"+to_coord['lon']\n",
    "    url = f'http://open.mapquestapi.com/directions/v2/route?key={map_key}&from={from_ll},VA&to={to_ll}'\n",
    "    response = http.request(\"GET\", url)\n",
    "    data = json.loads(response.data)\n",
    "    if what == \"formattedTime\":\n",
    "        result = data['route']['formattedTime']\n",
    "    elif what == 'maneuverNotes':\n",
    "        result = data['route']['legs'][0]['maneuvers']\n",
    "    else:\n",
    "        result = None\n",
    "    return(result)"
   ],
   "metadata": {
    "collapsed": false,
    "pycharm": {
     "name": "#%%\n"
    }
   }
  },
  {
   "cell_type": "code",
   "execution_count": 6,
   "outputs": [],
   "source": [
    "place_1 = place_to_geo('Sparrow Hills', 'Moscow')\n",
    "place_2 = place_to_geo('Izmailovsky Park', 'Moscow')"
   ],
   "metadata": {
    "collapsed": false,
    "pycharm": {
     "name": "#%%\n"
    }
   }
  },
  {
   "cell_type": "code",
   "execution_count": 7,
   "outputs": [
    {
     "data": {
      "text/plain": "{'lat': '55.79151795', 'lon': '37.7629637090059'}"
     },
     "execution_count": 7,
     "metadata": {},
     "output_type": "execute_result"
    }
   ],
   "source": [
    "place_2"
   ],
   "metadata": {
    "collapsed": false,
    "pycharm": {
     "name": "#%%\n"
    }
   }
  },
  {
   "cell_type": "code",
   "execution_count": 10,
   "outputs": [
    {
     "data": {
      "text/plain": "{'lat': '55.75043825', 'lon': '37.6206766905776'}"
     },
     "execution_count": 10,
     "metadata": {},
     "output_type": "execute_result"
    }
   ],
   "source": [
    "place_2 = place_to_geo('Zaryadye', 'Moscow')\n",
    "place_2"
   ],
   "metadata": {
    "collapsed": false,
    "pycharm": {
     "name": "#%%\n"
    }
   }
  },
  {
   "cell_type": "code",
   "execution_count": 5,
   "outputs": [
    {
     "ename": "NameError",
     "evalue": "name 'place_1' is not defined",
     "output_type": "error",
     "traceback": [
      "\u001B[1;31m---------------------------------------------------------------------------\u001B[0m",
      "\u001B[1;31mNameError\u001B[0m                                 Traceback (most recent call last)",
      "\u001B[1;32m~\\AppData\\Local\\Temp/ipykernel_9516/73328102.py\u001B[0m in \u001B[0;36m<module>\u001B[1;34m\u001B[0m\n\u001B[1;32m----> 1\u001B[1;33m \u001B[0mfrom_A_to_B\u001B[0m\u001B[1;33m(\u001B[0m\u001B[0mplace_1\u001B[0m\u001B[1;33m,\u001B[0m \u001B[0mplace_2\u001B[0m\u001B[1;33m)\u001B[0m\u001B[1;33m\u001B[0m\u001B[1;33m\u001B[0m\u001B[0m\n\u001B[0m",
      "\u001B[1;31mNameError\u001B[0m: name 'place_1' is not defined"
     ]
    }
   ],
   "source": [
    "from_A_to_B(place_1, place_2)"
   ],
   "metadata": {
    "collapsed": false,
    "pycharm": {
     "name": "#%%\n"
    }
   }
  }
 ],
 "metadata": {
  "kernelspec": {
   "display_name": "Python 3",
   "language": "python",
   "name": "python3"
  },
  "language_info": {
   "codemirror_mode": {
    "name": "ipython",
    "version": 2
   },
   "file_extension": ".py",
   "mimetype": "text/x-python",
   "name": "python",
   "nbconvert_exporter": "python",
   "pygments_lexer": "ipython2",
   "version": "2.7.6"
  }
 },
 "nbformat": 4,
 "nbformat_minor": 0
}