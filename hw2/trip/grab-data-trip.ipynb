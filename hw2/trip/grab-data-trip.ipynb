{
 "cells": [
  {
   "cell_type": "markdown",
   "source": [
    "# Part 0\n",
    "## Intro\n",
    "well I want to try selenium\n",
    "so\n",
    "here we go"
   ],
   "metadata": {
    "collapsed": false,
    "pycharm": {
     "name": "#%% md\n"
    }
   }
  },
  {
   "cell_type": "code",
   "execution_count": 1,
   "metadata": {
    "collapsed": true
   },
   "outputs": [],
   "source": [
    "import requests\n",
    "from bs4 import BeautifulSoup\n",
    "import re\n",
    "from selenium import webdriver\n",
    "from selenium.webdriver.common.keys import Keys\n",
    "from selenium.webdriver.support.ui import WebDriverWait\n",
    "from selenium.webdriver.support import expected_conditions as EC\n",
    "from selenium.webdriver.common.by import By\n",
    "from selenium.common.exceptions import TimeoutException\n",
    "\n",
    "import pandas as pd\n",
    "import time"
   ]
  },
  {
   "cell_type": "markdown",
   "source": [
    "# Part 1\n",
    "## Collect links"
   ],
   "metadata": {
    "collapsed": false,
    "pycharm": {
     "name": "#%% md\n"
    }
   }
  },
  {
   "cell_type": "code",
   "execution_count": 2,
   "outputs": [],
   "source": [
    "city_name = \"Saint Petersburg\"\n",
    "delay = 5 # seconds\n",
    "\n",
    "links = {}"
   ],
   "metadata": {
    "collapsed": false,
    "pycharm": {
     "name": "#%%\n"
    }
   }
  },
  {
   "cell_type": "code",
   "execution_count": 3,
   "outputs": [
    {
     "name": "stderr",
     "output_type": "stream",
     "text": [
      "C:\\Users\\wirze\\AppData\\Local\\Temp/ipykernel_1060/463546191.py:1: DeprecationWarning: executable_path has been deprecated, please pass in a Service object\n",
      "  driver = webdriver.Chrome(\"C:\\\\Users\\\\wirze\\\\DataspellProjects\\\\chromedriver_win32\\\\chromedriver.exe\")\n",
      "C:\\Users\\wirze\\AppData\\Local\\Temp/ipykernel_1060/463546191.py:5: DeprecationWarning: find_element_by_* commands are deprecated. Please use find_element() instead\n",
      "  inputElement = driver.find_element_by_id(\"GEO_SCOPED_SEARCH_INPUT\")\n",
      "C:\\Users\\wirze\\AppData\\Local\\Temp/ipykernel_1060/463546191.py:8: DeprecationWarning: find_element_by_* commands are deprecated. Please use find_element() instead\n",
      "  clearElement = driver.find_element_by_id(\"CLEAR_WHERE\")\n",
      "C:\\Users\\wirze\\AppData\\Local\\Temp/ipykernel_1060/463546191.py:11: DeprecationWarning: find_element_by_* commands are deprecated. Please use find_element() instead\n",
      "  inputElement = driver.find_element_by_id(\"GEO_SCOPED_SEARCH_INPUT\")\n"
     ]
    },
    {
     "ename": "KeyboardInterrupt",
     "evalue": "",
     "output_type": "error",
     "traceback": [
      "\u001B[1;31m---------------------------------------------------------------------------\u001B[0m",
      "\u001B[1;31mKeyboardInterrupt\u001B[0m                         Traceback (most recent call last)",
      "\u001B[1;32m~\\AppData\\Local\\Temp/ipykernel_1060/463546191.py\u001B[0m in \u001B[0;36m<module>\u001B[1;34m\u001B[0m\n\u001B[0;32m     12\u001B[0m \u001B[0minputElement\u001B[0m\u001B[1;33m.\u001B[0m\u001B[0msend_keys\u001B[0m\u001B[1;33m(\u001B[0m\u001B[0mcity_name\u001B[0m\u001B[1;33m)\u001B[0m\u001B[1;33m\u001B[0m\u001B[1;33m\u001B[0m\u001B[0m\n\u001B[0;32m     13\u001B[0m \u001B[0mtime\u001B[0m\u001B[1;33m.\u001B[0m\u001B[0msleep\u001B[0m\u001B[1;33m(\u001B[0m\u001B[1;36m2\u001B[0m\u001B[1;33m)\u001B[0m\u001B[1;33m\u001B[0m\u001B[1;33m\u001B[0m\u001B[0m\n\u001B[1;32m---> 14\u001B[1;33m \u001B[0minputElement\u001B[0m\u001B[1;33m.\u001B[0m\u001B[0msend_keys\u001B[0m\u001B[1;33m(\u001B[0m\u001B[0mKeys\u001B[0m\u001B[1;33m.\u001B[0m\u001B[0mENTER\u001B[0m\u001B[1;33m)\u001B[0m\u001B[1;33m\u001B[0m\u001B[1;33m\u001B[0m\u001B[0m\n\u001B[0m\u001B[0;32m     15\u001B[0m \u001B[0mtime\u001B[0m\u001B[1;33m.\u001B[0m\u001B[0msleep\u001B[0m\u001B[1;33m(\u001B[0m\u001B[1;36m3\u001B[0m\u001B[1;33m)\u001B[0m\u001B[1;33m\u001B[0m\u001B[1;33m\u001B[0m\u001B[0m\n\u001B[0;32m     16\u001B[0m \u001B[0mparksElement\u001B[0m \u001B[1;33m=\u001B[0m \u001B[0mdriver\u001B[0m\u001B[1;33m.\u001B[0m\u001B[0mfind_elements_by_xpath\u001B[0m\u001B[1;33m(\u001B[0m\u001B[1;34m\"//*[contains(text(), 'Parks in')]\"\u001B[0m\u001B[1;33m)\u001B[0m\u001B[1;33m\u001B[0m\u001B[1;33m\u001B[0m\u001B[0m\n",
      "\u001B[1;32m~\\anaconda3\\lib\\site-packages\\selenium\\webdriver\\remote\\webelement.py\u001B[0m in \u001B[0;36msend_keys\u001B[1;34m(self, *value)\u001B[0m\n\u001B[0;32m    537\u001B[0m                 \u001B[0mvalue\u001B[0m \u001B[1;33m=\u001B[0m \u001B[1;34m'\\n'\u001B[0m\u001B[1;33m.\u001B[0m\u001B[0mjoin\u001B[0m\u001B[1;33m(\u001B[0m\u001B[0mremote_files\u001B[0m\u001B[1;33m)\u001B[0m\u001B[1;33m\u001B[0m\u001B[1;33m\u001B[0m\u001B[0m\n\u001B[0;32m    538\u001B[0m \u001B[1;33m\u001B[0m\u001B[0m\n\u001B[1;32m--> 539\u001B[1;33m         self._execute(Command.SEND_KEYS_TO_ELEMENT,\n\u001B[0m\u001B[0;32m    540\u001B[0m                       {'text': \"\".join(keys_to_typing(value)),\n\u001B[0;32m    541\u001B[0m                        'value': keys_to_typing(value)})\n",
      "\u001B[1;32m~\\anaconda3\\lib\\site-packages\\selenium\\webdriver\\remote\\webelement.py\u001B[0m in \u001B[0;36m_execute\u001B[1;34m(self, command, params)\u001B[0m\n\u001B[0;32m    691\u001B[0m             \u001B[0mparams\u001B[0m \u001B[1;33m=\u001B[0m \u001B[1;33m{\u001B[0m\u001B[1;33m}\u001B[0m\u001B[1;33m\u001B[0m\u001B[1;33m\u001B[0m\u001B[0m\n\u001B[0;32m    692\u001B[0m         \u001B[0mparams\u001B[0m\u001B[1;33m[\u001B[0m\u001B[1;34m'id'\u001B[0m\u001B[1;33m]\u001B[0m \u001B[1;33m=\u001B[0m \u001B[0mself\u001B[0m\u001B[1;33m.\u001B[0m\u001B[0m_id\u001B[0m\u001B[1;33m\u001B[0m\u001B[1;33m\u001B[0m\u001B[0m\n\u001B[1;32m--> 693\u001B[1;33m         \u001B[1;32mreturn\u001B[0m \u001B[0mself\u001B[0m\u001B[1;33m.\u001B[0m\u001B[0m_parent\u001B[0m\u001B[1;33m.\u001B[0m\u001B[0mexecute\u001B[0m\u001B[1;33m(\u001B[0m\u001B[0mcommand\u001B[0m\u001B[1;33m,\u001B[0m \u001B[0mparams\u001B[0m\u001B[1;33m)\u001B[0m\u001B[1;33m\u001B[0m\u001B[1;33m\u001B[0m\u001B[0m\n\u001B[0m\u001B[0;32m    694\u001B[0m \u001B[1;33m\u001B[0m\u001B[0m\n\u001B[0;32m    695\u001B[0m     \u001B[1;32mdef\u001B[0m \u001B[0mfind_element\u001B[0m\u001B[1;33m(\u001B[0m\u001B[0mself\u001B[0m\u001B[1;33m,\u001B[0m \u001B[0mby\u001B[0m\u001B[1;33m=\u001B[0m\u001B[0mBy\u001B[0m\u001B[1;33m.\u001B[0m\u001B[0mID\u001B[0m\u001B[1;33m,\u001B[0m \u001B[0mvalue\u001B[0m\u001B[1;33m=\u001B[0m\u001B[1;32mNone\u001B[0m\u001B[1;33m)\u001B[0m\u001B[1;33m:\u001B[0m\u001B[1;33m\u001B[0m\u001B[1;33m\u001B[0m\u001B[0m\n",
      "\u001B[1;32m~\\anaconda3\\lib\\site-packages\\selenium\\webdriver\\remote\\webdriver.py\u001B[0m in \u001B[0;36mexecute\u001B[1;34m(self, driver_command, params)\u001B[0m\n\u001B[0;32m    414\u001B[0m \u001B[1;33m\u001B[0m\u001B[0m\n\u001B[0;32m    415\u001B[0m         \u001B[0mparams\u001B[0m \u001B[1;33m=\u001B[0m \u001B[0mself\u001B[0m\u001B[1;33m.\u001B[0m\u001B[0m_wrap_value\u001B[0m\u001B[1;33m(\u001B[0m\u001B[0mparams\u001B[0m\u001B[1;33m)\u001B[0m\u001B[1;33m\u001B[0m\u001B[1;33m\u001B[0m\u001B[0m\n\u001B[1;32m--> 416\u001B[1;33m         \u001B[0mresponse\u001B[0m \u001B[1;33m=\u001B[0m \u001B[0mself\u001B[0m\u001B[1;33m.\u001B[0m\u001B[0mcommand_executor\u001B[0m\u001B[1;33m.\u001B[0m\u001B[0mexecute\u001B[0m\u001B[1;33m(\u001B[0m\u001B[0mdriver_command\u001B[0m\u001B[1;33m,\u001B[0m \u001B[0mparams\u001B[0m\u001B[1;33m)\u001B[0m\u001B[1;33m\u001B[0m\u001B[1;33m\u001B[0m\u001B[0m\n\u001B[0m\u001B[0;32m    417\u001B[0m         \u001B[1;32mif\u001B[0m \u001B[0mresponse\u001B[0m\u001B[1;33m:\u001B[0m\u001B[1;33m\u001B[0m\u001B[1;33m\u001B[0m\u001B[0m\n\u001B[0;32m    418\u001B[0m             \u001B[0mself\u001B[0m\u001B[1;33m.\u001B[0m\u001B[0merror_handler\u001B[0m\u001B[1;33m.\u001B[0m\u001B[0mcheck_response\u001B[0m\u001B[1;33m(\u001B[0m\u001B[0mresponse\u001B[0m\u001B[1;33m)\u001B[0m\u001B[1;33m\u001B[0m\u001B[1;33m\u001B[0m\u001B[0m\n",
      "\u001B[1;32m~\\anaconda3\\lib\\site-packages\\selenium\\webdriver\\remote\\remote_connection.py\u001B[0m in \u001B[0;36mexecute\u001B[1;34m(self, command, params)\u001B[0m\n\u001B[0;32m    396\u001B[0m         \u001B[0mdata\u001B[0m \u001B[1;33m=\u001B[0m \u001B[0mutils\u001B[0m\u001B[1;33m.\u001B[0m\u001B[0mdump_json\u001B[0m\u001B[1;33m(\u001B[0m\u001B[0mparams\u001B[0m\u001B[1;33m)\u001B[0m\u001B[1;33m\u001B[0m\u001B[1;33m\u001B[0m\u001B[0m\n\u001B[0;32m    397\u001B[0m         \u001B[0murl\u001B[0m \u001B[1;33m=\u001B[0m \u001B[1;34mf\"{self._url}{path}\"\u001B[0m\u001B[1;33m\u001B[0m\u001B[1;33m\u001B[0m\u001B[0m\n\u001B[1;32m--> 398\u001B[1;33m         \u001B[1;32mreturn\u001B[0m \u001B[0mself\u001B[0m\u001B[1;33m.\u001B[0m\u001B[0m_request\u001B[0m\u001B[1;33m(\u001B[0m\u001B[0mcommand_info\u001B[0m\u001B[1;33m[\u001B[0m\u001B[1;36m0\u001B[0m\u001B[1;33m]\u001B[0m\u001B[1;33m,\u001B[0m \u001B[0murl\u001B[0m\u001B[1;33m,\u001B[0m \u001B[0mbody\u001B[0m\u001B[1;33m=\u001B[0m\u001B[0mdata\u001B[0m\u001B[1;33m)\u001B[0m\u001B[1;33m\u001B[0m\u001B[1;33m\u001B[0m\u001B[0m\n\u001B[0m\u001B[0;32m    399\u001B[0m \u001B[1;33m\u001B[0m\u001B[0m\n\u001B[0;32m    400\u001B[0m     \u001B[1;32mdef\u001B[0m \u001B[0m_request\u001B[0m\u001B[1;33m(\u001B[0m\u001B[0mself\u001B[0m\u001B[1;33m,\u001B[0m \u001B[0mmethod\u001B[0m\u001B[1;33m,\u001B[0m \u001B[0murl\u001B[0m\u001B[1;33m,\u001B[0m \u001B[0mbody\u001B[0m\u001B[1;33m=\u001B[0m\u001B[1;32mNone\u001B[0m\u001B[1;33m)\u001B[0m\u001B[1;33m:\u001B[0m\u001B[1;33m\u001B[0m\u001B[1;33m\u001B[0m\u001B[0m\n",
      "\u001B[1;32m~\\anaconda3\\lib\\site-packages\\selenium\\webdriver\\remote\\remote_connection.py\u001B[0m in \u001B[0;36m_request\u001B[1;34m(self, method, url, body)\u001B[0m\n\u001B[0;32m    418\u001B[0m \u001B[1;33m\u001B[0m\u001B[0m\n\u001B[0;32m    419\u001B[0m         \u001B[1;32mif\u001B[0m \u001B[0mself\u001B[0m\u001B[1;33m.\u001B[0m\u001B[0mkeep_alive\u001B[0m\u001B[1;33m:\u001B[0m\u001B[1;33m\u001B[0m\u001B[1;33m\u001B[0m\u001B[0m\n\u001B[1;32m--> 420\u001B[1;33m             \u001B[0mresp\u001B[0m \u001B[1;33m=\u001B[0m \u001B[0mself\u001B[0m\u001B[1;33m.\u001B[0m\u001B[0m_conn\u001B[0m\u001B[1;33m.\u001B[0m\u001B[0mrequest\u001B[0m\u001B[1;33m(\u001B[0m\u001B[0mmethod\u001B[0m\u001B[1;33m,\u001B[0m \u001B[0murl\u001B[0m\u001B[1;33m,\u001B[0m \u001B[0mbody\u001B[0m\u001B[1;33m=\u001B[0m\u001B[0mbody\u001B[0m\u001B[1;33m,\u001B[0m \u001B[0mheaders\u001B[0m\u001B[1;33m=\u001B[0m\u001B[0mheaders\u001B[0m\u001B[1;33m)\u001B[0m\u001B[1;33m\u001B[0m\u001B[1;33m\u001B[0m\u001B[0m\n\u001B[0m\u001B[0;32m    421\u001B[0m             \u001B[0mstatuscode\u001B[0m \u001B[1;33m=\u001B[0m \u001B[0mresp\u001B[0m\u001B[1;33m.\u001B[0m\u001B[0mstatus\u001B[0m\u001B[1;33m\u001B[0m\u001B[1;33m\u001B[0m\u001B[0m\n\u001B[0;32m    422\u001B[0m         \u001B[1;32melse\u001B[0m\u001B[1;33m:\u001B[0m\u001B[1;33m\u001B[0m\u001B[1;33m\u001B[0m\u001B[0m\n",
      "\u001B[1;32m~\\anaconda3\\lib\\site-packages\\urllib3\\request.py\u001B[0m in \u001B[0;36mrequest\u001B[1;34m(self, method, url, fields, headers, **urlopen_kw)\u001B[0m\n\u001B[0;32m     77\u001B[0m             )\n\u001B[0;32m     78\u001B[0m         \u001B[1;32melse\u001B[0m\u001B[1;33m:\u001B[0m\u001B[1;33m\u001B[0m\u001B[1;33m\u001B[0m\u001B[0m\n\u001B[1;32m---> 79\u001B[1;33m             return self.request_encode_body(\n\u001B[0m\u001B[0;32m     80\u001B[0m                 \u001B[0mmethod\u001B[0m\u001B[1;33m,\u001B[0m \u001B[0murl\u001B[0m\u001B[1;33m,\u001B[0m \u001B[0mfields\u001B[0m\u001B[1;33m=\u001B[0m\u001B[0mfields\u001B[0m\u001B[1;33m,\u001B[0m \u001B[0mheaders\u001B[0m\u001B[1;33m=\u001B[0m\u001B[0mheaders\u001B[0m\u001B[1;33m,\u001B[0m \u001B[1;33m**\u001B[0m\u001B[0murlopen_kw\u001B[0m\u001B[1;33m\u001B[0m\u001B[1;33m\u001B[0m\u001B[0m\n\u001B[0;32m     81\u001B[0m             )\n",
      "\u001B[1;32m~\\anaconda3\\lib\\site-packages\\urllib3\\request.py\u001B[0m in \u001B[0;36mrequest_encode_body\u001B[1;34m(self, method, url, fields, headers, encode_multipart, multipart_boundary, **urlopen_kw)\u001B[0m\n\u001B[0;32m    169\u001B[0m         \u001B[0mextra_kw\u001B[0m\u001B[1;33m.\u001B[0m\u001B[0mupdate\u001B[0m\u001B[1;33m(\u001B[0m\u001B[0murlopen_kw\u001B[0m\u001B[1;33m)\u001B[0m\u001B[1;33m\u001B[0m\u001B[1;33m\u001B[0m\u001B[0m\n\u001B[0;32m    170\u001B[0m \u001B[1;33m\u001B[0m\u001B[0m\n\u001B[1;32m--> 171\u001B[1;33m         \u001B[1;32mreturn\u001B[0m \u001B[0mself\u001B[0m\u001B[1;33m.\u001B[0m\u001B[0murlopen\u001B[0m\u001B[1;33m(\u001B[0m\u001B[0mmethod\u001B[0m\u001B[1;33m,\u001B[0m \u001B[0murl\u001B[0m\u001B[1;33m,\u001B[0m \u001B[1;33m**\u001B[0m\u001B[0mextra_kw\u001B[0m\u001B[1;33m)\u001B[0m\u001B[1;33m\u001B[0m\u001B[1;33m\u001B[0m\u001B[0m\n\u001B[0m",
      "\u001B[1;32m~\\anaconda3\\lib\\site-packages\\urllib3\\poolmanager.py\u001B[0m in \u001B[0;36murlopen\u001B[1;34m(self, method, url, redirect, **kw)\u001B[0m\n\u001B[0;32m    334\u001B[0m             \u001B[0mresponse\u001B[0m \u001B[1;33m=\u001B[0m \u001B[0mconn\u001B[0m\u001B[1;33m.\u001B[0m\u001B[0murlopen\u001B[0m\u001B[1;33m(\u001B[0m\u001B[0mmethod\u001B[0m\u001B[1;33m,\u001B[0m \u001B[0murl\u001B[0m\u001B[1;33m,\u001B[0m \u001B[1;33m**\u001B[0m\u001B[0mkw\u001B[0m\u001B[1;33m)\u001B[0m\u001B[1;33m\u001B[0m\u001B[1;33m\u001B[0m\u001B[0m\n\u001B[0;32m    335\u001B[0m         \u001B[1;32melse\u001B[0m\u001B[1;33m:\u001B[0m\u001B[1;33m\u001B[0m\u001B[1;33m\u001B[0m\u001B[0m\n\u001B[1;32m--> 336\u001B[1;33m             \u001B[0mresponse\u001B[0m \u001B[1;33m=\u001B[0m \u001B[0mconn\u001B[0m\u001B[1;33m.\u001B[0m\u001B[0murlopen\u001B[0m\u001B[1;33m(\u001B[0m\u001B[0mmethod\u001B[0m\u001B[1;33m,\u001B[0m \u001B[0mu\u001B[0m\u001B[1;33m.\u001B[0m\u001B[0mrequest_uri\u001B[0m\u001B[1;33m,\u001B[0m \u001B[1;33m**\u001B[0m\u001B[0mkw\u001B[0m\u001B[1;33m)\u001B[0m\u001B[1;33m\u001B[0m\u001B[1;33m\u001B[0m\u001B[0m\n\u001B[0m\u001B[0;32m    337\u001B[0m \u001B[1;33m\u001B[0m\u001B[0m\n\u001B[0;32m    338\u001B[0m         \u001B[0mredirect_location\u001B[0m \u001B[1;33m=\u001B[0m \u001B[0mredirect\u001B[0m \u001B[1;32mand\u001B[0m \u001B[0mresponse\u001B[0m\u001B[1;33m.\u001B[0m\u001B[0mget_redirect_location\u001B[0m\u001B[1;33m(\u001B[0m\u001B[1;33m)\u001B[0m\u001B[1;33m\u001B[0m\u001B[1;33m\u001B[0m\u001B[0m\n",
      "\u001B[1;32m~\\anaconda3\\lib\\site-packages\\urllib3\\connectionpool.py\u001B[0m in \u001B[0;36murlopen\u001B[1;34m(self, method, url, body, headers, retries, redirect, assert_same_host, timeout, pool_timeout, release_conn, chunked, body_pos, **response_kw)\u001B[0m\n\u001B[0;32m    668\u001B[0m \u001B[1;33m\u001B[0m\u001B[0m\n\u001B[0;32m    669\u001B[0m             \u001B[1;31m# Make the request on the httplib connection object.\u001B[0m\u001B[1;33m\u001B[0m\u001B[1;33m\u001B[0m\u001B[1;33m\u001B[0m\u001B[0m\n\u001B[1;32m--> 670\u001B[1;33m             httplib_response = self._make_request(\n\u001B[0m\u001B[0;32m    671\u001B[0m                 \u001B[0mconn\u001B[0m\u001B[1;33m,\u001B[0m\u001B[1;33m\u001B[0m\u001B[1;33m\u001B[0m\u001B[0m\n\u001B[0;32m    672\u001B[0m                 \u001B[0mmethod\u001B[0m\u001B[1;33m,\u001B[0m\u001B[1;33m\u001B[0m\u001B[1;33m\u001B[0m\u001B[0m\n",
      "\u001B[1;32m~\\anaconda3\\lib\\site-packages\\urllib3\\connectionpool.py\u001B[0m in \u001B[0;36m_make_request\u001B[1;34m(self, conn, method, url, timeout, chunked, **httplib_request_kw)\u001B[0m\n\u001B[0;32m    424\u001B[0m                     \u001B[1;31m# Python 3 (including for exceptions like SystemExit).\u001B[0m\u001B[1;33m\u001B[0m\u001B[1;33m\u001B[0m\u001B[1;33m\u001B[0m\u001B[0m\n\u001B[0;32m    425\u001B[0m                     \u001B[1;31m# Otherwise it looks like a bug in the code.\u001B[0m\u001B[1;33m\u001B[0m\u001B[1;33m\u001B[0m\u001B[1;33m\u001B[0m\u001B[0m\n\u001B[1;32m--> 426\u001B[1;33m                     \u001B[0msix\u001B[0m\u001B[1;33m.\u001B[0m\u001B[0mraise_from\u001B[0m\u001B[1;33m(\u001B[0m\u001B[0me\u001B[0m\u001B[1;33m,\u001B[0m \u001B[1;32mNone\u001B[0m\u001B[1;33m)\u001B[0m\u001B[1;33m\u001B[0m\u001B[1;33m\u001B[0m\u001B[0m\n\u001B[0m\u001B[0;32m    427\u001B[0m         \u001B[1;32mexcept\u001B[0m \u001B[1;33m(\u001B[0m\u001B[0mSocketTimeout\u001B[0m\u001B[1;33m,\u001B[0m \u001B[0mBaseSSLError\u001B[0m\u001B[1;33m,\u001B[0m \u001B[0mSocketError\u001B[0m\u001B[1;33m)\u001B[0m \u001B[1;32mas\u001B[0m \u001B[0me\u001B[0m\u001B[1;33m:\u001B[0m\u001B[1;33m\u001B[0m\u001B[1;33m\u001B[0m\u001B[0m\n\u001B[0;32m    428\u001B[0m             \u001B[0mself\u001B[0m\u001B[1;33m.\u001B[0m\u001B[0m_raise_timeout\u001B[0m\u001B[1;33m(\u001B[0m\u001B[0merr\u001B[0m\u001B[1;33m=\u001B[0m\u001B[0me\u001B[0m\u001B[1;33m,\u001B[0m \u001B[0murl\u001B[0m\u001B[1;33m=\u001B[0m\u001B[0murl\u001B[0m\u001B[1;33m,\u001B[0m \u001B[0mtimeout_value\u001B[0m\u001B[1;33m=\u001B[0m\u001B[0mread_timeout\u001B[0m\u001B[1;33m)\u001B[0m\u001B[1;33m\u001B[0m\u001B[1;33m\u001B[0m\u001B[0m\n",
      "\u001B[1;32m~\\anaconda3\\lib\\site-packages\\urllib3\\packages\\six.py\u001B[0m in \u001B[0;36mraise_from\u001B[1;34m(value, from_value)\u001B[0m\n",
      "\u001B[1;32m~\\anaconda3\\lib\\site-packages\\urllib3\\connectionpool.py\u001B[0m in \u001B[0;36m_make_request\u001B[1;34m(self, conn, method, url, timeout, chunked, **httplib_request_kw)\u001B[0m\n\u001B[0;32m    419\u001B[0m                 \u001B[1;31m# Python 3\u001B[0m\u001B[1;33m\u001B[0m\u001B[1;33m\u001B[0m\u001B[1;33m\u001B[0m\u001B[0m\n\u001B[0;32m    420\u001B[0m                 \u001B[1;32mtry\u001B[0m\u001B[1;33m:\u001B[0m\u001B[1;33m\u001B[0m\u001B[1;33m\u001B[0m\u001B[0m\n\u001B[1;32m--> 421\u001B[1;33m                     \u001B[0mhttplib_response\u001B[0m \u001B[1;33m=\u001B[0m \u001B[0mconn\u001B[0m\u001B[1;33m.\u001B[0m\u001B[0mgetresponse\u001B[0m\u001B[1;33m(\u001B[0m\u001B[1;33m)\u001B[0m\u001B[1;33m\u001B[0m\u001B[1;33m\u001B[0m\u001B[0m\n\u001B[0m\u001B[0;32m    422\u001B[0m                 \u001B[1;32mexcept\u001B[0m \u001B[0mBaseException\u001B[0m \u001B[1;32mas\u001B[0m \u001B[0me\u001B[0m\u001B[1;33m:\u001B[0m\u001B[1;33m\u001B[0m\u001B[1;33m\u001B[0m\u001B[0m\n\u001B[0;32m    423\u001B[0m                     \u001B[1;31m# Remove the TypeError from the exception chain in\u001B[0m\u001B[1;33m\u001B[0m\u001B[1;33m\u001B[0m\u001B[1;33m\u001B[0m\u001B[0m\n",
      "\u001B[1;32m~\\anaconda3\\lib\\http\\client.py\u001B[0m in \u001B[0;36mgetresponse\u001B[1;34m(self)\u001B[0m\n\u001B[0;32m   1345\u001B[0m         \u001B[1;32mtry\u001B[0m\u001B[1;33m:\u001B[0m\u001B[1;33m\u001B[0m\u001B[1;33m\u001B[0m\u001B[0m\n\u001B[0;32m   1346\u001B[0m             \u001B[1;32mtry\u001B[0m\u001B[1;33m:\u001B[0m\u001B[1;33m\u001B[0m\u001B[1;33m\u001B[0m\u001B[0m\n\u001B[1;32m-> 1347\u001B[1;33m                 \u001B[0mresponse\u001B[0m\u001B[1;33m.\u001B[0m\u001B[0mbegin\u001B[0m\u001B[1;33m(\u001B[0m\u001B[1;33m)\u001B[0m\u001B[1;33m\u001B[0m\u001B[1;33m\u001B[0m\u001B[0m\n\u001B[0m\u001B[0;32m   1348\u001B[0m             \u001B[1;32mexcept\u001B[0m \u001B[0mConnectionError\u001B[0m\u001B[1;33m:\u001B[0m\u001B[1;33m\u001B[0m\u001B[1;33m\u001B[0m\u001B[0m\n\u001B[0;32m   1349\u001B[0m                 \u001B[0mself\u001B[0m\u001B[1;33m.\u001B[0m\u001B[0mclose\u001B[0m\u001B[1;33m(\u001B[0m\u001B[1;33m)\u001B[0m\u001B[1;33m\u001B[0m\u001B[1;33m\u001B[0m\u001B[0m\n",
      "\u001B[1;32m~\\anaconda3\\lib\\http\\client.py\u001B[0m in \u001B[0;36mbegin\u001B[1;34m(self)\u001B[0m\n\u001B[0;32m    305\u001B[0m         \u001B[1;31m# read until we get a non-100 response\u001B[0m\u001B[1;33m\u001B[0m\u001B[1;33m\u001B[0m\u001B[1;33m\u001B[0m\u001B[0m\n\u001B[0;32m    306\u001B[0m         \u001B[1;32mwhile\u001B[0m \u001B[1;32mTrue\u001B[0m\u001B[1;33m:\u001B[0m\u001B[1;33m\u001B[0m\u001B[1;33m\u001B[0m\u001B[0m\n\u001B[1;32m--> 307\u001B[1;33m             \u001B[0mversion\u001B[0m\u001B[1;33m,\u001B[0m \u001B[0mstatus\u001B[0m\u001B[1;33m,\u001B[0m \u001B[0mreason\u001B[0m \u001B[1;33m=\u001B[0m \u001B[0mself\u001B[0m\u001B[1;33m.\u001B[0m\u001B[0m_read_status\u001B[0m\u001B[1;33m(\u001B[0m\u001B[1;33m)\u001B[0m\u001B[1;33m\u001B[0m\u001B[1;33m\u001B[0m\u001B[0m\n\u001B[0m\u001B[0;32m    308\u001B[0m             \u001B[1;32mif\u001B[0m \u001B[0mstatus\u001B[0m \u001B[1;33m!=\u001B[0m \u001B[0mCONTINUE\u001B[0m\u001B[1;33m:\u001B[0m\u001B[1;33m\u001B[0m\u001B[1;33m\u001B[0m\u001B[0m\n\u001B[0;32m    309\u001B[0m                 \u001B[1;32mbreak\u001B[0m\u001B[1;33m\u001B[0m\u001B[1;33m\u001B[0m\u001B[0m\n",
      "\u001B[1;32m~\\anaconda3\\lib\\http\\client.py\u001B[0m in \u001B[0;36m_read_status\u001B[1;34m(self)\u001B[0m\n\u001B[0;32m    266\u001B[0m \u001B[1;33m\u001B[0m\u001B[0m\n\u001B[0;32m    267\u001B[0m     \u001B[1;32mdef\u001B[0m \u001B[0m_read_status\u001B[0m\u001B[1;33m(\u001B[0m\u001B[0mself\u001B[0m\u001B[1;33m)\u001B[0m\u001B[1;33m:\u001B[0m\u001B[1;33m\u001B[0m\u001B[1;33m\u001B[0m\u001B[0m\n\u001B[1;32m--> 268\u001B[1;33m         \u001B[0mline\u001B[0m \u001B[1;33m=\u001B[0m \u001B[0mstr\u001B[0m\u001B[1;33m(\u001B[0m\u001B[0mself\u001B[0m\u001B[1;33m.\u001B[0m\u001B[0mfp\u001B[0m\u001B[1;33m.\u001B[0m\u001B[0mreadline\u001B[0m\u001B[1;33m(\u001B[0m\u001B[0m_MAXLINE\u001B[0m \u001B[1;33m+\u001B[0m \u001B[1;36m1\u001B[0m\u001B[1;33m)\u001B[0m\u001B[1;33m,\u001B[0m \u001B[1;34m\"iso-8859-1\"\u001B[0m\u001B[1;33m)\u001B[0m\u001B[1;33m\u001B[0m\u001B[1;33m\u001B[0m\u001B[0m\n\u001B[0m\u001B[0;32m    269\u001B[0m         \u001B[1;32mif\u001B[0m \u001B[0mlen\u001B[0m\u001B[1;33m(\u001B[0m\u001B[0mline\u001B[0m\u001B[1;33m)\u001B[0m \u001B[1;33m>\u001B[0m \u001B[0m_MAXLINE\u001B[0m\u001B[1;33m:\u001B[0m\u001B[1;33m\u001B[0m\u001B[1;33m\u001B[0m\u001B[0m\n\u001B[0;32m    270\u001B[0m             \u001B[1;32mraise\u001B[0m \u001B[0mLineTooLong\u001B[0m\u001B[1;33m(\u001B[0m\u001B[1;34m\"status line\"\u001B[0m\u001B[1;33m)\u001B[0m\u001B[1;33m\u001B[0m\u001B[1;33m\u001B[0m\u001B[0m\n",
      "\u001B[1;32m~\\anaconda3\\lib\\socket.py\u001B[0m in \u001B[0;36mreadinto\u001B[1;34m(self, b)\u001B[0m\n\u001B[0;32m    667\u001B[0m         \u001B[1;32mwhile\u001B[0m \u001B[1;32mTrue\u001B[0m\u001B[1;33m:\u001B[0m\u001B[1;33m\u001B[0m\u001B[1;33m\u001B[0m\u001B[0m\n\u001B[0;32m    668\u001B[0m             \u001B[1;32mtry\u001B[0m\u001B[1;33m:\u001B[0m\u001B[1;33m\u001B[0m\u001B[1;33m\u001B[0m\u001B[0m\n\u001B[1;32m--> 669\u001B[1;33m                 \u001B[1;32mreturn\u001B[0m \u001B[0mself\u001B[0m\u001B[1;33m.\u001B[0m\u001B[0m_sock\u001B[0m\u001B[1;33m.\u001B[0m\u001B[0mrecv_into\u001B[0m\u001B[1;33m(\u001B[0m\u001B[0mb\u001B[0m\u001B[1;33m)\u001B[0m\u001B[1;33m\u001B[0m\u001B[1;33m\u001B[0m\u001B[0m\n\u001B[0m\u001B[0;32m    670\u001B[0m             \u001B[1;32mexcept\u001B[0m \u001B[0mtimeout\u001B[0m\u001B[1;33m:\u001B[0m\u001B[1;33m\u001B[0m\u001B[1;33m\u001B[0m\u001B[0m\n\u001B[0;32m    671\u001B[0m                 \u001B[0mself\u001B[0m\u001B[1;33m.\u001B[0m\u001B[0m_timeout_occurred\u001B[0m \u001B[1;33m=\u001B[0m \u001B[1;32mTrue\u001B[0m\u001B[1;33m\u001B[0m\u001B[1;33m\u001B[0m\u001B[0m\n",
      "\u001B[1;31mKeyboardInterrupt\u001B[0m: "
     ]
    }
   ],
   "source": [
    "driver = webdriver.Chrome(\"C:\\\\Users\\\\wirze\\\\DataspellProjects\\\\chromedriver_win32\\\\chromedriver.exe\")\n",
    "driver.get(\"https://www.tripadvisor.com/Search?q=parks&searchSessionId=CF4A26D0C451E0783853C96C46AC8B131637532036921ssid&sid=72ED914F7F2B4263B4C7FB9FF61A5A671637532046511&geo=186338&blockRedirect=true&ssrc=a\")\n",
    "javaScript = \"PagerNextClick();\"\n",
    "\n",
    "inputElement = driver.find_element_by_id(\"GEO_SCOPED_SEARCH_INPUT\")\n",
    "inputElement.send_keys('Moscow')\n",
    "time.sleep(2)\n",
    "clearElement = driver.find_element_by_id(\"CLEAR_WHERE\")\n",
    "clearElement.click()\n",
    "time.sleep(2)\n",
    "inputElement = driver.find_element_by_id(\"GEO_SCOPED_SEARCH_INPUT\")\n",
    "inputElement.send_keys(city_name)\n",
    "time.sleep(2)\n",
    "inputElement.send_keys(Keys.ENTER)\n",
    "time.sleep(3)\n",
    "parksElement = driver.find_elements_by_xpath(\"//*[contains(text(), 'Parks in')]\")\n",
    "parksElement[1].click()"
   ],
   "metadata": {
    "collapsed": false,
    "pycharm": {
     "name": "#%%\n"
    }
   }
  },
  {
   "cell_type": "code",
   "execution_count": 330,
   "outputs": [
    {
     "name": "stderr",
     "output_type": "stream",
     "text": [
      "C:\\Users\\wirze\\AppData\\Local\\Temp/ipykernel_17200/954684860.py:16: DeprecationWarning: find_elements_by_* commands are deprecated. Please use find_elements() instead\n",
      "  NextPageElement = driver.find_elements_by_css_selector('[aria-label=\"Next page\"]')\n"
     ]
    },
    {
     "name": "stdout",
     "output_type": "stream",
     "text": [
      "Page is ready!\n",
      "Page is ready!\n",
      "Page is ready!\n"
     ]
    }
   ],
   "source": [
    "for i in range(42):\n",
    "    html = driver.page_source\n",
    "    soup = BeautifulSoup(html)\n",
    "\n",
    "    results_names = soup.find_all(\"div\", class_=\"csemS\")\n",
    "    results_links = soup.find_all(\"div\", class_=\"fVbwn cdAAV cagLQ eZTON dofsx\")\n",
    "    for result_link in results_links:\n",
    "        if result_link.find(\"a\") is None:\n",
    "            results_links.remove(result_link)\n",
    "\n",
    "    for result_link, result_name in zip(results_links, results_names):\n",
    "        if result_link.find(\"a\") is not None:\n",
    "            links[result_name.text] = result_link.find(\"a\")['href']\n",
    "    try:\n",
    "        myElem = WebDriverWait(driver, delay).until(EC.presence_of_element_located((By.CLASS_NAME, 'csemS')))\n",
    "        NextPageElement = driver.find_elements_by_css_selector('[aria-label=\"Next page\"]')\n",
    "        print (\"Page is ready!\")\n",
    "    except TimeoutException:\n",
    "        print (\"Loading took too much time!\")\n",
    "        time.sleep(5)\n",
    "\n",
    "    if len(NextPageElement) == 0:\n",
    "        break\n",
    "    NextPageElement[0].click()\n",
    "    time.sleep(5)"
   ],
   "metadata": {
    "collapsed": false,
    "pycharm": {
     "name": "#%%\n"
    }
   }
  },
  {
   "cell_type": "code",
   "execution_count": 331,
   "outputs": [
    {
     "name": "stdout",
     "output_type": "stream",
     "text": [
      "3. Zelenogorsk Recreation Park\n",
      "75. Nizhniy Park\n"
     ]
    }
   ],
   "source": [
    "print(list(links)[1])\n",
    "print(list(links)[-1])"
   ],
   "metadata": {
    "collapsed": false,
    "pycharm": {
     "name": "#%%\n"
    }
   }
  },
  {
   "cell_type": "code",
   "execution_count": 332,
   "outputs": [],
   "source": [
    "df_links_all =  pd.read_csv('all_parks_links.csv')\n",
    "\n",
    "df_links = pd.DataFrame.from_dict(links,  orient='index', columns=[\"link\"]).reset_index()\n",
    "df_links['city'] = city_name\n",
    "df_links = df_links[['city', 'index', 'link']]\n",
    "\n",
    "df_links_all2 = pd.concat([df_links_all, df_links], ignore_index=True)\n",
    "df_links_all2 = df_links_all2[['city', 'index', 'link']]\n",
    "df_links_all2.to_csv(\"all_parks_links.csv\", index=False)"
   ],
   "metadata": {
    "collapsed": false,
    "pycharm": {
     "name": "#%%\n"
    }
   }
  },
  {
   "cell_type": "code",
   "execution_count": 333,
   "outputs": [
    {
     "data": {
      "text/plain": "                  city                                             index  \\\n0            test_city                                         test_park   \n1               Moscow                                   1. Victory Park   \n2               Moscow  2. Gorkiy Central Park of Culture and Recreation   \n3               Moscow                                 3. Sokolniki Park   \n4               Moscow                                  4. Neskuchny sad   \n...                ...                                               ...   \n1421  Saint Petersburg                               71. Metallist Skver   \n1422  Saint Petersburg                                  72. Nizhniy Park   \n1423  Saint Petersburg                            73. Полюстровский парк   \n1424  Saint Petersburg                                  74. English Park   \n1425  Saint Petersburg                                  75. Nizhniy Park   \n\n                                                   link  \n0                                             test_link  \n1     /Attraction_Review-g298484-d300387-Reviews-Vic...  \n2     /Attraction_Review-g298484-d300383-Reviews-Gor...  \n3     /Attraction_Review-g298484-d565309-Reviews-Sok...  \n4     /Attraction_Review-g298484-d2342077-Reviews-Ne...  \n...                                                 ...  \n1421  /Attraction_Review-g2394587-d21039548-Reviews-...  \n1422  /Attraction_Review-g811323-d21000965-Reviews-N...  \n1423  /Attraction_Review-g298507-d23539638-Reviews-S...  \n1424  /Attraction_Review-g1207894-d23606038-Reviews-...  \n1425  /Attraction_Review-g298507-d20992887-Reviews-N...  \n\n[1426 rows x 3 columns]",
      "text/html": "<div>\n<style scoped>\n    .dataframe tbody tr th:only-of-type {\n        vertical-align: middle;\n    }\n\n    .dataframe tbody tr th {\n        vertical-align: top;\n    }\n\n    .dataframe thead th {\n        text-align: right;\n    }\n</style>\n<table border=\"1\" class=\"dataframe\">\n  <thead>\n    <tr style=\"text-align: right;\">\n      <th></th>\n      <th>city</th>\n      <th>index</th>\n      <th>link</th>\n    </tr>\n  </thead>\n  <tbody>\n    <tr>\n      <th>0</th>\n      <td>test_city</td>\n      <td>test_park</td>\n      <td>test_link</td>\n    </tr>\n    <tr>\n      <th>1</th>\n      <td>Moscow</td>\n      <td>1. Victory Park</td>\n      <td>/Attraction_Review-g298484-d300387-Reviews-Vic...</td>\n    </tr>\n    <tr>\n      <th>2</th>\n      <td>Moscow</td>\n      <td>2. Gorkiy Central Park of Culture and Recreation</td>\n      <td>/Attraction_Review-g298484-d300383-Reviews-Gor...</td>\n    </tr>\n    <tr>\n      <th>3</th>\n      <td>Moscow</td>\n      <td>3. Sokolniki Park</td>\n      <td>/Attraction_Review-g298484-d565309-Reviews-Sok...</td>\n    </tr>\n    <tr>\n      <th>4</th>\n      <td>Moscow</td>\n      <td>4. Neskuchny sad</td>\n      <td>/Attraction_Review-g298484-d2342077-Reviews-Ne...</td>\n    </tr>\n    <tr>\n      <th>...</th>\n      <td>...</td>\n      <td>...</td>\n      <td>...</td>\n    </tr>\n    <tr>\n      <th>1421</th>\n      <td>Saint Petersburg</td>\n      <td>71. Metallist Skver</td>\n      <td>/Attraction_Review-g2394587-d21039548-Reviews-...</td>\n    </tr>\n    <tr>\n      <th>1422</th>\n      <td>Saint Petersburg</td>\n      <td>72. Nizhniy Park</td>\n      <td>/Attraction_Review-g811323-d21000965-Reviews-N...</td>\n    </tr>\n    <tr>\n      <th>1423</th>\n      <td>Saint Petersburg</td>\n      <td>73. Полюстровский парк</td>\n      <td>/Attraction_Review-g298507-d23539638-Reviews-S...</td>\n    </tr>\n    <tr>\n      <th>1424</th>\n      <td>Saint Petersburg</td>\n      <td>74. English Park</td>\n      <td>/Attraction_Review-g1207894-d23606038-Reviews-...</td>\n    </tr>\n    <tr>\n      <th>1425</th>\n      <td>Saint Petersburg</td>\n      <td>75. Nizhniy Park</td>\n      <td>/Attraction_Review-g298507-d20992887-Reviews-N...</td>\n    </tr>\n  </tbody>\n</table>\n<p>1426 rows × 3 columns</p>\n</div>"
     },
     "execution_count": 333,
     "metadata": {},
     "output_type": "execute_result"
    }
   ],
   "source": [
    "df_links_all =  pd.read_csv('all_parks_links.csv')\n",
    "df_links_all"
   ],
   "metadata": {
    "collapsed": false,
    "pycharm": {
     "name": "#%%\n"
    }
   }
  },
  {
   "cell_type": "code",
   "execution_count": 334,
   "outputs": [],
   "source": [
    "driver.quit()"
   ],
   "metadata": {
    "collapsed": false,
    "pycharm": {
     "name": "#%%\n"
    }
   }
  },
  {
   "cell_type": "markdown",
   "source": [
    "# Part 2\n",
    "## Reviews"
   ],
   "metadata": {
    "collapsed": false,
    "pycharm": {
     "name": "#%% md\n"
    }
   }
  },
  {
   "cell_type": "code",
   "execution_count": 335,
   "outputs": [
    {
     "data": {
      "text/plain": "array(['test_city', 'Moscow', 'London', 'Chicago', 'Paris', 'New York',\n       'San Francisco', 'Bangkok', 'Singapore', 'Istanbul', 'Tokyo',\n       'Saint Petersburg'], dtype=object)"
     },
     "execution_count": 335,
     "metadata": {},
     "output_type": "execute_result"
    }
   ],
   "source": [
    "df_links_all.city.unique()"
   ],
   "metadata": {
    "collapsed": false,
    "pycharm": {
     "name": "#%%\n"
    }
   }
  },
  {
   "cell_type": "code",
   "execution_count": 336,
   "outputs": [],
   "source": [
    "city_name = \"Saint Petersburg\""
   ],
   "metadata": {
    "collapsed": false,
    "pycharm": {
     "name": "#%%\n"
    }
   }
  },
  {
   "cell_type": "code",
   "execution_count": 337,
   "outputs": [
    {
     "data": {
      "text/plain": "                  city                                 index  \\\n1352  Saint Petersburg          1. Catherine Palace and Park   \n1353  Saint Petersburg        3. Zelenogorsk Recreation Park   \n1354  Saint Petersburg  4. Dubki Park of Culture and Leisure   \n1355  Saint Petersburg       5. Park And Gardens of Peterhof   \n1356  Saint Petersburg    6. Peterhof  State Museum Preserve   \n...                ...                                   ...   \n1421  Saint Petersburg                   71. Metallist Skver   \n1422  Saint Petersburg                      72. Nizhniy Park   \n1423  Saint Petersburg                73. Полюстровский парк   \n1424  Saint Petersburg                      74. English Park   \n1425  Saint Petersburg                      75. Nizhniy Park   \n\n                                                   link  \n1352  /Attraction_Review-g811323-d301025-Reviews-Cat...  \n1353  /Attraction_Review-g811323-d301026-Reviews-Ale...  \n1354  /Attraction_Review-g2345785-d6502907-Reviews-Z...  \n1355  /Attraction_Review-g2345793-d6502231-Reviews-D...  \n1356  /Attraction_Review-g1207894-d10533361-Reviews-...  \n...                                                 ...  \n1421  /Attraction_Review-g2394587-d21039548-Reviews-...  \n1422  /Attraction_Review-g811323-d21000965-Reviews-N...  \n1423  /Attraction_Review-g298507-d23539638-Reviews-S...  \n1424  /Attraction_Review-g1207894-d23606038-Reviews-...  \n1425  /Attraction_Review-g298507-d20992887-Reviews-N...  \n\n[74 rows x 3 columns]",
      "text/html": "<div>\n<style scoped>\n    .dataframe tbody tr th:only-of-type {\n        vertical-align: middle;\n    }\n\n    .dataframe tbody tr th {\n        vertical-align: top;\n    }\n\n    .dataframe thead th {\n        text-align: right;\n    }\n</style>\n<table border=\"1\" class=\"dataframe\">\n  <thead>\n    <tr style=\"text-align: right;\">\n      <th></th>\n      <th>city</th>\n      <th>index</th>\n      <th>link</th>\n    </tr>\n  </thead>\n  <tbody>\n    <tr>\n      <th>1352</th>\n      <td>Saint Petersburg</td>\n      <td>1. Catherine Palace and Park</td>\n      <td>/Attraction_Review-g811323-d301025-Reviews-Cat...</td>\n    </tr>\n    <tr>\n      <th>1353</th>\n      <td>Saint Petersburg</td>\n      <td>3. Zelenogorsk Recreation Park</td>\n      <td>/Attraction_Review-g811323-d301026-Reviews-Ale...</td>\n    </tr>\n    <tr>\n      <th>1354</th>\n      <td>Saint Petersburg</td>\n      <td>4. Dubki Park of Culture and Leisure</td>\n      <td>/Attraction_Review-g2345785-d6502907-Reviews-Z...</td>\n    </tr>\n    <tr>\n      <th>1355</th>\n      <td>Saint Petersburg</td>\n      <td>5. Park And Gardens of Peterhof</td>\n      <td>/Attraction_Review-g2345793-d6502231-Reviews-D...</td>\n    </tr>\n    <tr>\n      <th>1356</th>\n      <td>Saint Petersburg</td>\n      <td>6. Peterhof  State Museum Preserve</td>\n      <td>/Attraction_Review-g1207894-d10533361-Reviews-...</td>\n    </tr>\n    <tr>\n      <th>...</th>\n      <td>...</td>\n      <td>...</td>\n      <td>...</td>\n    </tr>\n    <tr>\n      <th>1421</th>\n      <td>Saint Petersburg</td>\n      <td>71. Metallist Skver</td>\n      <td>/Attraction_Review-g2394587-d21039548-Reviews-...</td>\n    </tr>\n    <tr>\n      <th>1422</th>\n      <td>Saint Petersburg</td>\n      <td>72. Nizhniy Park</td>\n      <td>/Attraction_Review-g811323-d21000965-Reviews-N...</td>\n    </tr>\n    <tr>\n      <th>1423</th>\n      <td>Saint Petersburg</td>\n      <td>73. Полюстровский парк</td>\n      <td>/Attraction_Review-g298507-d23539638-Reviews-S...</td>\n    </tr>\n    <tr>\n      <th>1424</th>\n      <td>Saint Petersburg</td>\n      <td>74. English Park</td>\n      <td>/Attraction_Review-g1207894-d23606038-Reviews-...</td>\n    </tr>\n    <tr>\n      <th>1425</th>\n      <td>Saint Petersburg</td>\n      <td>75. Nizhniy Park</td>\n      <td>/Attraction_Review-g298507-d20992887-Reviews-N...</td>\n    </tr>\n  </tbody>\n</table>\n<p>74 rows × 3 columns</p>\n</div>"
     },
     "execution_count": 337,
     "metadata": {},
     "output_type": "execute_result"
    }
   ],
   "source": [
    "df_links_city = df_links_all[df_links_all['city'] == city_name]\n",
    "df_links_city"
   ],
   "metadata": {
    "collapsed": false,
    "pycharm": {
     "name": "#%%\n"
    }
   }
  },
  {
   "cell_type": "code",
   "execution_count": 338,
   "outputs": [
    {
     "data": {
      "text/plain": "   id   text link\n0   0  park4  www",
      "text/html": "<div>\n<style scoped>\n    .dataframe tbody tr th:only-of-type {\n        vertical-align: middle;\n    }\n\n    .dataframe tbody tr th {\n        vertical-align: top;\n    }\n\n    .dataframe thead th {\n        text-align: right;\n    }\n</style>\n<table border=\"1\" class=\"dataframe\">\n  <thead>\n    <tr style=\"text-align: right;\">\n      <th></th>\n      <th>id</th>\n      <th>text</th>\n      <th>link</th>\n    </tr>\n  </thead>\n  <tbody>\n    <tr>\n      <th>0</th>\n      <td>0</td>\n      <td>park4</td>\n      <td>www</td>\n    </tr>\n  </tbody>\n</table>\n</div>"
     },
     "execution_count": 338,
     "metadata": {},
     "output_type": "execute_result"
    }
   ],
   "source": [
    "reviews_df = pd.DataFrame(data={'id':[0], 'text':['park4'], 'link':['www']})\n",
    "reviews_df.to_csv(city_name.lower()+'_parks_reviews.csv', index=False)\n",
    "reviews_df"
   ],
   "metadata": {
    "collapsed": false,
    "pycharm": {
     "name": "#%%\n"
    }
   }
  },
  {
   "cell_type": "code",
   "execution_count": 341,
   "outputs": [
    {
     "data": {
      "text/plain": "['/Attraction_Review-g811323-d301025-Reviews-Catherine_Palace_and_Park-Pushkin_Pushkinsky_District_St_Petersburg_Northwestern_D.html',\n '/Attraction_Review-g811323-d301026-Reviews-Alexander_Park-Pushkin_Pushkinsky_District_St_Petersburg_Northwestern_District.html',\n '/Attraction_Review-g2345785-d6502907-Reviews-Zelenogorsk_Recreation_Park-Zelenogorsk_Kurortny_District_St_Petersburg_Northwes.html',\n '/Attraction_Review-g2345793-d6502231-Reviews-Dubki_Park_of_Culture_and_Leisure-Sestroretsk_Kurortny_District_St_Petersburg_No.html',\n '/Attraction_Review-g1207894-d10533361-Reviews-Park_And_Gardens_of_Peterhof-Peterhof_Petrodvortsovy_District_St_Petersburg_Nor.html']"
     },
     "execution_count": 341,
     "metadata": {},
     "output_type": "execute_result"
    }
   ],
   "source": [
    "df_links_city.link[0:4].tolist()"
   ],
   "metadata": {
    "collapsed": false,
    "pycharm": {
     "name": "#%%\n"
    }
   }
  },
  {
   "cell_type": "code",
   "execution_count": 342,
   "outputs": [
    {
     "name": "stderr",
     "output_type": "stream",
     "text": [
      "C:\\Users\\wirze\\AppData\\Local\\Temp/ipykernel_17200/3790441302.py:1: DeprecationWarning: executable_path has been deprecated, please pass in a Service object\n",
      "  driver = webdriver.Chrome(\"C:\\\\Users\\\\wirze\\\\DataspellProjects\\\\chromedriver_win32\\\\chromedriver.exe\")\n"
     ]
    },
    {
     "name": "stdout",
     "output_type": "stream",
     "text": [
      "https://www.tripadvisor.com/Attraction_Review-g1207894-d10533361-Reviews-Park_And_Gardens_of_Peterhof-Peterhof_Petrodvortsovy_District_St_Petersburg_Nor.html\n"
     ]
    },
    {
     "name": "stderr",
     "output_type": "stream",
     "text": [
      "C:\\Users\\wirze\\AppData\\Local\\Temp/ipykernel_17200/3790441302.py:24: DeprecationWarning: find_elements_by_* commands are deprecated. Please use find_elements() instead\n",
      "  NextPageElement = driver.find_elements_by_css_selector('[aria-label=\"Next page\"]')\n"
     ]
    },
    {
     "name": "stdout",
     "output_type": "stream",
     "text": [
      "Page is ready!\n",
      "Page is ready!\n",
      "Page is ready!\n",
      "Page is ready!\n",
      "Page is ready!\n",
      "Page is ready!\n",
      "Page is ready!\n",
      "Page is ready!\n",
      "Page is ready!\n",
      "Page is ready!\n",
      "Page is ready!\n",
      "Page is ready!\n",
      "Page is ready!\n",
      "Page is ready!\n",
      "Page is ready!\n",
      "Page is ready!\n",
      "Page is ready!\n",
      "Page is ready!\n",
      "Page is ready!\n",
      "Page is ready!\n",
      "Page is ready!\n",
      "Page is ready!\n",
      "Page is ready!\n",
      "Page is ready!\n",
      "Page is ready!\n",
      "Page is ready!\n",
      "Page is ready!\n",
      "Page is ready!\n",
      "Page is ready!\n",
      "Page is ready!\n",
      "Page is ready!\n",
      "Page is ready!\n",
      "Page is ready!\n",
      "Page is ready!\n",
      "Page is ready!\n",
      "Page is ready!\n",
      "Page is ready!\n",
      "Page is ready!\n",
      "Page is ready!\n",
      "Page is ready!\n",
      "Page is ready!\n",
      "Page is ready!\n",
      "Page is ready!\n",
      "Page is ready!\n",
      "Page is ready!\n",
      "Page is ready!\n",
      "Page is ready!\n",
      "Page is ready!\n",
      "Page is ready!\n",
      "Page is ready!\n",
      "https://www.tripadvisor.com/Attraction_Review-g1207894-d2615834-Reviews-Peterhof_State_Museum_Preserve-Peterhof_Petrodvortsovy_District_St_Petersburg_No.html\n",
      "Page is ready!\n",
      "Page is ready!\n",
      "Page is ready!\n",
      "Page is ready!\n",
      "Page is ready!\n",
      "Page is ready!\n",
      "Page is ready!\n",
      "Page is ready!\n",
      "Page is ready!\n",
      "Page is ready!\n",
      "Page is ready!\n",
      "Page is ready!\n",
      "Page is ready!\n",
      "Page is ready!\n",
      "Page is ready!\n",
      "Page is ready!\n",
      "Page is ready!\n",
      "Page is ready!\n",
      "Page is ready!\n",
      "Page is ready!\n",
      "Page is ready!\n",
      "Page is ready!\n",
      "Page is ready!\n",
      "Page is ready!\n",
      "Page is ready!\n",
      "Page is ready!\n",
      "Page is ready!\n",
      "Page is ready!\n",
      "Page is ready!\n",
      "Page is ready!\n",
      "Page is ready!\n",
      "Page is ready!\n",
      "Page is ready!\n",
      "Page is ready!\n",
      "Page is ready!\n",
      "Page is ready!\n",
      "Page is ready!\n",
      "Page is ready!\n",
      "Page is ready!\n",
      "Page is ready!\n",
      "Page is ready!\n",
      "Page is ready!\n",
      "Page is ready!\n",
      "Page is ready!\n",
      "Page is ready!\n",
      "Page is ready!\n",
      "Page is ready!\n",
      "Page is ready!\n",
      "Page is ready!\n",
      "Page is ready!\n",
      "https://www.tripadvisor.com/Attraction_Review-g1207894-d6501747-Reviews-Aleksandria_Historical_Park-Peterhof_Petrodvortsovy_District_St_Petersburg_North.html\n",
      "Page is ready!\n",
      "11\n",
      "https://www.tripadvisor.com/Attraction_Review-g815506-d14178098-Reviews-The_Oranienbaum_Park-Lomonosov_Petrodvortsovy_District_St_Petersburg_Northwester.html\n",
      "Page is ready!\n",
      "Page is ready!\n",
      "11\n",
      "https://www.tripadvisor.com/Attraction_Review-g2393864-d6502564-Reviews-Park_of_Culture_and_Leisure-Kolpino_Kolpinsky_District_St_Petersburg_Northwester.html\n",
      "Page is ready!\n",
      "Page is ready!\n",
      "14\n",
      "https://www.tripadvisor.com/Attraction_Review-g2399423-d8567267-Reviews-Orlovskiy_Pond_and_Park-Strelna_Petrodvortsovy_District_St_Petersburg_Northweste.html\n",
      "Page is ready!\n",
      "Page is ready!\n",
      "12\n",
      "https://www.tripadvisor.com/Attraction_Review-g2345793-d6502229-Reviews-Dubki_Park_of_Culture_and_Leisure-Sestroretsk_Kurortny_District_St_Petersburg_No.html\n",
      "Page is ready!\n",
      "Page is ready!\n",
      "Page is ready!\n",
      "Page is ready!\n",
      "Page is ready!\n",
      "50\n",
      "https://www.tripadvisor.com/Attraction_Review-g3618978-d8657803-Reviews-Historical_Park_Marina_Gora-Molodezhnoye_Kurortny_District_St_Petersburg_Northwe.html\n",
      "Page is ready!\n",
      "7\n",
      "https://www.tripadvisor.com/Attraction_Review-g1207894-d2615955-Reviews-Olga_s_and_Tsaritsyn_Islands_Pavilions-Peterhof_Petrodvortsovy_District_St_Peter.html\n",
      "Page is ready!\n",
      "Page is ready!\n",
      "13\n",
      "https://www.tripadvisor.com/Attraction_Review-g298507-d6499508-Reviews-Park_Of_The_300th_Anniversary_Of_St_Petersburg-St_Petersburg_Northwestern_Distric.html\n",
      "Page is ready!\n",
      "Page is ready!\n",
      "11\n",
      "https://www.tripadvisor.com/Attraction_Review-g811323-d10229196-Reviews-Babolovskiy_Park-Pushkin_Pushkinsky_District_St_Petersburg_Northwestern_District.html\n",
      "Page is ready!\n",
      "3\n",
      "https://www.tripadvisor.com/Attraction_Review-g1207894-d8651135-Reviews-Lugovoi_Park-Peterhof_Petrodvortsovy_District_St_Petersburg_Northwestern_Distric.html\n",
      "Page is ready!\n",
      "3\n",
      "https://www.tripadvisor.com/Attraction_Review-g811323-d10196937-Reviews-Buferny_Park-Pushkin_Pushkinsky_District_St_Petersburg_Northwestern_District.html\n",
      "Page is ready!\n",
      "7\n",
      "https://www.tripadvisor.com/Attraction_Review-g1207894-d8651134-Reviews-Kolonistskiy_Park-Peterhof_Petrodvortsovy_District_St_Petersburg_Northwestern_Di.html\n",
      "Page is ready!\n",
      "3\n",
      "https://www.tripadvisor.com/Attraction_Review-g2399432-d10440016-Reviews-Mariental_Park-Pavlovsk_Pushkinsky_District_St_Petersburg_Northwestern_District.html\n",
      "Page is ready!\n",
      "11\n",
      "https://www.tripadvisor.com/Attraction_Review-g2399432-d17791363-Reviews-Pavlovsk_Park-Pavlovsk_Pushkinsky_District_St_Petersburg_Northwestern_District.html\n",
      "Page is ready!\n",
      "2\n",
      "https://www.tripadvisor.com/Attraction_Review-g1207894-d17614102-Reviews-Nizhniy_Park-Peterhof_Petrodvortsovy_District_St_Petersburg_Northwestern_Distri.html\n",
      "Page is ready!\n",
      "2\n",
      "https://www.tripadvisor.com/Attraction_Review-g2394587-d15812946-Reviews-Summer_Garden-Kronshtadt_Kronshtadtsky_District_St_Petersburg_Northwestern_Dist.html\n",
      "Page is ready!\n",
      "8\n",
      "https://www.tripadvisor.com/Attraction_Review-g298507-d6502711-Reviews-Parc_Sosnovka-St_Petersburg_Northwestern_District.html\n",
      "Page is ready!\n",
      "4\n",
      "https://www.tripadvisor.com/Attraction_Review-g298507-d7071948-Reviews-Kirov_Central_Park_of_Culture_and_Recreation-St_Petersburg_Northwestern_District.html\n",
      "Page is ready!\n",
      "9\n",
      "https://www.tripadvisor.com/Attraction_Review-g2394587-d18344075-Reviews-Park_Patriot-Kronshtadt_Kronshtadtsky_District_St_Petersburg_Northwestern_Distr.html\n",
      "Page is ready!\n",
      "10\n",
      "https://www.tripadvisor.com/Attraction_Review-g811323-d11487964-Reviews-Mountain_Parnas-Pushkin_Pushkinsky_District_St_Petersburg_Northwestern_District.html\n",
      "Page is ready!\n",
      "7\n",
      "https://www.tripadvisor.com/Attraction_Review-g1207894-d8818109-Reviews-Park_Zayachiy_Remiz-Peterhof_Petrodvortsovy_District_St_Petersburg_Northwestern_.html\n",
      "Page is ready!\n",
      "9\n",
      "https://www.tripadvisor.com/Attraction_Review-g298507-d6502455-Reviews-Moscow_Victory_Park-St_Petersburg_Northwestern_District.html\n",
      "Page is ready!\n",
      "6\n",
      "https://www.tripadvisor.com/Attraction_Review-g2394587-d10283687-Reviews-Yekaterininskiy_Park-Kronshtadt_Kronshtadtsky_District_St_Petersburg_Northweste.html\n",
      "Page is ready!\n",
      "8\n",
      "https://www.tripadvisor.com/Attraction_Review-g2394587-d18344144-Reviews-Inchkhona_Skver-Kronshtadt_Kronshtadtsky_District_St_Petersburg_Northwestern_Di.html\n",
      "Page is ready!\n",
      "5\n",
      "https://www.tripadvisor.com/Attraction_Review-g298507-d6502804-Reviews-Udelny_Park_of_Recreation-St_Petersburg_Northwestern_District.html\n",
      "Page is ready!\n",
      "3\n",
      "https://www.tripadvisor.com/Attraction_Review-g298507-d6502916-Reviews-Ekateringof_Recreation_Park-St_Petersburg_Northwestern_District.html\n",
      "Page is ready!\n",
      "Page is ready!\n",
      "Page is ready!\n",
      "Page is ready!\n",
      "39\n",
      "https://www.tripadvisor.com/Attraction_Review-g298507-d306235-Reviews-Field_of_Mars_Marsovo_Pole-St_Petersburg_Northwestern_District.html\n",
      "Page is ready!\n",
      "Page is ready!\n",
      "Page is ready!\n",
      "Page is ready!\n",
      "Page is ready!\n",
      "46\n",
      "https://www.tripadvisor.com/Attraction_Review-g298507-d6502632-Reviews-Primorsky_Park_Of_Victory-St_Petersburg_Northwestern_District.html\n",
      "Page is ready!\n",
      "2\n",
      "https://www.tripadvisor.com/Attraction_Review-g298507-d10291869-Reviews-Garden_of_Smolny-St_Petersburg_Northwestern_District.html\n",
      "Page is ready!\n",
      "3\n",
      "https://www.tripadvisor.com/Attraction_Review-g298507-d6502459-Reviews-Murinsky_Park_of_Culture_and_Leisure-St_Petersburg_Northwestern_District.html\n",
      "Page is ready!\n",
      "Page is ready!\n",
      "18\n",
      "https://www.tripadvisor.com/Attraction_Review-g298507-d4889414-Reviews-Petrovskiy_Park-St_Petersburg_Northwestern_District.html\n",
      "Page is ready!\n",
      "Page is ready!\n",
      "Page is ready!\n",
      "17\n",
      "https://www.tripadvisor.com/Attraction_Review-g298507-d7195738-Reviews-Modern_Sculpture_Park-St_Petersburg_Northwestern_District.html\n",
      "Page is ready!\n",
      "Page is ready!\n",
      "12\n",
      "https://www.tripadvisor.com/Attraction_Review-g298507-d6439676-Reviews-Park_Internatsionalistov-St_Petersburg_Northwestern_District.html\n",
      "Page is ready!\n",
      "Page is ready!\n",
      "21\n",
      "https://www.tripadvisor.com/Attraction_Review-g298507-d6502316-Reviews-I_Babushkin_Park_of_Culture_and_Leisure-St_Petersburg_Northwestern_District.html\n",
      "Page is ready!\n",
      "Page is ready!\n",
      "Page is ready!\n",
      "Page is ready!\n",
      "18\n",
      "https://www.tripadvisor.com/Attraction_Review-g298507-d8365376-Reviews-Sergiyevskiy_Park-St_Petersburg_Northwestern_District.html\n",
      "Page is ready!\n",
      "11\n",
      "https://www.tripadvisor.com/Attraction_Review-g298507-d9564597-Reviews-Pulkovskiy_Park-St_Petersburg_Northwestern_District.html\n",
      "Page is ready!\n",
      "Page is ready!\n",
      "11\n",
      "https://www.tripadvisor.com/Attraction_Review-g298507-d8818813-Reviews-Park_Aviatoroiv-St_Petersburg_Northwestern_District.html\n",
      "Page is ready!\n",
      "Page is ready!\n",
      "19\n",
      "https://www.tripadvisor.com/Attraction_Review-g298507-d10004822-Reviews-Sangalskiy_Garden-St_Petersburg_Northwestern_District.html\n",
      "Page is ready!\n",
      "11\n",
      "https://www.tripadvisor.com/Attraction_Review-g298507-d7132737-Reviews-South_Seaside_Park-St_Petersburg_Northwestern_District.html\n",
      "Page is ready!\n",
      "Page is ready!\n",
      "Page is ready!\n",
      "16\n",
      "https://www.tripadvisor.com/Attraction_Review-g298507-d8571569-Reviews-Park_of_Academician_Sakharov-St_Petersburg_Northwestern_District.html\n",
      "Page is ready!\n",
      "10\n",
      "https://www.tripadvisor.com/Attraction_Review-g298507-d12878743-Reviews-Izmailovskiy_Garden-St_Petersburg_Northwestern_District.html\n",
      "Page is ready!\n",
      "10\n",
      "https://www.tripadvisor.com/Attraction_Review-g298507-d11832127-Reviews-Park_Dekabristov-St_Petersburg_Northwestern_District.html\n",
      "Page is ready!\n",
      "7\n",
      "https://www.tripadvisor.com/Attraction_Review-g298507-d7790791-Reviews-Olga_Bergholz_Park-St_Petersburg_Northwestern_District.html\n",
      "Page is ready!\n",
      "9\n",
      "https://www.tripadvisor.com/Attraction_Review-g298507-d12711512-Reviews-Forestry_Academy_Park-St_Petersburg_Northwestern_District.html\n",
      "Page is ready!\n",
      "6\n",
      "https://www.tripadvisor.com/Attraction_Review-g298507-d8744600-Reviews-Yablonevy_Sad-St_Petersburg_Northwestern_District.html\n",
      "Page is ready!\n",
      "7\n",
      "https://www.tripadvisor.com/Attraction_Review-g298507-d10418712-Reviews-Kamskiy_Garden-St_Petersburg_Northwestern_District.html\n",
      "Page is ready!\n",
      "7\n",
      "https://www.tripadvisor.com/Attraction_Review-g298507-d10538589-Reviews-Garden_of_the_Little_Prince-St_Petersburg_Northwestern_District.html\n",
      "Page is ready!\n",
      "7\n",
      "https://www.tripadvisor.com/Attraction_Review-g298507-d14775168-Reviews-Bagrationovskiy_Skver-St_Petersburg_Northwestern_District.html\n",
      "Page is ready!\n",
      "2\n",
      "https://www.tripadvisor.com/Attraction_Review-g298507-d10629129-Reviews-Park_named_after_the_9th_of_January-St_Petersburg_Northwestern_District.html\n",
      "Page is ready!\n",
      "9\n",
      "https://www.tripadvisor.com/Attraction_Review-g298507-d10045398-Reviews-Uspenskiy_Park-St_Petersburg_Northwestern_District.html\n",
      "Page is ready!\n",
      "8\n",
      "https://www.tripadvisor.com/Attraction_Review-g298507-d14018242-Reviews-Sosnovaya_Polyana_Park-St_Petersburg_Northwestern_District.html\n",
      "Page is ready!\n",
      "2\n",
      "https://www.tripadvisor.com/Attraction_Review-g298507-d14957777-Reviews-V_F_Margelova_Park-St_Petersburg_Northwestern_District.html\n",
      "Page is ready!\n",
      "3\n",
      "https://www.tripadvisor.com/Attraction_Review-g298507-d11872141-Reviews-Malookhtinskiy_Park-St_Petersburg_Northwestern_District.html\n",
      "Page is ready!\n",
      "4\n",
      "https://www.tripadvisor.com/Attraction_Review-g298507-d11434709-Reviews-Neva_Garden-St_Petersburg_Northwestern_District.html\n",
      "Page is ready!\n",
      "4\n",
      "https://www.tripadvisor.com/Attraction_Review-g298507-d14775456-Reviews-Chernyshevskogo_Garden-St_Petersburg_Northwestern_District.html\n",
      "Page is ready!\n",
      "2\n",
      "https://www.tripadvisor.com/Attraction_Review-g298507-d19807906-Reviews-Park_Yesenina-St_Petersburg_Northwestern_District.html\n",
      "Page is ready!\n",
      "2\n",
      "https://www.tripadvisor.com/Attraction_Review-g2394587-d21250306-Reviews-Ostrov_Fortov-Kronshtadt_Kronshtadtsky_District_St_Petersburg_Northwestern_Dist.html\n",
      "Page is ready!\n",
      "9\n",
      "https://www.tripadvisor.com/Attraction_Review-g298507-d23129396-Reviews-Birzhevoi_skver-St_Petersburg_Northwestern_District.html\n",
      "Page is ready!\n",
      "4\n",
      "https://www.tripadvisor.com/Attraction_Review-g298507-d20961428-Reviews-Tikhiy_Otdykh_Park-St_Petersburg_Northwestern_District.html\n",
      "Page is ready!\n",
      "2\n",
      "https://www.tripadvisor.com/Attraction_Review-g298507-d20905816-Reviews-Garden_of_the_Winter_Palace-St_Petersburg_Northwestern_District.html\n",
      "Page is ready!\n",
      "4\n",
      "https://www.tripadvisor.com/Attraction_Review-g298507-d20937656-Reviews-Aleksandrino-St_Petersburg_Northwestern_District.html\n",
      "Page is ready!\n",
      "3\n",
      "https://www.tripadvisor.com/Attraction_Review-g2345793-d20911092-Reviews-Pogranichnikov_Park-Sestroretsk_Kurortny_District_St_Petersburg_Northwestern_Di.html\n",
      "Page is ready!\n",
      "3\n",
      "https://www.tripadvisor.com/Attraction_Review-g298507-d23170361-Reviews-Voronikhinsky_square-St_Petersburg_Northwestern_District.html\n",
      "Page is ready!\n",
      "2\n",
      "https://www.tripadvisor.com/Attraction_Review-g2394587-d21039548-Reviews-Metallist_Skver-Kronshtadt_Kronshtadtsky_District_St_Petersburg_Northwestern_Di.html\n",
      "Page is ready!\n",
      "2\n",
      "https://www.tripadvisor.com/Attraction_Review-g811323-d21000965-Reviews-Nizhniy_Park-Pushkin_Pushkinsky_District_St_Petersburg_Northwestern_District.html\n",
      "Page is ready!\n",
      "3\n",
      "https://www.tripadvisor.com/Attraction_Review-g298507-d23539638-Reviews-St_Petersburg_Northwestern_District.html\n",
      "Page is ready!\n",
      "2\n",
      "https://www.tripadvisor.com/Attraction_Review-g1207894-d23606038-Reviews-English_Park-Peterhof_Petrodvortsovy_District_St_Petersburg_Northwestern_Distri.html\n",
      "Page is ready!\n",
      "2\n",
      "https://www.tripadvisor.com/Attraction_Review-g298507-d20992887-Reviews-Nizhniy_Park-St_Petersburg_Northwestern_District.html\n",
      "Page is ready!\n",
      "1\n"
     ]
    }
   ],
   "source": [
    "driver = webdriver.Chrome(\"C:\\\\Users\\\\wirze\\\\DataspellProjects\\\\chromedriver_win32\\\\chromedriver.exe\")\n",
    "\n",
    "for link in df_links_city.link:\n",
    "    link_to_park = \"https://www.tripadvisor.com\"+link\n",
    "    if link not in df_links_city.link[0:4].tolist():\n",
    "        print(link_to_park)\n",
    "        i = 1\n",
    "        reviews = {}\n",
    "        driver.get(link_to_park)\n",
    "        time.sleep(5)\n",
    "        for j in range(50):\n",
    "\n",
    "            html = driver.page_source\n",
    "            soup = BeautifulSoup(html)\n",
    "\n",
    "            results_bodies = soup.find_all(\"div\", class_=\"pIRBV _T KRIav\")\n",
    "            for body in results_bodies:\n",
    "                if body.find(\"span\", class_=\"cSoNT\") is not None:\n",
    "                    reviews[i] = body.find(\"span\", class_=\"cSoNT\").text\n",
    "                    i += 1\n",
    "            try:\n",
    "                myElem = WebDriverWait(driver, delay).until(EC.presence_of_element_located((By.CLASS_NAME, 'KRIav')))\n",
    "                time.sleep(1)\n",
    "                NextPageElement = driver.find_elements_by_css_selector('[aria-label=\"Next page\"]')\n",
    "                print (\"Page is ready!\")\n",
    "            except TimeoutException:\n",
    "                print (\"Loading took too much time!\")\n",
    "                driver.refresh()\n",
    "                time.sleep(3)\n",
    "            if len(NextPageElement) == 0:\n",
    "                print(i)\n",
    "                break\n",
    "            WebDriverWait(driver, 20).until(EC.element_to_be_clickable((By.CSS_SELECTOR, '[aria-label=\"Next page\"]'))).click()\n",
    "            time.sleep(2)\n",
    "\n",
    "        time.sleep(5)\n",
    "        df_reviews_park = pd.DataFrame.from_dict(reviews,  orient='index', columns=[\"text\"]).reset_index()\n",
    "        df_reviews_park = df_reviews_park.rename(columns={\"index\": \"id\"})\n",
    "        df_reviews_park['link'] = link_to_park\n",
    "        df_reviews_park\n",
    "\n",
    "        reviews_df = pd.read_csv(city_name.lower()+\"_parks_reviews.csv\")\n",
    "        reviews_df\n",
    "\n",
    "        reviews_df2 = pd.concat([reviews_df, df_reviews_park], ignore_index=True)\n",
    "        reviews_df2 = reviews_df2[['id', 'text', 'link']]\n",
    "        reviews_df2.to_csv(city_name.lower()+\"_parks_reviews.csv\", index=False)"
   ],
   "metadata": {
    "collapsed": false,
    "pycharm": {
     "name": "#%%\n"
    }
   }
  },
  {
   "cell_type": "code",
   "execution_count": 344,
   "outputs": [
    {
     "data": {
      "text/plain": "      id                                               text  \\\n0      0                                              park4   \n1      1  This is a smaller scale beautiful palace with ...   \n2      2  Absolutely gorgeous. When you see this palace ...   \n3      3  Very pretty palace with nice reception rooms. ...   \n4      4  Visited here in October 2018 on a group tour w...   \n...   ..                                                ...   \n1945   1  На углу Петровской улицы и улицы Аммермана был...   \n1946   1  Цена за посещение завышена, да еще и закрыты в...   \n1947   2  Вход бесплатный, есть маленький пляж и водоём....   \n1948   1  В историческом Полюстровском парке мне понрави...   \n1949   1  В дали от основных туристических троп города м...   \n\n                                                   link  \n0                                                   www  \n1     https://www.tripadvisor.com/Attraction_Review-...  \n2     https://www.tripadvisor.com/Attraction_Review-...  \n3     https://www.tripadvisor.com/Attraction_Review-...  \n4     https://www.tripadvisor.com/Attraction_Review-...  \n...                                                 ...  \n1945  https://www.tripadvisor.com/Attraction_Review-...  \n1946  https://www.tripadvisor.com/Attraction_Review-...  \n1947  https://www.tripadvisor.com/Attraction_Review-...  \n1948  https://www.tripadvisor.com/Attraction_Review-...  \n1949  https://www.tripadvisor.com/Attraction_Review-...  \n\n[1950 rows x 3 columns]",
      "text/html": "<div>\n<style scoped>\n    .dataframe tbody tr th:only-of-type {\n        vertical-align: middle;\n    }\n\n    .dataframe tbody tr th {\n        vertical-align: top;\n    }\n\n    .dataframe thead th {\n        text-align: right;\n    }\n</style>\n<table border=\"1\" class=\"dataframe\">\n  <thead>\n    <tr style=\"text-align: right;\">\n      <th></th>\n      <th>id</th>\n      <th>text</th>\n      <th>link</th>\n    </tr>\n  </thead>\n  <tbody>\n    <tr>\n      <th>0</th>\n      <td>0</td>\n      <td>park4</td>\n      <td>www</td>\n    </tr>\n    <tr>\n      <th>1</th>\n      <td>1</td>\n      <td>This is a smaller scale beautiful palace with ...</td>\n      <td>https://www.tripadvisor.com/Attraction_Review-...</td>\n    </tr>\n    <tr>\n      <th>2</th>\n      <td>2</td>\n      <td>Absolutely gorgeous. When you see this palace ...</td>\n      <td>https://www.tripadvisor.com/Attraction_Review-...</td>\n    </tr>\n    <tr>\n      <th>3</th>\n      <td>3</td>\n      <td>Very pretty palace with nice reception rooms. ...</td>\n      <td>https://www.tripadvisor.com/Attraction_Review-...</td>\n    </tr>\n    <tr>\n      <th>4</th>\n      <td>4</td>\n      <td>Visited here in October 2018 on a group tour w...</td>\n      <td>https://www.tripadvisor.com/Attraction_Review-...</td>\n    </tr>\n    <tr>\n      <th>...</th>\n      <td>...</td>\n      <td>...</td>\n      <td>...</td>\n    </tr>\n    <tr>\n      <th>1945</th>\n      <td>1</td>\n      <td>На углу Петровской улицы и улицы Аммермана был...</td>\n      <td>https://www.tripadvisor.com/Attraction_Review-...</td>\n    </tr>\n    <tr>\n      <th>1946</th>\n      <td>1</td>\n      <td>Цена за посещение завышена, да еще и закрыты в...</td>\n      <td>https://www.tripadvisor.com/Attraction_Review-...</td>\n    </tr>\n    <tr>\n      <th>1947</th>\n      <td>2</td>\n      <td>Вход бесплатный, есть маленький пляж и водоём....</td>\n      <td>https://www.tripadvisor.com/Attraction_Review-...</td>\n    </tr>\n    <tr>\n      <th>1948</th>\n      <td>1</td>\n      <td>В историческом Полюстровском парке мне понрави...</td>\n      <td>https://www.tripadvisor.com/Attraction_Review-...</td>\n    </tr>\n    <tr>\n      <th>1949</th>\n      <td>1</td>\n      <td>В дали от основных туристических троп города м...</td>\n      <td>https://www.tripadvisor.com/Attraction_Review-...</td>\n    </tr>\n  </tbody>\n</table>\n<p>1950 rows × 3 columns</p>\n</div>"
     },
     "execution_count": 344,
     "metadata": {},
     "output_type": "execute_result"
    }
   ],
   "source": [
    "reviews_df"
   ],
   "metadata": {
    "collapsed": false,
    "pycharm": {
     "name": "#%%\n"
    }
   }
  },
  {
   "cell_type": "code",
   "execution_count": 244,
   "outputs": [],
   "source": [
    "reviews_df = pd.read_csv(\"moscow_parks_reviews.csv\")\n",
    "reviews_df\n",
    "\n",
    "# reviews_df2 = pd.concat([reviews_df, df_reviews_park], ignore_index=True)\n",
    "# reviews_df2 = reviews_df2[['id', 'text', 'link']]\n",
    "# reviews_df2.to_csv(\"moscow_parks_reviews.csv\", index=False)"
   ],
   "metadata": {
    "collapsed": false,
    "pycharm": {
     "name": "#%%\n"
    }
   }
  }
 ],
 "metadata": {
  "kernelspec": {
   "display_name": "Python 3",
   "language": "python",
   "name": "python3"
  },
  "language_info": {
   "codemirror_mode": {
    "name": "ipython",
    "version": 2
   },
   "file_extension": ".py",
   "mimetype": "text/x-python",
   "name": "python",
   "nbconvert_exporter": "python",
   "pygments_lexer": "ipython2",
   "version": "2.7.6"
  }
 },
 "nbformat": 4,
 "nbformat_minor": 0
}