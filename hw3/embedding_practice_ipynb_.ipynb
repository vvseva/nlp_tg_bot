{
 "nbformat": 4,
 "nbformat_minor": 0,
 "metadata": {
  "kernelspec": {
   "display_name": "Python 3",
   "language": "python",
   "name": "python3"
  },
  "language_info": {
   "codemirror_mode": {
    "name": "ipython",
    "version": 3
   },
   "file_extension": ".py",
   "mimetype": "text/x-python",
   "name": "python",
   "nbconvert_exporter": "python",
   "pygments_lexer": "ipython3",
   "version": "3.7.4"
  },
  "colab": {
   "name": "embedding practice.ipynb\"",
   "provenance": []
  }
 },
 "cells": [
  {
   "cell_type": "code",
   "metadata": {
    "id": "581q5q2LuZ_X"
   },
   "source": [
    "from sklearn.datasets import fetch_20newsgroups\n",
    "newsgroups_train = fetch_20newsgroups(subset='train')\n",
    "import pandas as pd"
   ],
   "execution_count": null,
   "outputs": []
  },
  {
   "cell_type": "code",
   "metadata": {
    "id": "oLPTO4AAuZ_Z"
   },
   "source": [
    "df = pd.DataFrame({'text':newsgroups_train.data, 'target':newsgroups_train.target})"
   ],
   "execution_count": null,
   "outputs": []
  },
  {
   "cell_type": "code",
   "metadata": {
    "id": "nVFzZF7SuZ_Z",
    "colab": {
     "base_uri": "https://localhost:8080/",
     "height": 103
    },
    "outputId": "700171ca-9d85-4d36-a701-a7201a0ff7c8"
   },
   "source": [
    "df.loc[0,'text']"
   ],
   "execution_count": null,
   "outputs": [
    {
     "output_type": "execute_result",
     "data": {
      "application/vnd.google.colaboratory.intrinsic+json": {
       "type": "string"
      },
      "text/plain": [
       "\"From: lerxst@wam.umd.edu (where's my thing)\\nSubject: WHAT car is this!?\\nNntp-Posting-Host: rac3.wam.umd.edu\\nOrganization: University of Maryland, College Park\\nLines: 15\\n\\n I was wondering if anyone out there could enlighten me on this car I saw\\nthe other day. It was a 2-door sports car, looked to be from the late 60s/\\nearly 70s. It was called a Bricklin. The doors were really small. In addition,\\nthe front bumper was separate from the rest of the body. This is \\nall I know. If anyone can tellme a model name, engine specs, years\\nof production, where this car is made, history, or whatever info you\\nhave on this funky looking car, please e-mail.\\n\\nThanks,\\n- IL\\n   ---- brought to you by your neighborhood Lerxst ----\\n\\n\\n\\n\\n\""
      ]
     },
     "metadata": {},
     "execution_count": 6
    }
   ]
  },
  {
   "cell_type": "code",
   "metadata": {
    "id": "cHmmrKsYuZ_a"
   },
   "source": [
    "from gensim.models import Word2Vec\n",
    "from gensim.models.doc2vec import Doc2Vec, TaggedDocument\n",
    "from nltk.tokenize import word_tokenize\n",
    "import multiprocessing\n",
    "cores = multiprocessing.cpu_count()"
   ],
   "execution_count": null,
   "outputs": []
  },
  {
   "cell_type": "markdown",
   "metadata": {
    "id": "xHtY21twuZ_a"
   },
   "source": [
    "### Word2vec Example "
   ]
  },
  {
   "cell_type": "markdown",
   "metadata": {
    "id": "6AQvCKasuZ_b"
   },
   "source": [
    "![](https://github.com/sergeyfitts/nlp_hse/blob/master/week7/params.png?raw=1)"
   ]
  },
  {
   "cell_type": "code",
   "metadata": {
    "id": "-NMgeq3duZ_b"
   },
   "source": [
    "w2v_model = Word2Vec(min_count=20,\n",
    "                     window=2,\n",
    "                     size=300,\n",
    "                     sample=1e-5, \n",
    "                     alpha=0.03, \n",
    "                     min_alpha=0.0007, \n",
    "                     negative=20,\n",
    "                     workers=cores-1)"
   ],
   "execution_count": null,
   "outputs": []
  },
  {
   "cell_type": "code",
   "metadata": {
    "id": "eST2D0CHuZ_c"
   },
   "source": [
    "w2v_model.build_vocab([i.split() for i in df.text], progress_per=10000)\n",
    "w2v_model.train([i.split() for i in df.text], total_examples=w2v_model.corpus_count, epochs=30, report_delay=1)\n",
    "w2v_model.init_sims(replace=True)"
   ],
   "execution_count": null,
   "outputs": []
  },
  {
   "cell_type": "code",
   "metadata": {
    "id": "9DCtADA9uZ_d",
    "colab": {
     "base_uri": "https://localhost:8080/"
    },
    "outputId": "f8ba7614-c6b4-4fdf-f6a8-0cbf4063ffab"
   },
   "source": [
    "w2v_model.wv.most_similar(positive=[\"machine\"])"
   ],
   "execution_count": null,
   "outputs": [
    {
     "output_type": "execute_result",
     "data": {
      "text/plain": [
       "[('running', 0.6741992831230164),\n",
       " ('locks', 0.6659230589866638),\n",
       " ('installed.', 0.651772141456604),\n",
       " ('unix', 0.6476942300796509),\n",
       " ('installed,', 0.6316647529602051),\n",
       " ('machine,', 0.6204047799110413),\n",
       " ('keyseach', 0.6066868305206299),\n",
       " ('running,', 0.5999594926834106),\n",
       " ('store.', 0.5720880031585693),\n",
       " ('hangs', 0.5705453157424927)]"
      ]
     },
     "metadata": {},
     "execution_count": 9
    }
   ]
  },
  {
   "cell_type": "code",
   "metadata": {
    "id": "mBqbXw7HuZ_d",
    "outputId": "60bf826c-ce6a-4c63-de65-19c008a6f876"
   },
   "source": [
    "len(w2v_model.wv['machine'])"
   ],
   "execution_count": null,
   "outputs": [
    {
     "data": {
      "text/plain": [
       "300"
      ]
     },
     "execution_count": 83,
     "metadata": {},
     "output_type": "execute_result"
    }
   ]
  },
  {
   "cell_type": "code",
   "metadata": {
    "id": "N958EW1BEhU2",
    "colab": {
     "base_uri": "https://localhost:8080/"
    },
    "outputId": "9df97f17-43a9-4660-ad8c-862af30ce74c"
   },
   "source": [
    "# king-man+woman=queen\n",
    "w2v_model.wv.most_similar(positive=[\"king\",\"woman\"], negative=[\"man\"])"
   ],
   "execution_count": null,
   "outputs": [
    {
     "output_type": "execute_result",
     "data": {
      "text/plain": [
       "[('raped', 0.7218968272209167),\n",
       " ('father,', 0.7074660062789917),\n",
       " ('Lyuda', 0.7062985897064209),\n",
       " ('brothers', 0.6849087476730347),\n",
       " ('woman,', 0.6822104454040527),\n",
       " ('Karina', 0.679212749004364),\n",
       " ('apartment.', 0.6756207942962646),\n",
       " ('apartment,', 0.6754775643348694),\n",
       " ('her.', 0.6744227409362793),\n",
       " ('promptly', 0.6734017133712769)]"
      ]
     },
     "metadata": {},
     "execution_count": 12
    }
   ]
  },
  {
   "cell_type": "markdown",
   "metadata": {
    "id": "PeiWf6AjuZ_e"
   },
   "source": [
    "[intersting source](https://www.kaggle.com/pierremegret/gensim-word2vec-tutorial)"
   ]
  },
  {
   "cell_type": "markdown",
   "metadata": {
    "id": "QonDbkmauZ_e"
   },
   "source": [
    "### Doc2vec Example"
   ]
  },
  {
   "cell_type": "code",
   "metadata": {
    "id": "hNO9vNDCFoiP",
    "colab": {
     "base_uri": "https://localhost:8080/"
    },
    "outputId": "ff791b0e-01dd-4f23-f6d3-b89db7ec4c00"
   },
   "source": [
    "import nltk\n",
    "nltk.download('punkt')"
   ],
   "execution_count": null,
   "outputs": [
    {
     "output_type": "stream",
     "name": "stdout",
     "text": [
      "[nltk_data] Downloading package punkt to /root/nltk_data...\n",
      "[nltk_data]   Unzipping tokenizers/punkt.zip.\n"
     ]
    },
    {
     "output_type": "execute_result",
     "data": {
      "text/plain": [
       "True"
      ]
     },
     "metadata": {},
     "execution_count": 15
    }
   ]
  },
  {
   "cell_type": "code",
   "metadata": {
    "id": "zxBlABS7uZ_e"
   },
   "source": [
    "data = [\"I love machine learning. Its awesome.\",\n",
    "        \"I love coding in python\",\n",
    "        \"I love building chatbots\",\n",
    "        \"they chat amagingly well\"]\n",
    "tagged_data = [TaggedDocument(words=word_tokenize(_d.lower()), tags=[str(i)]) for i, _d in enumerate(data)]"
   ],
   "execution_count": null,
   "outputs": []
  },
  {
   "cell_type": "markdown",
   "metadata": {
    "id": "5MFSmxK1uZ_f"
   },
   "source": [
    "dm defines the training algorithm. If dm=1 means ‘distributed memory’ (PV-DM) and dm =0 means ‘distributed bag of words’ (PV-DBOW). Distributed Memory model preserves the word order in a document whereas Distributed Bag of words just uses the bag of words approach, which doesn’t preserve any word order."
   ]
  },
  {
   "cell_type": "code",
   "metadata": {
    "collapsed": true,
    "jupyter": {
     "outputs_hidden": true
    },
    "id": "IUfdbYg5uZ_f",
    "colab": {
     "base_uri": "https://localhost:8080/"
    },
    "outputId": "f5d92c2b-6ab2-4d02-e430-468084376784"
   },
   "source": [
    "max_epochs = 100\n",
    "vec_size = 20\n",
    "alpha = 0.025\n",
    "\n",
    "model = Doc2Vec(size=vec_size,\n",
    "                alpha=alpha, \n",
    "                min_alpha=0.00025,\n",
    "                min_count=1,\n",
    "                dm=1)\n",
    "  \n",
    "model.build_vocab(tagged_data)\n",
    "\n",
    "for epoch in range(max_epochs):\n",
    "    print('iteration {0}'.format(epoch))\n",
    "    model.train(tagged_data,\n",
    "                total_examples=model.corpus_count,\n",
    "                epochs=model.iter)\n",
    "    # decrease the learning rate\n",
    "    model.alpha -= 0.0002\n",
    "    # fix the learning rate, no decay\n",
    "    model.min_alpha = model.alpha"
   ],
   "execution_count": null,
   "outputs": [
    {
     "output_type": "stream",
     "name": "stderr",
     "text": [
      "/usr/local/lib/python3.7/dist-packages/gensim/models/doc2vec.py:570: UserWarning: The parameter `size` is deprecated, will be removed in 4.0.0, use `vector_size` instead.\n",
      "  warnings.warn(\"The parameter `size` is deprecated, will be removed in 4.0.0, use `vector_size` instead.\")\n",
      "/usr/local/lib/python3.7/dist-packages/ipykernel_launcher.py:17: DeprecationWarning: Call to deprecated `iter` (Attribute will be removed in 4.0.0, use self.epochs instead).\n"
     ]
    },
    {
     "output_type": "stream",
     "name": "stdout",
     "text": [
      "iteration 0\n",
      "iteration 1\n",
      "iteration 2\n",
      "iteration 3\n",
      "iteration 4\n",
      "iteration 5\n",
      "iteration 6\n",
      "iteration 7\n",
      "iteration 8\n",
      "iteration 9\n",
      "iteration 10\n",
      "iteration 11\n",
      "iteration 12\n",
      "iteration 13\n",
      "iteration 14\n",
      "iteration 15\n",
      "iteration 16\n",
      "iteration 17\n",
      "iteration 18\n",
      "iteration 19\n",
      "iteration 20\n",
      "iteration 21\n",
      "iteration 22\n",
      "iteration 23\n",
      "iteration 24\n",
      "iteration 25\n",
      "iteration 26\n",
      "iteration 27\n",
      "iteration 28\n",
      "iteration 29\n",
      "iteration 30\n",
      "iteration 31\n",
      "iteration 32\n",
      "iteration 33\n",
      "iteration 34\n",
      "iteration 35\n",
      "iteration 36\n",
      "iteration 37\n",
      "iteration 38\n",
      "iteration 39\n",
      "iteration 40\n",
      "iteration 41\n",
      "iteration 42\n",
      "iteration 43\n",
      "iteration 44\n",
      "iteration 45\n",
      "iteration 46\n",
      "iteration 47\n",
      "iteration 48\n",
      "iteration 49\n",
      "iteration 50\n",
      "iteration 51\n",
      "iteration 52\n",
      "iteration 53\n",
      "iteration 54\n",
      "iteration 55\n",
      "iteration 56\n",
      "iteration 57\n",
      "iteration 58\n",
      "iteration 59\n",
      "iteration 60\n",
      "iteration 61\n",
      "iteration 62\n",
      "iteration 63\n",
      "iteration 64\n",
      "iteration 65\n",
      "iteration 66\n",
      "iteration 67\n",
      "iteration 68\n",
      "iteration 69\n",
      "iteration 70\n",
      "iteration 71\n",
      "iteration 72\n",
      "iteration 73\n",
      "iteration 74\n",
      "iteration 75\n",
      "iteration 76\n",
      "iteration 77\n",
      "iteration 78\n",
      "iteration 79\n",
      "iteration 80\n",
      "iteration 81\n",
      "iteration 82\n",
      "iteration 83\n",
      "iteration 84\n",
      "iteration 85\n",
      "iteration 86\n",
      "iteration 87\n",
      "iteration 88\n",
      "iteration 89\n",
      "iteration 90\n",
      "iteration 91\n",
      "iteration 92\n",
      "iteration 93\n",
      "iteration 94\n",
      "iteration 95\n",
      "iteration 96\n",
      "iteration 97\n",
      "iteration 98\n",
      "iteration 99\n"
     ]
    }
   ]
  },
  {
   "cell_type": "code",
   "metadata": {
    "id": "VLh5t4iGuZ_f",
    "colab": {
     "base_uri": "https://localhost:8080/"
    },
    "outputId": "c0948149-fb69-43ce-d331-39c441835d8d"
   },
   "source": [
    "model.infer_vector(\"I love chatbots\".lower().split())"
   ],
   "execution_count": null,
   "outputs": [
    {
     "output_type": "execute_result",
     "data": {
      "text/plain": [
       "array([ 0.00141212,  0.01647103, -0.00027063, -0.02029978,  0.00365317,\n",
       "        0.0046502 ,  0.03020738,  0.02369142, -0.0048711 ,  0.00185603,\n",
       "        0.00405063, -0.01471705,  0.01511542,  0.01226789,  0.00571584,\n",
       "        0.01378375,  0.01134647, -0.02424124,  0.02237709,  0.00783969],\n",
       "      dtype=float32)"
      ]
     },
     "metadata": {},
     "execution_count": 18
    }
   ]
  },
  {
   "cell_type": "markdown",
   "metadata": {
    "id": "tETAEM-ruZ_f"
   },
   "source": [
    "[worth visiting](https://medium.com/@mishra.thedeepak/doc2vec-simple-implementation-example-df2afbbfbad5)"
   ]
  },
  {
   "cell_type": "markdown",
   "metadata": {
    "id": "lsfSyZb6uZ_f"
   },
   "source": [
    "### Problem"
   ]
  },
  {
   "cell_type": "markdown",
   "metadata": {
    "id": "yodRgqTJuZ_g"
   },
   "source": [
    "---\n",
    "1) векторизовать тексты с помощью tf-idf <br>\n",
    "2) векторизовать тексты с помощью word2vec <br>\n",
    "3) обучить классификатор (любой, например knn) <br>\n",
    "4) сравнить качество, и ответить на вопрос, улучшает ли векоризация качество модели"
   ]
  },
  {
   "cell_type": "code",
   "metadata": {
    "id": "Xt40Ue5SHhSN"
   },
   "source": [
    ""
   ],
   "execution_count": null,
   "outputs": []
  }
 ]
}